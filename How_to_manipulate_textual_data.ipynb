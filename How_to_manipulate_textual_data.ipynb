{
  "cells": [
    {
      "cell_type": "markdown",
      "metadata": {
        "id": "view-in-github",
        "colab_type": "text"
      },
      "source": [
        "<a href=\"https://colab.research.google.com/github/JiHoonYoon00/mulcamp34/blob/main/How_to_manipulate_textual_data.ipynb\" target=\"_parent\"><img src=\"https://colab.research.google.com/assets/colab-badge.svg\" alt=\"Open In Colab\"/></a>"
      ]
    },
    {
      "cell_type": "code",
      "execution_count": null,
      "id": "330c87f8-44af-46f2-b1df-eb408b6860f8",
      "metadata": {
        "id": "330c87f8-44af-46f2-b1df-eb408b6860f8"
      },
      "outputs": [],
      "source": [
        "import pandas as pd\n",
        "import numpy as np\n",
        "import seaborn as sns"
      ]
    },
    {
      "cell_type": "code",
      "execution_count": null,
      "id": "97fc4303-0abe-483c-aba9-d3f72c2baf50",
      "metadata": {
        "id": "97fc4303-0abe-483c-aba9-d3f72c2baf50"
      },
      "outputs": [],
      "source": [
        "titanic = pd.read_csv('https://raw.githubusercontent.com/pandas-dev/pandas/main/doc/data/titanic.csv')"
      ]
    },
    {
      "cell_type": "code",
      "execution_count": null,
      "id": "375e8f3f-cf8e-45f2-a409-b135e4d5f59c",
      "metadata": {
        "id": "375e8f3f-cf8e-45f2-a409-b135e4d5f59c",
        "outputId": "4eccd2eb-c1ee-43cb-f33b-101c9cb17716"
      },
      "outputs": [
        {
          "data": {
            "text/html": [
              "<div>\n",
              "<style scoped>\n",
              "    .dataframe tbody tr th:only-of-type {\n",
              "        vertical-align: middle;\n",
              "    }\n",
              "\n",
              "    .dataframe tbody tr th {\n",
              "        vertical-align: top;\n",
              "    }\n",
              "\n",
              "    .dataframe thead th {\n",
              "        text-align: right;\n",
              "    }\n",
              "</style>\n",
              "<table border=\"1\" class=\"dataframe\">\n",
              "  <thead>\n",
              "    <tr style=\"text-align: right;\">\n",
              "      <th></th>\n",
              "      <th>PassengerId</th>\n",
              "      <th>Survived</th>\n",
              "      <th>Pclass</th>\n",
              "      <th>Name</th>\n",
              "      <th>Sex</th>\n",
              "      <th>Age</th>\n",
              "      <th>SibSp</th>\n",
              "      <th>Parch</th>\n",
              "      <th>Ticket</th>\n",
              "      <th>Fare</th>\n",
              "      <th>Cabin</th>\n",
              "      <th>Embarked</th>\n",
              "    </tr>\n",
              "  </thead>\n",
              "  <tbody>\n",
              "    <tr>\n",
              "      <th>0</th>\n",
              "      <td>1</td>\n",
              "      <td>0</td>\n",
              "      <td>3</td>\n",
              "      <td>Braund, Mr. Owen Harris</td>\n",
              "      <td>male</td>\n",
              "      <td>22.0</td>\n",
              "      <td>1</td>\n",
              "      <td>0</td>\n",
              "      <td>A/5 21171</td>\n",
              "      <td>7.2500</td>\n",
              "      <td>NaN</td>\n",
              "      <td>S</td>\n",
              "    </tr>\n",
              "    <tr>\n",
              "      <th>1</th>\n",
              "      <td>2</td>\n",
              "      <td>1</td>\n",
              "      <td>1</td>\n",
              "      <td>Cumings, Mrs. John Bradley (Florence Briggs Th...</td>\n",
              "      <td>female</td>\n",
              "      <td>38.0</td>\n",
              "      <td>1</td>\n",
              "      <td>0</td>\n",
              "      <td>PC 17599</td>\n",
              "      <td>71.2833</td>\n",
              "      <td>C85</td>\n",
              "      <td>C</td>\n",
              "    </tr>\n",
              "    <tr>\n",
              "      <th>2</th>\n",
              "      <td>3</td>\n",
              "      <td>1</td>\n",
              "      <td>3</td>\n",
              "      <td>Heikkinen, Miss. Laina</td>\n",
              "      <td>female</td>\n",
              "      <td>26.0</td>\n",
              "      <td>0</td>\n",
              "      <td>0</td>\n",
              "      <td>STON/O2. 3101282</td>\n",
              "      <td>7.9250</td>\n",
              "      <td>NaN</td>\n",
              "      <td>S</td>\n",
              "    </tr>\n",
              "    <tr>\n",
              "      <th>3</th>\n",
              "      <td>4</td>\n",
              "      <td>1</td>\n",
              "      <td>1</td>\n",
              "      <td>Futrelle, Mrs. Jacques Heath (Lily May Peel)</td>\n",
              "      <td>female</td>\n",
              "      <td>35.0</td>\n",
              "      <td>1</td>\n",
              "      <td>0</td>\n",
              "      <td>113803</td>\n",
              "      <td>53.1000</td>\n",
              "      <td>C123</td>\n",
              "      <td>S</td>\n",
              "    </tr>\n",
              "    <tr>\n",
              "      <th>4</th>\n",
              "      <td>5</td>\n",
              "      <td>0</td>\n",
              "      <td>3</td>\n",
              "      <td>Allen, Mr. William Henry</td>\n",
              "      <td>male</td>\n",
              "      <td>35.0</td>\n",
              "      <td>0</td>\n",
              "      <td>0</td>\n",
              "      <td>373450</td>\n",
              "      <td>8.0500</td>\n",
              "      <td>NaN</td>\n",
              "      <td>S</td>\n",
              "    </tr>\n",
              "    <tr>\n",
              "      <th>...</th>\n",
              "      <td>...</td>\n",
              "      <td>...</td>\n",
              "      <td>...</td>\n",
              "      <td>...</td>\n",
              "      <td>...</td>\n",
              "      <td>...</td>\n",
              "      <td>...</td>\n",
              "      <td>...</td>\n",
              "      <td>...</td>\n",
              "      <td>...</td>\n",
              "      <td>...</td>\n",
              "      <td>...</td>\n",
              "    </tr>\n",
              "    <tr>\n",
              "      <th>886</th>\n",
              "      <td>887</td>\n",
              "      <td>0</td>\n",
              "      <td>2</td>\n",
              "      <td>Montvila, Rev. Juozas</td>\n",
              "      <td>male</td>\n",
              "      <td>27.0</td>\n",
              "      <td>0</td>\n",
              "      <td>0</td>\n",
              "      <td>211536</td>\n",
              "      <td>13.0000</td>\n",
              "      <td>NaN</td>\n",
              "      <td>S</td>\n",
              "    </tr>\n",
              "    <tr>\n",
              "      <th>887</th>\n",
              "      <td>888</td>\n",
              "      <td>1</td>\n",
              "      <td>1</td>\n",
              "      <td>Graham, Miss. Margaret Edith</td>\n",
              "      <td>female</td>\n",
              "      <td>19.0</td>\n",
              "      <td>0</td>\n",
              "      <td>0</td>\n",
              "      <td>112053</td>\n",
              "      <td>30.0000</td>\n",
              "      <td>B42</td>\n",
              "      <td>S</td>\n",
              "    </tr>\n",
              "    <tr>\n",
              "      <th>888</th>\n",
              "      <td>889</td>\n",
              "      <td>0</td>\n",
              "      <td>3</td>\n",
              "      <td>Johnston, Miss. Catherine Helen \"Carrie\"</td>\n",
              "      <td>female</td>\n",
              "      <td>NaN</td>\n",
              "      <td>1</td>\n",
              "      <td>2</td>\n",
              "      <td>W./C. 6607</td>\n",
              "      <td>23.4500</td>\n",
              "      <td>NaN</td>\n",
              "      <td>S</td>\n",
              "    </tr>\n",
              "    <tr>\n",
              "      <th>889</th>\n",
              "      <td>890</td>\n",
              "      <td>1</td>\n",
              "      <td>1</td>\n",
              "      <td>Behr, Mr. Karl Howell</td>\n",
              "      <td>male</td>\n",
              "      <td>26.0</td>\n",
              "      <td>0</td>\n",
              "      <td>0</td>\n",
              "      <td>111369</td>\n",
              "      <td>30.0000</td>\n",
              "      <td>C148</td>\n",
              "      <td>C</td>\n",
              "    </tr>\n",
              "    <tr>\n",
              "      <th>890</th>\n",
              "      <td>891</td>\n",
              "      <td>0</td>\n",
              "      <td>3</td>\n",
              "      <td>Dooley, Mr. Patrick</td>\n",
              "      <td>male</td>\n",
              "      <td>32.0</td>\n",
              "      <td>0</td>\n",
              "      <td>0</td>\n",
              "      <td>370376</td>\n",
              "      <td>7.7500</td>\n",
              "      <td>NaN</td>\n",
              "      <td>Q</td>\n",
              "    </tr>\n",
              "  </tbody>\n",
              "</table>\n",
              "<p>891 rows × 12 columns</p>\n",
              "</div>"
            ],
            "text/plain": [
              "     PassengerId  Survived  Pclass  \\\n",
              "0              1         0       3   \n",
              "1              2         1       1   \n",
              "2              3         1       3   \n",
              "3              4         1       1   \n",
              "4              5         0       3   \n",
              "..           ...       ...     ...   \n",
              "886          887         0       2   \n",
              "887          888         1       1   \n",
              "888          889         0       3   \n",
              "889          890         1       1   \n",
              "890          891         0       3   \n",
              "\n",
              "                                                  Name     Sex   Age  SibSp  \\\n",
              "0                              Braund, Mr. Owen Harris    male  22.0      1   \n",
              "1    Cumings, Mrs. John Bradley (Florence Briggs Th...  female  38.0      1   \n",
              "2                               Heikkinen, Miss. Laina  female  26.0      0   \n",
              "3         Futrelle, Mrs. Jacques Heath (Lily May Peel)  female  35.0      1   \n",
              "4                             Allen, Mr. William Henry    male  35.0      0   \n",
              "..                                                 ...     ...   ...    ...   \n",
              "886                              Montvila, Rev. Juozas    male  27.0      0   \n",
              "887                       Graham, Miss. Margaret Edith  female  19.0      0   \n",
              "888           Johnston, Miss. Catherine Helen \"Carrie\"  female   NaN      1   \n",
              "889                              Behr, Mr. Karl Howell    male  26.0      0   \n",
              "890                                Dooley, Mr. Patrick    male  32.0      0   \n",
              "\n",
              "     Parch            Ticket     Fare Cabin Embarked  \n",
              "0        0         A/5 21171   7.2500   NaN        S  \n",
              "1        0          PC 17599  71.2833   C85        C  \n",
              "2        0  STON/O2. 3101282   7.9250   NaN        S  \n",
              "3        0            113803  53.1000  C123        S  \n",
              "4        0            373450   8.0500   NaN        S  \n",
              "..     ...               ...      ...   ...      ...  \n",
              "886      0            211536  13.0000   NaN        S  \n",
              "887      0            112053  30.0000   B42        S  \n",
              "888      2        W./C. 6607  23.4500   NaN        S  \n",
              "889      0            111369  30.0000  C148        C  \n",
              "890      0            370376   7.7500   NaN        Q  \n",
              "\n",
              "[891 rows x 12 columns]"
            ]
          },
          "execution_count": 3,
          "metadata": {},
          "output_type": "execute_result"
        }
      ],
      "source": [
        "titanic"
      ]
    },
    {
      "cell_type": "code",
      "execution_count": null,
      "id": "b5a1286c-d11c-44b1-9ab8-3bac801b1bb7",
      "metadata": {
        "id": "b5a1286c-d11c-44b1-9ab8-3bac801b1bb7",
        "outputId": "08fe6073-d7e6-4052-e0e2-6e3dfa4ad307"
      },
      "outputs": [
        {
          "data": {
            "text/plain": [
              "0                                braund, mr. owen harris\n",
              "1      cumings, mrs. john bradley (florence briggs th...\n",
              "2                                 heikkinen, miss. laina\n",
              "3           futrelle, mrs. jacques heath (lily may peel)\n",
              "4                               allen, mr. william henry\n",
              "                             ...                        \n",
              "886                                montvila, rev. juozas\n",
              "887                         graham, miss. margaret edith\n",
              "888             johnston, miss. catherine helen \"carrie\"\n",
              "889                                behr, mr. karl howell\n",
              "890                                  dooley, mr. patrick\n",
              "Name: Name, Length: 891, dtype: object"
            ]
          },
          "execution_count": 4,
          "metadata": {},
          "output_type": "execute_result"
        }
      ],
      "source": [
        "titanic['Name'].str.lower()  #소문자 만들기"
      ]
    },
    {
      "cell_type": "code",
      "execution_count": null,
      "id": "b8886c0c-1988-4051-b10b-d3b84db6e5ff",
      "metadata": {
        "id": "b8886c0c-1988-4051-b10b-d3b84db6e5ff",
        "outputId": "8e82b12f-eada-4370-d76b-139deca59812"
      },
      "outputs": [
        {
          "data": {
            "text/plain": [
              "0                             [Braund,  Mr. Owen Harris]\n",
              "1      [Cumings,  Mrs. John Bradley (Florence Briggs ...\n",
              "2                              [Heikkinen,  Miss. Laina]\n",
              "3        [Futrelle,  Mrs. Jacques Heath (Lily May Peel)]\n",
              "4                            [Allen,  Mr. William Henry]\n",
              "                             ...                        \n",
              "886                             [Montvila,  Rev. Juozas]\n",
              "887                      [Graham,  Miss. Margaret Edith]\n",
              "888          [Johnston,  Miss. Catherine Helen \"Carrie\"]\n",
              "889                             [Behr,  Mr. Karl Howell]\n",
              "890                               [Dooley,  Mr. Patrick]\n",
              "Name: Name, Length: 891, dtype: object"
            ]
          },
          "execution_count": 5,
          "metadata": {},
          "output_type": "execute_result"
        }
      ],
      "source": [
        "titanic['Name'].str.split(',') #쉼표로 나누기"
      ]
    },
    {
      "cell_type": "code",
      "execution_count": null,
      "id": "c1334a6b-5988-47b4-847e-3b5faacf8a2a",
      "metadata": {
        "id": "c1334a6b-5988-47b4-847e-3b5faacf8a2a",
        "outputId": "3d87d833-071b-43f2-eb3b-20708527f95d"
      },
      "outputs": [
        {
          "data": {
            "text/plain": [
              "0         Braund\n",
              "1        Cumings\n",
              "2      Heikkinen\n",
              "3       Futrelle\n",
              "4          Allen\n",
              "         ...    \n",
              "886     Montvila\n",
              "887       Graham\n",
              "888     Johnston\n",
              "889         Behr\n",
              "890       Dooley\n",
              "Name: Surname, Length: 891, dtype: object"
            ]
          },
          "execution_count": 7,
          "metadata": {},
          "output_type": "execute_result"
        }
      ],
      "source": [
        "titanic['Surname'] = titanic['Name'].str.split(',').str.get(0)\n",
        "titanic['Surname']\n",
        "#str.get(0)는 성부분인 index 0번만 추출하는 함수"
      ]
    },
    {
      "cell_type": "markdown",
      "id": "a7cd1777-27dd-4bbc-9459-49ed0e2d3cba",
      "metadata": {
        "id": "a7cd1777-27dd-4bbc-9459-49ed0e2d3cba"
      },
      "source": [
        "- Countess에 대한 데이터 뽑기\n",
        "  "
      ]
    },
    {
      "cell_type": "code",
      "execution_count": null,
      "id": "a94a982b-2abd-4656-8cee-7f11e1de21f1",
      "metadata": {
        "id": "a94a982b-2abd-4656-8cee-7f11e1de21f1",
        "outputId": "9c4aad01-8cdd-4847-d578-3e6fa68fe993"
      },
      "outputs": [
        {
          "data": {
            "text/plain": [
              "0      False\n",
              "1      False\n",
              "2      False\n",
              "3      False\n",
              "4      False\n",
              "       ...  \n",
              "886    False\n",
              "887    False\n",
              "888    False\n",
              "889    False\n",
              "890    False\n",
              "Name: Name, Length: 891, dtype: bool"
            ]
          },
          "execution_count": 9,
          "metadata": {},
          "output_type": "execute_result"
        }
      ],
      "source": [
        "titanic['Name'].str.contains('Countess') #불린값 추출 .contains 는 문자열이 포함되어 있는지 확인하는 함수"
      ]
    },
    {
      "cell_type": "code",
      "execution_count": null,
      "id": "8313ef6a-f6f5-4004-a8e7-6415b0334455",
      "metadata": {
        "id": "8313ef6a-f6f5-4004-a8e7-6415b0334455",
        "outputId": "0aacb157-a126-4bc3-f43f-053c42bdf5a0"
      },
      "outputs": [
        {
          "data": {
            "text/html": [
              "<div>\n",
              "<style scoped>\n",
              "    .dataframe tbody tr th:only-of-type {\n",
              "        vertical-align: middle;\n",
              "    }\n",
              "\n",
              "    .dataframe tbody tr th {\n",
              "        vertical-align: top;\n",
              "    }\n",
              "\n",
              "    .dataframe thead th {\n",
              "        text-align: right;\n",
              "    }\n",
              "</style>\n",
              "<table border=\"1\" class=\"dataframe\">\n",
              "  <thead>\n",
              "    <tr style=\"text-align: right;\">\n",
              "      <th></th>\n",
              "      <th>PassengerId</th>\n",
              "      <th>Survived</th>\n",
              "      <th>Pclass</th>\n",
              "      <th>Name</th>\n",
              "      <th>Sex</th>\n",
              "      <th>Age</th>\n",
              "      <th>SibSp</th>\n",
              "      <th>Parch</th>\n",
              "      <th>Ticket</th>\n",
              "      <th>Fare</th>\n",
              "      <th>Cabin</th>\n",
              "      <th>Embarked</th>\n",
              "      <th>Surname</th>\n",
              "    </tr>\n",
              "  </thead>\n",
              "  <tbody>\n",
              "    <tr>\n",
              "      <th>759</th>\n",
              "      <td>760</td>\n",
              "      <td>1</td>\n",
              "      <td>1</td>\n",
              "      <td>Rothes, the Countess. of (Lucy Noel Martha Dye...</td>\n",
              "      <td>female</td>\n",
              "      <td>33.0</td>\n",
              "      <td>0</td>\n",
              "      <td>0</td>\n",
              "      <td>110152</td>\n",
              "      <td>86.5</td>\n",
              "      <td>B77</td>\n",
              "      <td>S</td>\n",
              "      <td>Rothes</td>\n",
              "    </tr>\n",
              "  </tbody>\n",
              "</table>\n",
              "</div>"
            ],
            "text/plain": [
              "     PassengerId  Survived  Pclass  \\\n",
              "759          760         1       1   \n",
              "\n",
              "                                                  Name     Sex   Age  SibSp  \\\n",
              "759  Rothes, the Countess. of (Lucy Noel Martha Dye...  female  33.0      0   \n",
              "\n",
              "     Parch  Ticket  Fare Cabin Embarked Surname  \n",
              "759      0  110152  86.5   B77        S  Rothes  "
            ]
          },
          "execution_count": 12,
          "metadata": {},
          "output_type": "execute_result"
        }
      ],
      "source": [
        "titanic[titanic['Name'].str.contains('Countess')]"
      ]
    },
    {
      "cell_type": "markdown",
      "id": "9a7c2a1d-311d-4ac4-bab2-b28a06404ae9",
      "metadata": {
        "id": "9a7c2a1d-311d-4ac4-bab2-b28a06404ae9"
      },
      "source": [
        "- 승객중 가장 이름이 긴 사람 찾기"
      ]
    },
    {
      "cell_type": "code",
      "execution_count": null,
      "id": "35499d25-1f4d-48e9-8b6f-88fd840f3b3b",
      "metadata": {
        "id": "35499d25-1f4d-48e9-8b6f-88fd840f3b3b",
        "outputId": "16691667-6c69-45df-e872-f03f61cce73d"
      },
      "outputs": [
        {
          "data": {
            "text/plain": [
              "0      23\n",
              "1      51\n",
              "2      22\n",
              "3      44\n",
              "4      24\n",
              "       ..\n",
              "886    21\n",
              "887    28\n",
              "888    40\n",
              "889    21\n",
              "890    19\n",
              "Name: Name, Length: 891, dtype: int64"
            ]
          },
          "execution_count": 19,
          "metadata": {},
          "output_type": "execute_result"
        }
      ],
      "source": [
        "titanic['Name'].str.len()"
      ]
    },
    {
      "cell_type": "code",
      "execution_count": null,
      "id": "7bbf4f68-cc45-4009-b4c9-97c202a9392e",
      "metadata": {
        "id": "7bbf4f68-cc45-4009-b4c9-97c202a9392e",
        "outputId": "a0957679-89fa-4ce8-c6d9-954a7690d32a"
      },
      "outputs": [
        {
          "data": {
            "text/plain": [
              "307"
            ]
          },
          "execution_count": 20,
          "metadata": {},
          "output_type": "execute_result"
        }
      ],
      "source": [
        "titanic['Name'].str.len().idxmax()"
      ]
    },
    {
      "cell_type": "code",
      "execution_count": null,
      "id": "c48590ea-4652-472c-9fdf-68de59785f03",
      "metadata": {
        "id": "c48590ea-4652-472c-9fdf-68de59785f03",
        "outputId": "f654a0bc-b21a-43a5-d36b-c60f3486a0d8"
      },
      "outputs": [
        {
          "data": {
            "text/plain": [
              "'Penasco y Castellana, Mrs. Victor de Satode (Maria Josefa Perez de Soto y Vallejo)'"
            ]
          },
          "execution_count": 22,
          "metadata": {},
          "output_type": "execute_result"
        }
      ],
      "source": [
        "titanic.loc[307,'Name']"
      ]
    },
    {
      "cell_type": "markdown",
      "id": "a8455822-085d-4bfd-8e64-605f01812ea6",
      "metadata": {
        "id": "a8455822-085d-4bfd-8e64-605f01812ea6"
      },
      "source": [
        "- 성별 M,F으로 바꾸기"
      ]
    },
    {
      "cell_type": "code",
      "execution_count": null,
      "id": "d297e77f-8a8f-453a-8aea-45e9b3945583",
      "metadata": {
        "id": "d297e77f-8a8f-453a-8aea-45e9b3945583"
      },
      "outputs": [],
      "source": [
        "titanic['Sex_short'] = titanic['Sex'].replace({'male' : 'M' , 'female' : 'F'})\n",
        "#replace() 함수안에 사전의 형태로 들어갈 수 있다."
      ]
    },
    {
      "cell_type": "code",
      "execution_count": null,
      "id": "8bed6cb7-849a-45ce-98cc-138aea280ba6",
      "metadata": {
        "id": "8bed6cb7-849a-45ce-98cc-138aea280ba6",
        "outputId": "2ae94e8e-8116-4cdd-9326-a713be390f3c"
      },
      "outputs": [
        {
          "data": {
            "text/plain": [
              "0      M\n",
              "1      F\n",
              "2      F\n",
              "3      F\n",
              "4      M\n",
              "      ..\n",
              "886    M\n",
              "887    F\n",
              "888    F\n",
              "889    M\n",
              "890    M\n",
              "Name: Sex_short, Length: 891, dtype: object"
            ]
          },
          "execution_count": 24,
          "metadata": {},
          "output_type": "execute_result"
        }
      ],
      "source": [
        "titanic['Sex_short']"
      ]
    },
    {
      "cell_type": "code",
      "execution_count": null,
      "id": "f919876f-52b9-4eff-a376-180f96d9d2c4",
      "metadata": {
        "id": "f919876f-52b9-4eff-a376-180f96d9d2c4"
      },
      "outputs": [],
      "source": [
        "titanic['Sex_short'] = titanic['Sex'].replace('male' : 'M')\n",
        "titanic['Sex_short'] = titanic['Sex_short'].replace('female' : 'F')"
      ]
    }
  ],
  "metadata": {
    "kernelspec": {
      "display_name": "Python 3 (ipykernel)",
      "language": "python",
      "name": "python3"
    },
    "language_info": {
      "codemirror_mode": {
        "name": "ipython",
        "version": 3
      },
      "file_extension": ".py",
      "mimetype": "text/x-python",
      "name": "python",
      "nbconvert_exporter": "python",
      "pygments_lexer": "ipython3",
      "version": "3.10.13"
    },
    "colab": {
      "provenance": [],
      "include_colab_link": true
    }
  },
  "nbformat": 4,
  "nbformat_minor": 5
}