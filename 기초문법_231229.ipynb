{
  "nbformat": 4,
  "nbformat_minor": 0,
  "metadata": {
    "colab": {
      "provenance": [],
      "toc_visible": true,
      "authorship_tag": "ABX9TyOMvz6ShhY7NwDBLkuc6l28",
      "include_colab_link": true
    },
    "kernelspec": {
      "name": "python3",
      "display_name": "Python 3"
    },
    "language_info": {
      "name": "python"
    }
  },
  "cells": [
    {
      "cell_type": "markdown",
      "metadata": {
        "id": "view-in-github",
        "colab_type": "text"
      },
      "source": [
        "<a href=\"https://colab.research.google.com/github/JiHoonYoon00/mulcamp34/blob/main/%EA%B8%B0%EC%B4%88%EB%AC%B8%EB%B2%95_231229.ipynb\" target=\"_parent\"><img src=\"https://colab.research.google.com/assets/colab-badge.svg\" alt=\"Open In Colab\"/></a>"
      ]
    },
    {
      "cell_type": "markdown",
      "source": [
        "# 28일 리뷰\n",
        "- 클래스, 함수, 문자열 클래스 다양한 메서드\n",
        "- 리스트 클래스 다양한 메서드\n",
        "  + append, extend, insert, remove...\n",
        "  "
      ],
      "metadata": {
        "id": "tR3HIDJ_6_5l"
      }
    },
    {
      "cell_type": "markdown",
      "source": [
        "# 딕셔너리\n",
        "- Dictionary : 사전\n",
        "- 구성 : key -value, keyword(=key), 결과값(=value)\n",
        "  + 문자열, 리스트, tuple : 데이터 조회 시\n",
        "  인덱싱 또는 슬라이싱\n",
        "  + 딕셔너리에서 값을 조회하는 방법은 key값을 통해서 값을 조회"
      ],
      "metadata": {
        "id": "82T9qfbp7kGQ"
      }
    },
    {
      "cell_type": "code",
      "execution_count": 6,
      "metadata": {
        "colab": {
          "base_uri": "https://localhost:8080/"
        },
        "id": "DGdvT0Os5-lx",
        "outputId": "b6cc37bb-bd5b-4581-8b44-5607dfb6d6af"
      },
      "outputs": [
        {
          "output_type": "execute_result",
          "data": {
            "text/plain": [
              "{'대한민국': '서울', '일본': '도쿄', '미국': '워싱턴', '영국': '런던'}"
            ]
          },
          "metadata": {},
          "execution_count": 6
        }
      ],
      "source": [
        "country_capital ={\n",
        "    '대한민국' : '서울',\n",
        "    '일본' : '도쿄',\n",
        "    '미국' : '워싱턴',\n",
        "    '영국' : '런던'\n",
        "}\n",
        "\n",
        "country_capital"
      ]
    },
    {
      "cell_type": "code",
      "source": [
        "# 딕셔너리에서 value 값을 조회하는 방법은 key값을 통해 조회\n",
        "# key값은 중복으로 만들 수 없음\n",
        "country_capital['대한민국'] #문자열 반환"
      ],
      "metadata": {
        "colab": {
          "base_uri": "https://localhost:8080/"
        },
        "id": "AZa1CxhJ9cmr",
        "outputId": "abc1d6f3-37f5-4972-927c-bac74549ba2d"
      },
      "execution_count": 4,
      "outputs": [
        {
          "output_type": "execute_result",
          "data": {
            "text/plain": [
              "str"
            ]
          },
          "metadata": {},
          "execution_count": 4
        }
      ]
    },
    {
      "cell_type": "code",
      "source": [
        "data = {\n",
        "    1 : '버스',\n",
        "    3 : '비행기'\n",
        "}\n",
        "\n",
        "# 숫자 1은 리스트, 문자열, tuple, 인덱스 번호와는 다른 숫자\n",
        "# 사전은 _dict 라고 사용하는게 좋아보임\n",
        "data[1]"
      ],
      "metadata": {
        "colab": {
          "base_uri": "https://localhost:8080/",
          "height": 35
        },
        "id": "t9N4pKgh9xGH",
        "outputId": "8f0e1091-c103-4e98-89fd-5ac96cf9d11f"
      },
      "execution_count": 7,
      "outputs": [
        {
          "output_type": "execute_result",
          "data": {
            "text/plain": [
              "'버스'"
            ],
            "application/vnd.google.colaboratory.intrinsic+json": {
              "type": "string"
            }
          },
          "metadata": {},
          "execution_count": 7
        }
      ]
    },
    {
      "cell_type": "code",
      "source": [
        "data2 = {\n",
        "    'list1' : [1, 2, 3],\n",
        "    'list2' : [4, 5, 6]\n",
        "}\n",
        "\n",
        "data2"
      ],
      "metadata": {
        "colab": {
          "base_uri": "https://localhost:8080/"
        },
        "id": "gtLgoE6E-qy_",
        "outputId": "6753f5e9-83c2-493a-da2f-5ce5c3f6ef3c"
      },
      "execution_count": 8,
      "outputs": [
        {
          "output_type": "execute_result",
          "data": {
            "text/plain": [
              "{'list1': [1, 2, 3], 'list2': [4, 5, 6]}"
            ]
          },
          "metadata": {},
          "execution_count": 8
        }
      ]
    },
    {
      "cell_type": "code",
      "source": [
        "data3 = {\n",
        "    'list1' : [1, 2, 3],\n",
        "    'list2' : [4, 5, 6],\n",
        "    1 : '테스트'\n",
        "}\n",
        "\n",
        "data3"
      ],
      "metadata": {
        "colab": {
          "base_uri": "https://localhost:8080/"
        },
        "id": "3-RofzUT_N57",
        "outputId": "80c39712-b959-4e88-ed82-996fe5a6abfc"
      },
      "execution_count": 9,
      "outputs": [
        {
          "output_type": "execute_result",
          "data": {
            "text/plain": [
              "{'list1': [1, 2, 3], 'list2': [4, 5, 6], 1: '테스트'}"
            ]
          },
          "metadata": {},
          "execution_count": 9
        }
      ]
    },
    {
      "cell_type": "markdown",
      "source": [
        "## 딕셔너리 사용처\n",
        "- 데이터 분석 : 엑셀 테이블\n",
        "  + 1억개, 데이터 가공 (최소 1-2시간 가공 작업)\n",
        "  + 임시 테이블\n",
        "- 인터넷 자료형중 JSON 데이터 포맷\n",
        "- JSON 데이터 포맷 ==> 딕셔너리와 동일\n",
        "  +API 데이터 크롤링, 기본 자료형(JSON) ==>\n",
        "  딕셔너리 변환 , 변환 후 데이터 가공"
      ],
      "metadata": {
        "id": "rfu9fQxpAeEl"
      }
    },
    {
      "cell_type": "markdown",
      "source": [
        "## 딕셔너리 다루기"
      ],
      "metadata": {
        "id": "px2qtvDWFnb_"
      }
    },
    {
      "cell_type": "code",
      "source": [
        "country_capital ={\n",
        "    '대한민국' : '서울',\n",
        "    '일본' : '도쿄',\n",
        "    '미국' : '워싱턴',\n",
        "    '영국' : '런던'\n",
        "}"
      ],
      "metadata": {
        "id": "gQoLQSwiKkV-"
      },
      "execution_count": 21,
      "outputs": []
    },
    {
      "cell_type": "code",
      "source": [
        "#벨류 바꾸기\n",
        "country_capital['대한민국'] = '부산'\n",
        "country_capital"
      ],
      "metadata": {
        "colab": {
          "base_uri": "https://localhost:8080/"
        },
        "id": "k7b4hGUi_o4q",
        "outputId": "bcd3064f-0560-456c-bf51-f669cec012ac"
      },
      "execution_count": 22,
      "outputs": [
        {
          "output_type": "execute_result",
          "data": {
            "text/plain": [
              "{'대한민국': '부산', '일본': '도쿄', '미국': '워싱턴', '영국': '런던'}"
            ]
          },
          "metadata": {},
          "execution_count": 22
        }
      ]
    },
    {
      "cell_type": "code",
      "source": [
        "#삭제하는 방법\n",
        "#del\n",
        "\n",
        "del country_capital['영국']\n",
        "country_capital"
      ],
      "metadata": {
        "colab": {
          "base_uri": "https://localhost:8080/"
        },
        "id": "UmdXKztkGBmC",
        "outputId": "fff2d478-aa87-4b29-ee5e-36ff4b8dce55"
      },
      "execution_count": 23,
      "outputs": [
        {
          "output_type": "execute_result",
          "data": {
            "text/plain": [
              "{'대한민국': '부산', '일본': '도쿄', '미국': '워싱턴'}"
            ]
          },
          "metadata": {},
          "execution_count": 23
        }
      ]
    },
    {
      "cell_type": "code",
      "source": [
        "type(country_capital)"
      ],
      "metadata": {
        "colab": {
          "base_uri": "https://localhost:8080/"
        },
        "id": "NiAu0d_fGSxz",
        "outputId": "b5d346eb-e5bf-4470-8c7e-9310c6ff4954"
      },
      "execution_count": 24,
      "outputs": [
        {
          "output_type": "execute_result",
          "data": {
            "text/plain": [
              "dict"
            ]
          },
          "metadata": {},
          "execution_count": 24
        }
      ]
    },
    {
      "cell_type": "code",
      "source": [
        "# 리스트의 형태로 나오지만 리스트타입이 아님\n",
        "print(type(country_capital.keys()))\n",
        "country_capital.keys()\n",
        "\n"
      ],
      "metadata": {
        "colab": {
          "base_uri": "https://localhost:8080/"
        },
        "id": "74W9HOqGHdJc",
        "outputId": "8ab5dc3f-5cc2-46b8-a638-2a6d1e7ea164"
      },
      "execution_count": 26,
      "outputs": [
        {
          "output_type": "stream",
          "name": "stdout",
          "text": [
            "<class 'dict_keys'>\n"
          ]
        },
        {
          "output_type": "execute_result",
          "data": {
            "text/plain": [
              "dict_keys(['대한민국', '일본', '미국'])"
            ]
          },
          "metadata": {},
          "execution_count": 26
        }
      ]
    },
    {
      "cell_type": "code",
      "source": [
        "result = country_capital.keys()\n",
        "result.append('독일')"
      ],
      "metadata": {
        "colab": {
          "base_uri": "https://localhost:8080/",
          "height": 194
        },
        "id": "vjnk_GkiLKb3",
        "outputId": "31ae5180-a13e-4c39-c533-5bfeac007ffd"
      },
      "execution_count": 27,
      "outputs": [
        {
          "output_type": "error",
          "ename": "AttributeError",
          "evalue": "ignored",
          "traceback": [
            "\u001b[0;31m---------------------------------------------------------------------------\u001b[0m",
            "\u001b[0;31mAttributeError\u001b[0m                            Traceback (most recent call last)",
            "\u001b[0;32m<ipython-input-27-5b509fdeda12>\u001b[0m in \u001b[0;36m<cell line: 2>\u001b[0;34m()\u001b[0m\n\u001b[1;32m      1\u001b[0m \u001b[0mresult\u001b[0m \u001b[0;34m=\u001b[0m \u001b[0mcountry_capital\u001b[0m\u001b[0;34m.\u001b[0m\u001b[0mkeys\u001b[0m\u001b[0;34m(\u001b[0m\u001b[0;34m)\u001b[0m\u001b[0;34m\u001b[0m\u001b[0;34m\u001b[0m\u001b[0m\n\u001b[0;32m----> 2\u001b[0;31m \u001b[0mresult\u001b[0m\u001b[0;34m.\u001b[0m\u001b[0mappend\u001b[0m\u001b[0;34m(\u001b[0m\u001b[0;34m'독일'\u001b[0m\u001b[0;34m)\u001b[0m\u001b[0;34m\u001b[0m\u001b[0;34m\u001b[0m\u001b[0m\n\u001b[0m",
            "\u001b[0;31mAttributeError\u001b[0m: 'dict_keys' object has no attribute 'append'"
          ]
        }
      ]
    },
    {
      "cell_type": "code",
      "source": [
        "# 데이터 형변환 (리스트)\n",
        "list(result)\n",
        "result.append('독일')"
      ],
      "metadata": {
        "colab": {
          "base_uri": "https://localhost:8080/",
          "height": 211
        },
        "id": "nzvcnPgPIxJB",
        "outputId": "24e65a2a-b79f-490b-b222-4aa161be83cf"
      },
      "execution_count": 29,
      "outputs": [
        {
          "output_type": "error",
          "ename": "AttributeError",
          "evalue": "ignored",
          "traceback": [
            "\u001b[0;31m---------------------------------------------------------------------------\u001b[0m",
            "\u001b[0;31mAttributeError\u001b[0m                            Traceback (most recent call last)",
            "\u001b[0;32m<ipython-input-29-e0739046f25d>\u001b[0m in \u001b[0;36m<cell line: 3>\u001b[0;34m()\u001b[0m\n\u001b[1;32m      1\u001b[0m \u001b[0;31m# 데이터 형변환 (리스트)\u001b[0m\u001b[0;34m\u001b[0m\u001b[0;34m\u001b[0m\u001b[0m\n\u001b[1;32m      2\u001b[0m \u001b[0mlist\u001b[0m\u001b[0;34m(\u001b[0m\u001b[0mresult\u001b[0m\u001b[0;34m)\u001b[0m\u001b[0;34m\u001b[0m\u001b[0;34m\u001b[0m\u001b[0m\n\u001b[0;32m----> 3\u001b[0;31m \u001b[0mresult\u001b[0m\u001b[0;34m.\u001b[0m\u001b[0mappend\u001b[0m\u001b[0;34m(\u001b[0m\u001b[0;34m'독일'\u001b[0m\u001b[0;34m)\u001b[0m\u001b[0;34m\u001b[0m\u001b[0;34m\u001b[0m\u001b[0m\n\u001b[0m",
            "\u001b[0;31mAttributeError\u001b[0m: 'dict_keys' object has no attribute 'append'"
          ]
        }
      ]
    },
    {
      "cell_type": "code",
      "source": [
        "result = list(country_capital.keys())"
      ],
      "metadata": {
        "id": "VgJmsyZbLRmk"
      },
      "execution_count": 30,
      "outputs": []
    },
    {
      "cell_type": "code",
      "source": [
        "country_capital.items()"
      ],
      "metadata": {
        "colab": {
          "base_uri": "https://localhost:8080/"
        },
        "id": "Xj2PulytIJXb",
        "outputId": "26ab2a2a-1330-44a8-8764-31a03b858333"
      },
      "execution_count": 15,
      "outputs": [
        {
          "output_type": "execute_result",
          "data": {
            "text/plain": [
              "dict_items([('대한민국', '부산'), ('일본', '도쿄'), ('미국', '워싱턴')])"
            ]
          },
          "metadata": {},
          "execution_count": 15
        }
      ]
    },
    {
      "cell_type": "code",
      "source": [
        "new_df ={\n",
        "    '중국' : '베이징',\n",
        "    '필리핀' : '마닐라',\n",
        "    '호주' : '캔버라'\n",
        "}\n",
        "country_capital.update(new_df)\n",
        "country_capital"
      ],
      "metadata": {
        "colab": {
          "base_uri": "https://localhost:8080/"
        },
        "id": "Gx-UCIC7IRed",
        "outputId": "d83d2c58-8b10-4a29-dbff-71b93414f566"
      },
      "execution_count": 19,
      "outputs": [
        {
          "output_type": "execute_result",
          "data": {
            "text/plain": [
              "{'대한민국': '부산', '일본': '도쿄', '미국': '워싱턴', '중국': '베이징', '필리핀': '마닐라', '호주': '캔버라'}"
            ]
          },
          "metadata": {},
          "execution_count": 19
        }
      ]
    },
    {
      "cell_type": "code",
      "source": [
        "country_capital.clear()  #빈 사전 생성\n",
        "country_capital"
      ],
      "metadata": {
        "colab": {
          "base_uri": "https://localhost:8080/"
        },
        "id": "xcwRFdVtJkjr",
        "outputId": "aa81a3e9-00a1-4f05-f40e-4a1525b2fc20"
      },
      "execution_count": 20,
      "outputs": [
        {
          "output_type": "execute_result",
          "data": {
            "text/plain": [
              "{}"
            ]
          },
          "metadata": {},
          "execution_count": 20
        }
      ]
    },
    {
      "cell_type": "markdown",
      "source": [
        "# if 조건문\n",
        "- 만약 A라면 ~일 것이다\n",
        "- 프로그래밍에서 조건문\n",
        "  + 만약 조건이 True라면 ~를 해라\n",
        "  + 참과 거짓을 만드는 것이 포인트\n",
        "    "
      ],
      "metadata": {
        "id": "VezgSUx6Lxd7"
      }
    },
    {
      "cell_type": "code",
      "source": [
        "x = int(input('점수를 입력하세요'))\n",
        "if x >= 90 : # 조건문을 직접 설계하는게 포인트\n",
        "  print('합격')"
      ],
      "metadata": {
        "colab": {
          "base_uri": "https://localhost:8080/"
        },
        "id": "eZ1jGiR1JvcR",
        "outputId": "4467eda8-50da-4a87-eec4-77b3c1a41c00"
      },
      "execution_count": 31,
      "outputs": [
        {
          "output_type": "stream",
          "name": "stdout",
          "text": [
            "점수를 입력하세요100\n",
            "합격\n"
          ]
        }
      ]
    },
    {
      "cell_type": "code",
      "source": [
        "x = int(input('점수를 입력하세요'))\n",
        "if x >= 90 : # 조건문을 직접 설계하는게 포인트\n",
        "  print('합격')\n",
        "else:\n",
        "  print('불합격')"
      ],
      "metadata": {
        "colab": {
          "base_uri": "https://localhost:8080/"
        },
        "id": "_8p4OTNWNTWm",
        "outputId": "b1ddba66-291d-4d0c-e954-e4482697778a"
      },
      "execution_count": 32,
      "outputs": [
        {
          "output_type": "stream",
          "name": "stdout",
          "text": [
            "점수를 입력하세요70\n",
            "불합격\n"
          ]
        }
      ]
    },
    {
      "cell_type": "code",
      "source": [
        "x = int(input('점수를 입력하세요'))\n",
        "if x >= 90 : # 조건문을 직접 설계하는게 포인트\n",
        "  print('합격')\n",
        "elif x >= 80:\n",
        "  print('부분합격')\n",
        "else:\n",
        "  print('불합격')"
      ],
      "metadata": {
        "id": "ExeOpFYkOHSM"
      },
      "execution_count": null,
      "outputs": []
    },
    {
      "cell_type": "markdown",
      "source": [
        "#문제\n",
        "- 학생성적에 따라 등급정하기\n",
        "- A, B, C, D, F\n",
        "    + 90점 이상 A"
      ],
      "metadata": {
        "id": "tmgyAeXVO4Li"
      }
    },
    {
      "cell_type": "code",
      "source": [
        "x = int(input('점수를 입력하세요'))\n",
        "if x >= 90 : # 조건문을 직접 설계하는게 포인트\n",
        "  print('A')\n",
        "elif x >= 80:\n",
        "  print('B')\n",
        "elif x >= 70:\n",
        "  print('C')\n",
        "elif x >= 60:\n",
        "  print('D')\n",
        "else:\n",
        "  print('F')"
      ],
      "metadata": {
        "colab": {
          "base_uri": "https://localhost:8080/"
        },
        "id": "aAudFwOlO3hz",
        "outputId": "7217dab2-5c6b-4fc4-a4fe-11aa6c92b75c"
      },
      "execution_count": 34,
      "outputs": [
        {
          "output_type": "stream",
          "name": "stdout",
          "text": [
            "점수를 입력하세요60\n",
            "D\n"
          ]
        }
      ]
    },
    {
      "cell_type": "markdown",
      "source": [
        "# 중첩 조건문\n",
        "- if조건문 내부에 또다른 조건문 생성"
      ],
      "metadata": {
        "id": "fvcQ1u0EWzKA"
      }
    },
    {
      "cell_type": "code",
      "source": [],
      "metadata": {
        "colab": {
          "base_uri": "https://localhost:8080/"
        },
        "id": "dyeFe5PGPX8L",
        "outputId": "c8f91c6b-051f-4486-b74a-8e146cc50b80"
      },
      "execution_count": 35,
      "outputs": [
        {
          "output_type": "stream",
          "name": "stdout",
          "text": [
            "점수를 입력하세요100\n",
            "부분합격\n"
          ]
        }
      ]
    },
    {
      "cell_type": "code",
      "source": [
        "x = int(input('점수를 입력하세요'))\n",
        "if x >= 90 : # 조건문을 직접 설계하는게 포인트\n",
        "  if x == 100:\n",
        "    print('장학금 수여')\n",
        "  print('합격')\n",
        "elif x >= 80:\n",
        "  print('부분합격')\n",
        "else:\n",
        "  print('불합격')"
      ],
      "metadata": {
        "colab": {
          "base_uri": "https://localhost:8080/"
        },
        "id": "ASP9asB3Wuyv",
        "outputId": "59909aa2-308f-4f29-c18b-51ab09a78ab8"
      },
      "execution_count": 37,
      "outputs": [
        {
          "output_type": "stream",
          "name": "stdout",
          "text": [
            "점수를 입력하세요99\n",
            "합격\n"
          ]
        }
      ]
    },
    {
      "cell_type": "markdown",
      "source": [
        "# 반복문\n",
        "- for-loop, while\n",
        "- 반복문의 필요성"
      ],
      "metadata": {
        "id": "9V1NF3aqX-iY"
      }
    },
    {
      "cell_type": "code",
      "source": [
        "for i in range(10) :\n",
        "  print('hello')\n"
      ],
      "metadata": {
        "colab": {
          "base_uri": "https://localhost:8080/"
        },
        "id": "fgagqEelXoQ8",
        "outputId": "67252549-0181-48cd-c771-2339b663b1ca"
      },
      "execution_count": 52,
      "outputs": [
        {
          "output_type": "stream",
          "name": "stdout",
          "text": [
            "hello\n",
            "hello\n",
            "hello\n",
            "hello\n",
            "hello\n",
            "hello\n",
            "hello\n",
            "hello\n",
            "hello\n",
            "hello\n"
          ]
        }
      ]
    },
    {
      "cell_type": "markdown",
      "source": [
        "#for - loop 특징"
      ],
      "metadata": {
        "id": "dsHRAM7MashW"
      }
    },
    {
      "cell_type": "code",
      "source": [
        "for i in range(3):\n",
        "  print(f'{i}번째 hello')"
      ],
      "metadata": {
        "colab": {
          "base_uri": "https://localhost:8080/"
        },
        "id": "17yuirqGYfzK",
        "outputId": "2e8b744d-6611-47d3-a9db-299c20273ab3"
      },
      "execution_count": 56,
      "outputs": [
        {
          "output_type": "stream",
          "name": "stdout",
          "text": [
            "0번째 hello\n",
            "1번째 hello\n",
            "2번째 hello\n"
          ]
        }
      ]
    },
    {
      "cell_type": "markdown",
      "source": [
        "- 반복 범위 지정 시, 시퀀스 자료형도 사용 가능\n",
        "  + 오늘/내일 블로그 주제 : 시퀀스 자료형에 대해서 정리\n",
        "  + 대표적인 것 : 리스트, 문자열  "
      ],
      "metadata": {
        "id": "LGE9LkV_bQXa"
      }
    },
    {
      "cell_type": "code",
      "source": [
        "nums = [1, 2, 3, 4, 5]\n",
        "for num in nums :\n",
        "  print('안녕하세요')"
      ],
      "metadata": {
        "colab": {
          "base_uri": "https://localhost:8080/"
        },
        "id": "OMeBNc_AaZ12",
        "outputId": "4d69746f-71dc-4b29-8e06-2bd50cd5539c"
      },
      "execution_count": 59,
      "outputs": [
        {
          "output_type": "stream",
          "name": "stdout",
          "text": [
            "안녕하세요\n",
            "안녕하세요\n",
            "안녕하세요\n",
            "안녕하세요\n",
            "안녕하세요\n"
          ]
        }
      ]
    },
    {
      "cell_type": "code",
      "source": [
        "stri = \"hello\"\n",
        "for text in stri :\n",
        "  print('text')"
      ],
      "metadata": {
        "colab": {
          "base_uri": "https://localhost:8080/"
        },
        "id": "yRx81C_RcC86",
        "outputId": "9cae6fa7-f251-459b-94c8-db8cabee269b"
      },
      "execution_count": 60,
      "outputs": [
        {
          "output_type": "stream",
          "name": "stdout",
          "text": [
            "text\n",
            "text\n",
            "text\n",
            "text\n",
            "text\n"
          ]
        }
      ]
    },
    {
      "cell_type": "code",
      "source": [
        "tuples = (1,2,3,4)\n",
        "for num in tuples :\n",
        "  print(num)"
      ],
      "metadata": {
        "colab": {
          "base_uri": "https://localhost:8080/"
        },
        "id": "QQeLGfJAce7U",
        "outputId": "25908753-ce8c-472d-945a-2e65c477b1e2"
      },
      "execution_count": 63,
      "outputs": [
        {
          "output_type": "stream",
          "name": "stdout",
          "text": [
            "1\n",
            "2\n",
            "3\n",
            "4\n"
          ]
        }
      ]
    },
    {
      "cell_type": "code",
      "source": [
        "country_capital\n",
        "\n",
        "for country in country_capital :\n",
        "  print(country)\n",
        "  #value값 추출\n",
        "  print(country_capital[country])  #[키값을 대입 시킨 것]\n",
        "  print(f'{country}의 수도는 {country_capital[country]}이다.')"
      ],
      "metadata": {
        "colab": {
          "base_uri": "https://localhost:8080/"
        },
        "id": "63EyEXTDco3c",
        "outputId": "749a600b-88f3-4ec4-a3d5-37191c46ceb5"
      },
      "execution_count": 76,
      "outputs": [
        {
          "output_type": "stream",
          "name": "stdout",
          "text": [
            "대한민국\n",
            "부산\n",
            "대한민국의 수도는 부산이다.\n",
            "일본\n",
            "도쿄\n",
            "일본의 수도는 도쿄이다.\n",
            "미국\n",
            "워싱턴\n",
            "미국의 수도는 워싱턴이다.\n"
          ]
        }
      ]
    },
    {
      "cell_type": "code",
      "source": [
        "# 중첩 for문\n",
        "# 반복문 내 또 다른 반복문\n",
        "x_list = ['x1','x2']\n",
        "y_list = ['y1','y2']\n",
        "\n",
        "for x in x_list :\n",
        "  #print(x)\n",
        "  for y in y_list:\n",
        "    print(x,y)"
      ],
      "metadata": {
        "colab": {
          "base_uri": "https://localhost:8080/"
        },
        "id": "MMJ4-OVWcyZf",
        "outputId": "c77479fd-a34e-4796-c526-a3ab85045506"
      },
      "execution_count": 78,
      "outputs": [
        {
          "output_type": "stream",
          "name": "stdout",
          "text": [
            "x1 y1\n",
            "x1 y2\n",
            "x2 y1\n",
            "x2 y2\n"
          ]
        }
      ]
    },
    {
      "cell_type": "markdown",
      "source": [
        "##구구단\n",
        "- 2 x 1 = 2"
      ],
      "metadata": {
        "id": "EW0VNfuy0r-X"
      }
    },
    {
      "cell_type": "code",
      "source": [
        "x_list = [2, 3 ,4 ,5 ,6 , 7, 8, 9]\n",
        "y_list = [1, 2, 3 ,4 ,5 ,6 , 7, 8, 9]\n",
        "\n",
        "for x in x_list:\n",
        "  for y in y_list :\n",
        "    print(f'{x} * {y} = {x * y}')\n",
        ""
      ],
      "metadata": {
        "colab": {
          "base_uri": "https://localhost:8080/"
        },
        "id": "j9ZGTSTX0I5S",
        "outputId": "5ff9186a-f63f-4540-91fd-5127a93f0835"
      },
      "execution_count": 93,
      "outputs": [
        {
          "output_type": "stream",
          "name": "stdout",
          "text": [
            "2 * 1 = 2\n",
            "2 * 2 = 4\n",
            "2 * 3 = 6\n",
            "2 * 4 = 8\n",
            "2 * 5 = 10\n",
            "2 * 6 = 12\n",
            "2 * 7 = 14\n",
            "2 * 8 = 16\n",
            "2 * 9 = 18\n",
            "3 * 1 = 3\n",
            "3 * 2 = 6\n",
            "3 * 3 = 9\n",
            "3 * 4 = 12\n",
            "3 * 5 = 15\n",
            "3 * 6 = 18\n",
            "3 * 7 = 21\n",
            "3 * 8 = 24\n",
            "3 * 9 = 27\n",
            "4 * 1 = 4\n",
            "4 * 2 = 8\n",
            "4 * 3 = 12\n",
            "4 * 4 = 16\n",
            "4 * 5 = 20\n",
            "4 * 6 = 24\n",
            "4 * 7 = 28\n",
            "4 * 8 = 32\n",
            "4 * 9 = 36\n",
            "5 * 1 = 5\n",
            "5 * 2 = 10\n",
            "5 * 3 = 15\n",
            "5 * 4 = 20\n",
            "5 * 5 = 25\n",
            "5 * 6 = 30\n",
            "5 * 7 = 35\n",
            "5 * 8 = 40\n",
            "5 * 9 = 45\n",
            "6 * 1 = 6\n",
            "6 * 2 = 12\n",
            "6 * 3 = 18\n",
            "6 * 4 = 24\n",
            "6 * 5 = 30\n",
            "6 * 6 = 36\n",
            "6 * 7 = 42\n",
            "6 * 8 = 48\n",
            "6 * 9 = 54\n",
            "7 * 1 = 7\n",
            "7 * 2 = 14\n",
            "7 * 3 = 21\n",
            "7 * 4 = 28\n",
            "7 * 5 = 35\n",
            "7 * 6 = 42\n",
            "7 * 7 = 49\n",
            "7 * 8 = 56\n",
            "7 * 9 = 63\n",
            "8 * 1 = 8\n",
            "8 * 2 = 16\n",
            "8 * 3 = 24\n",
            "8 * 4 = 32\n",
            "8 * 5 = 40\n",
            "8 * 6 = 48\n",
            "8 * 7 = 56\n",
            "8 * 8 = 64\n",
            "8 * 9 = 72\n",
            "9 * 1 = 9\n",
            "9 * 2 = 18\n",
            "9 * 3 = 27\n",
            "9 * 4 = 36\n",
            "9 * 5 = 45\n",
            "9 * 6 = 54\n",
            "9 * 7 = 63\n",
            "9 * 8 = 72\n",
            "9 * 9 = 81\n"
          ]
        }
      ]
    },
    {
      "cell_type": "code",
      "source": [
        "for x in range(2,10):\n",
        "  for y in range(1,10):\n",
        "     print(f'{x} * {y} = {x * y}')\n",
        ""
      ],
      "metadata": {
        "colab": {
          "base_uri": "https://localhost:8080/"
        },
        "id": "aLvaJgsO1XfM",
        "outputId": "ce13dfa8-037b-4fe2-dfc8-7b4c21f3e86c"
      },
      "execution_count": 89,
      "outputs": [
        {
          "output_type": "stream",
          "name": "stdout",
          "text": [
            "2 * 1 = 2\n",
            "2 * 2 = 4\n",
            "2 * 3 = 6\n",
            "2 * 4 = 8\n",
            "2 * 5 = 10\n",
            "2 * 6 = 12\n",
            "2 * 7 = 14\n",
            "2 * 8 = 16\n",
            "2 * 9 = 18\n",
            "3 * 1 = 3\n",
            "3 * 2 = 6\n",
            "3 * 3 = 9\n",
            "3 * 4 = 12\n",
            "3 * 5 = 15\n",
            "3 * 6 = 18\n",
            "3 * 7 = 21\n",
            "3 * 8 = 24\n",
            "3 * 9 = 27\n",
            "4 * 1 = 4\n",
            "4 * 2 = 8\n",
            "4 * 3 = 12\n",
            "4 * 4 = 16\n",
            "4 * 5 = 20\n",
            "4 * 6 = 24\n",
            "4 * 7 = 28\n",
            "4 * 8 = 32\n",
            "4 * 9 = 36\n",
            "5 * 1 = 5\n",
            "5 * 2 = 10\n",
            "5 * 3 = 15\n",
            "5 * 4 = 20\n",
            "5 * 5 = 25\n",
            "5 * 6 = 30\n",
            "5 * 7 = 35\n",
            "5 * 8 = 40\n",
            "5 * 9 = 45\n",
            "6 * 1 = 6\n",
            "6 * 2 = 12\n",
            "6 * 3 = 18\n",
            "6 * 4 = 24\n",
            "6 * 5 = 30\n",
            "6 * 6 = 36\n",
            "6 * 7 = 42\n",
            "6 * 8 = 48\n",
            "6 * 9 = 54\n",
            "7 * 1 = 7\n",
            "7 * 2 = 14\n",
            "7 * 3 = 21\n",
            "7 * 4 = 28\n",
            "7 * 5 = 35\n",
            "7 * 6 = 42\n",
            "7 * 7 = 49\n",
            "7 * 8 = 56\n",
            "7 * 9 = 63\n",
            "8 * 1 = 8\n",
            "8 * 2 = 16\n",
            "8 * 3 = 24\n",
            "8 * 4 = 32\n",
            "8 * 5 = 40\n",
            "8 * 6 = 48\n",
            "8 * 7 = 56\n",
            "8 * 8 = 64\n",
            "8 * 9 = 72\n",
            "9 * 1 = 9\n",
            "9 * 2 = 18\n",
            "9 * 3 = 27\n",
            "9 * 4 = 36\n",
            "9 * 5 = 45\n",
            "9 * 6 = 54\n",
            "9 * 7 = 63\n",
            "9 * 8 = 72\n",
            "9 * 9 = 81\n"
          ]
        }
      ]
    },
    {
      "cell_type": "code",
      "source": [
        "#짝지어주는것\n",
        "names = ['A','B','C']\n",
        "ages = [10, 20, 30]\n",
        "\n",
        "for name, age in zip(names, ages):\n",
        "  print(name, age)"
      ],
      "metadata": {
        "colab": {
          "base_uri": "https://localhost:8080/"
        },
        "id": "0ilorDhr2ZRm",
        "outputId": "ba3fcf34-ac62-4130-c4ea-745ccc5a0897"
      },
      "execution_count": 94,
      "outputs": [
        {
          "output_type": "stream",
          "name": "stdout",
          "text": [
            "A 10\n",
            "B 20\n",
            "C 30\n"
          ]
        }
      ]
    },
    {
      "cell_type": "code",
      "source": [
        "#인덱싱\n",
        "names = ['A','B','C']\n",
        "for idx, name in enumerate(names):\n",
        "  print(idx, name)"
      ],
      "metadata": {
        "colab": {
          "base_uri": "https://localhost:8080/"
        },
        "id": "OvEdvmOu5PQb",
        "outputId": "0da5ea51-b89d-4e18-a094-d45235357153"
      },
      "execution_count": 95,
      "outputs": [
        {
          "output_type": "stream",
          "name": "stdout",
          "text": [
            "0 A\n",
            "1 B\n",
            "2 C\n"
          ]
        }
      ]
    },
    {
      "cell_type": "markdown",
      "source": [
        "## While 특징\n",
        "- for-loop 특징 : 항상 범위를 지정한다\n",
        " - 몆번 반복문을 수행할지 숫자로 컨트롤이 가능\n",
        "- While 특징\n",
        " - 조건문이 False가 될 떄까지 반복문을 수행\n",
        " - 조건문이 True 이면 반복문 무한 수행"
      ],
      "metadata": {
        "id": "QG-B9PJo5iaO"
      }
    },
    {
      "cell_type": "code",
      "source": [
        "#초기값 지정\n",
        "i = 1\n",
        "n = 3\n",
        "\n",
        "while i <= n : #특정 조건이 False가 되도록 작성\n",
        "  print(f'현재 {i}번')\n",
        "  i += 1"
      ],
      "metadata": {
        "colab": {
          "base_uri": "https://localhost:8080/"
        },
        "id": "Q8_AWag45exH",
        "outputId": "527256e3-b62e-40e2-9f83-65c137a1351b"
      },
      "execution_count": 96,
      "outputs": [
        {
          "output_type": "stream",
          "name": "stdout",
          "text": [
            "현재 1번\n",
            "현재 2번\n",
            "현재 3번\n"
          ]
        }
      ]
    },
    {
      "cell_type": "markdown",
      "source": [
        "## for-loop, While 비교\n",
        "- Only 데이터 분석 (for-loop만 집중 공부)\n",
        "  - 행과 열은 거의 고정\n",
        "  - 범위가 주어져 있음\n",
        "\n",
        "- 개발자 경력 (둘 다)\n",
        "  - 카메라가 켜진 상태에서 필터 추가\n",
        "  - 카메라 온 (True상태)\n",
        "  - 카메라 오프 (False상태)\n",
        "  \n"
      ],
      "metadata": {
        "id": "pV7hZ4R2AUVC"
      }
    },
    {
      "cell_type": "markdown",
      "source": [
        "##break 문\n",
        "- 중간에 반복문 강제 종료\n",
        "  -특정 시점에 반복문 강제 종료"
      ],
      "metadata": {
        "id": "VwyUOcs9CB6j"
      }
    },
    {
      "cell_type": "markdown",
      "source": [
        "## 문자열과 for-loop\n"
      ],
      "metadata": {
        "id": "K-QZD_QODwIO"
      }
    },
    {
      "cell_type": "code",
      "source": [
        "texts = 'phthon'\n",
        "for text in texts:\n",
        "  print(text)\n",
        "  #text가 t가 되면 break\n",
        "  if text  == 't':  #조건식을 숫자로 비교, 문자 매칭 여부로 True/False를 나눔\n",
        "    print('text는 t입니다.')\n",
        "    break"
      ],
      "metadata": {
        "colab": {
          "base_uri": "https://localhost:8080/"
        },
        "id": "qkpisuwSD3fC",
        "outputId": "b0506cec-d232-4660-84f9-40ff80c8a4a6"
      },
      "execution_count": 97,
      "outputs": [
        {
          "output_type": "stream",
          "name": "stdout",
          "text": [
            "p\n",
            "h\n",
            "t\n",
            "text는 t입니다.\n"
          ]
        }
      ]
    },
    {
      "cell_type": "markdown",
      "source": [
        "## 리스트 컴프리헨션\n",
        "- forloop 및 for loop if 조건문 한줄로 처리\n",
        ""
      ],
      "metadata": {
        "id": "2FdHSqRhEwBR"
      }
    },
    {
      "cell_type": "code",
      "source": [
        "#pythonic 코드\n",
        "numbers = [1, 2, 3, 4, 5]\n",
        "result = [1, 4, 9, 16, 25] #거듭제곱"
      ],
      "metadata": {
        "id": "ProCWr_qEQfr"
      },
      "execution_count": 98,
      "outputs": []
    },
    {
      "cell_type": "code",
      "source": [
        "numbers = [1, 2, 3, 4, 5]\n",
        "result =[]\n",
        "\n",
        "for number in numbers:\n",
        "  result.append(number**2)\n",
        "\n",
        "print(result)\n",
        "\n",
        "#이 코드를 한줄로"
      ],
      "metadata": {
        "colab": {
          "base_uri": "https://localhost:8080/"
        },
        "id": "npAr_d4gFL85",
        "outputId": "a1203d24-217e-4bf0-fb29-2520f10a68aa"
      },
      "execution_count": 102,
      "outputs": [
        {
          "output_type": "stream",
          "name": "stdout",
          "text": [
            "[1, 4, 9, 16, 25]\n"
          ]
        }
      ]
    },
    {
      "cell_type": "code",
      "source": [
        "numbers = [1, 2, 3, 4, 5]\n",
        "result2 =[i ** 2 for i in numbers]\n",
        "result2"
      ],
      "metadata": {
        "colab": {
          "base_uri": "https://localhost:8080/"
        },
        "id": "TNis4x8XFx6U",
        "outputId": "ebb54ac2-7475-45d6-cfab-6543ae0de72c"
      },
      "execution_count": 104,
      "outputs": [
        {
          "output_type": "execute_result",
          "data": {
            "text/plain": [
              "[1, 4, 9, 16, 25]"
            ]
          },
          "metadata": {},
          "execution_count": 104
        }
      ]
    },
    {
      "cell_type": "markdown",
      "source": [
        "###조건문 추가"
      ],
      "metadata": {
        "id": "YWyRz7WcKxqq"
      }
    },
    {
      "cell_type": "code",
      "source": [
        "numbers = [1, 2, 3, 4, 5]\n",
        "result =[]\n",
        "\n",
        "for i in numbers:\n",
        "  if i >= 3:\n",
        "    result.append(i ** 2)\n",
        "\n",
        "print(result)\n"
      ],
      "metadata": {
        "colab": {
          "base_uri": "https://localhost:8080/"
        },
        "id": "grsqHVqCGbjA",
        "outputId": "a76e6a16-1368-4950-a1f9-9d66069848be"
      },
      "execution_count": 105,
      "outputs": [
        {
          "output_type": "stream",
          "name": "stdout",
          "text": [
            "[9, 16, 25]\n"
          ]
        }
      ]
    },
    {
      "cell_type": "code",
      "source": [
        "numbers = [1, 2, 3, 4, 5]\n",
        "result2 =[i ** 2 for i in numbers if i >= 3]\n",
        "result2"
      ],
      "metadata": {
        "colab": {
          "base_uri": "https://localhost:8080/"
        },
        "id": "mSKT6_MSLDua",
        "outputId": "a9e16a8b-b937-4334-f96a-ca4c6f230dcb"
      },
      "execution_count": 106,
      "outputs": [
        {
          "output_type": "execute_result",
          "data": {
            "text/plain": [
              "[9, 16, 25]"
            ]
          },
          "metadata": {},
          "execution_count": 106
        }
      ]
    },
    {
      "cell_type": "markdown",
      "source": [
        "- 시각화 라이브러리\n",
        "  + matplotlib, plotly 옵션 설정 할때, 자주 사용됨\n",
        "  + 5 - 1.3, 5 - 1.4"
      ],
      "metadata": {
        "id": "dzISODy_MD6d"
      }
    },
    {
      "cell_type": "markdown",
      "source": [
        "# 파이썬 문서화 (Docstring)\n",
        "- 코딩을 한다. 프로그래밍을 한다.\n",
        "- 누군가에게 관련 지식을 전달하는 것과 동일\n",
        "  - 혼자 코딩하고, 혼자만 알 수 있는 언어로 코딩을 했다 ==> 협업 불가능\n",
        "  + 취업, 퇴사, 이직 ==> 업무 인수인계를 해야 함\n",
        "  + 코딩한 것에 문서화를 하지 못하면 업무 인수인계 자체가 불가능\n",
        "\n",
        "- 프로젝트 진행\n",
        "  - 3주 / 4주 ==> 마지막주\n",
        "    - 2-3명, ppt보고서 작성\n",
        "    - 남은 인원, Docstring을 사용해서 문서화\n",
        "  - help() 명령어를 사용해서 불러오기 할 수 있음"
      ],
      "metadata": {
        "id": "aVd9H2zlNG4j"
      }
    },
    {
      "cell_type": "code",
      "source": [
        "help(print)"
      ],
      "metadata": {
        "colab": {
          "base_uri": "https://localhost:8080/"
        },
        "id": "l06goE1HLLb7",
        "outputId": "2949fd31-e7e4-4f75-9d53-75a8340357c0"
      },
      "execution_count": 107,
      "outputs": [
        {
          "output_type": "stream",
          "name": "stdout",
          "text": [
            "Help on built-in function print in module builtins:\n",
            "\n",
            "print(...)\n",
            "    print(value, ..., sep=' ', end='\\n', file=sys.stdout, flush=False)\n",
            "    \n",
            "    Prints the values to a stream, or to sys.stdout by default.\n",
            "    Optional keyword arguments:\n",
            "    file:  a file-like object (stream); defaults to the current sys.stdout.\n",
            "    sep:   string inserted between values, default a space.\n",
            "    end:   string appended after the last value, default a newline.\n",
            "    flush: whether to forcibly flush the stream.\n",
            "\n"
          ]
        }
      ]
    },
    {
      "cell_type": "code",
      "source": [
        "import math\n",
        "help(math)"
      ],
      "metadata": {
        "colab": {
          "base_uri": "https://localhost:8080/"
        },
        "id": "B_lS87H6Q16r",
        "outputId": "5c7e0101-0d6f-41c5-8f26-cb7522f10af6"
      },
      "execution_count": 109,
      "outputs": [
        {
          "output_type": "stream",
          "name": "stdout",
          "text": [
            "Help on built-in module math:\n",
            "\n",
            "NAME\n",
            "    math\n",
            "\n",
            "DESCRIPTION\n",
            "    This module provides access to the mathematical functions\n",
            "    defined by the C standard.\n",
            "\n",
            "FUNCTIONS\n",
            "    acos(x, /)\n",
            "        Return the arc cosine (measured in radians) of x.\n",
            "        \n",
            "        The result is between 0 and pi.\n",
            "    \n",
            "    acosh(x, /)\n",
            "        Return the inverse hyperbolic cosine of x.\n",
            "    \n",
            "    asin(x, /)\n",
            "        Return the arc sine (measured in radians) of x.\n",
            "        \n",
            "        The result is between -pi/2 and pi/2.\n",
            "    \n",
            "    asinh(x, /)\n",
            "        Return the inverse hyperbolic sine of x.\n",
            "    \n",
            "    atan(x, /)\n",
            "        Return the arc tangent (measured in radians) of x.\n",
            "        \n",
            "        The result is between -pi/2 and pi/2.\n",
            "    \n",
            "    atan2(y, x, /)\n",
            "        Return the arc tangent (measured in radians) of y/x.\n",
            "        \n",
            "        Unlike atan(y/x), the signs of both x and y are considered.\n",
            "    \n",
            "    atanh(x, /)\n",
            "        Return the inverse hyperbolic tangent of x.\n",
            "    \n",
            "    ceil(x, /)\n",
            "        Return the ceiling of x as an Integral.\n",
            "        \n",
            "        This is the smallest integer >= x.\n",
            "    \n",
            "    comb(n, k, /)\n",
            "        Number of ways to choose k items from n items without repetition and without order.\n",
            "        \n",
            "        Evaluates to n! / (k! * (n - k)!) when k <= n and evaluates\n",
            "        to zero when k > n.\n",
            "        \n",
            "        Also called the binomial coefficient because it is equivalent\n",
            "        to the coefficient of k-th term in polynomial expansion of the\n",
            "        expression (1 + x)**n.\n",
            "        \n",
            "        Raises TypeError if either of the arguments are not integers.\n",
            "        Raises ValueError if either of the arguments are negative.\n",
            "    \n",
            "    copysign(x, y, /)\n",
            "        Return a float with the magnitude (absolute value) of x but the sign of y.\n",
            "        \n",
            "        On platforms that support signed zeros, copysign(1.0, -0.0)\n",
            "        returns -1.0.\n",
            "    \n",
            "    cos(x, /)\n",
            "        Return the cosine of x (measured in radians).\n",
            "    \n",
            "    cosh(x, /)\n",
            "        Return the hyperbolic cosine of x.\n",
            "    \n",
            "    degrees(x, /)\n",
            "        Convert angle x from radians to degrees.\n",
            "    \n",
            "    dist(p, q, /)\n",
            "        Return the Euclidean distance between two points p and q.\n",
            "        \n",
            "        The points should be specified as sequences (or iterables) of\n",
            "        coordinates.  Both inputs must have the same dimension.\n",
            "        \n",
            "        Roughly equivalent to:\n",
            "            sqrt(sum((px - qx) ** 2.0 for px, qx in zip(p, q)))\n",
            "    \n",
            "    erf(x, /)\n",
            "        Error function at x.\n",
            "    \n",
            "    erfc(x, /)\n",
            "        Complementary error function at x.\n",
            "    \n",
            "    exp(x, /)\n",
            "        Return e raised to the power of x.\n",
            "    \n",
            "    expm1(x, /)\n",
            "        Return exp(x)-1.\n",
            "        \n",
            "        This function avoids the loss of precision involved in the direct evaluation of exp(x)-1 for small x.\n",
            "    \n",
            "    fabs(x, /)\n",
            "        Return the absolute value of the float x.\n",
            "    \n",
            "    factorial(x, /)\n",
            "        Find x!.\n",
            "        \n",
            "        Raise a ValueError if x is negative or non-integral.\n",
            "    \n",
            "    floor(x, /)\n",
            "        Return the floor of x as an Integral.\n",
            "        \n",
            "        This is the largest integer <= x.\n",
            "    \n",
            "    fmod(x, y, /)\n",
            "        Return fmod(x, y), according to platform C.\n",
            "        \n",
            "        x % y may differ.\n",
            "    \n",
            "    frexp(x, /)\n",
            "        Return the mantissa and exponent of x, as pair (m, e).\n",
            "        \n",
            "        m is a float and e is an int, such that x = m * 2.**e.\n",
            "        If x is 0, m and e are both 0.  Else 0.5 <= abs(m) < 1.0.\n",
            "    \n",
            "    fsum(seq, /)\n",
            "        Return an accurate floating point sum of values in the iterable seq.\n",
            "        \n",
            "        Assumes IEEE-754 floating point arithmetic.\n",
            "    \n",
            "    gamma(x, /)\n",
            "        Gamma function at x.\n",
            "    \n",
            "    gcd(*integers)\n",
            "        Greatest Common Divisor.\n",
            "    \n",
            "    hypot(...)\n",
            "        hypot(*coordinates) -> value\n",
            "        \n",
            "        Multidimensional Euclidean distance from the origin to a point.\n",
            "        \n",
            "        Roughly equivalent to:\n",
            "            sqrt(sum(x**2 for x in coordinates))\n",
            "        \n",
            "        For a two dimensional point (x, y), gives the hypotenuse\n",
            "        using the Pythagorean theorem:  sqrt(x*x + y*y).\n",
            "        \n",
            "        For example, the hypotenuse of a 3/4/5 right triangle is:\n",
            "        \n",
            "            >>> hypot(3.0, 4.0)\n",
            "            5.0\n",
            "    \n",
            "    isclose(a, b, *, rel_tol=1e-09, abs_tol=0.0)\n",
            "        Determine whether two floating point numbers are close in value.\n",
            "        \n",
            "          rel_tol\n",
            "            maximum difference for being considered \"close\", relative to the\n",
            "            magnitude of the input values\n",
            "          abs_tol\n",
            "            maximum difference for being considered \"close\", regardless of the\n",
            "            magnitude of the input values\n",
            "        \n",
            "        Return True if a is close in value to b, and False otherwise.\n",
            "        \n",
            "        For the values to be considered close, the difference between them\n",
            "        must be smaller than at least one of the tolerances.\n",
            "        \n",
            "        -inf, inf and NaN behave similarly to the IEEE 754 Standard.  That\n",
            "        is, NaN is not close to anything, even itself.  inf and -inf are\n",
            "        only close to themselves.\n",
            "    \n",
            "    isfinite(x, /)\n",
            "        Return True if x is neither an infinity nor a NaN, and False otherwise.\n",
            "    \n",
            "    isinf(x, /)\n",
            "        Return True if x is a positive or negative infinity, and False otherwise.\n",
            "    \n",
            "    isnan(x, /)\n",
            "        Return True if x is a NaN (not a number), and False otherwise.\n",
            "    \n",
            "    isqrt(n, /)\n",
            "        Return the integer part of the square root of the input.\n",
            "    \n",
            "    lcm(*integers)\n",
            "        Least Common Multiple.\n",
            "    \n",
            "    ldexp(x, i, /)\n",
            "        Return x * (2**i).\n",
            "        \n",
            "        This is essentially the inverse of frexp().\n",
            "    \n",
            "    lgamma(x, /)\n",
            "        Natural logarithm of absolute value of Gamma function at x.\n",
            "    \n",
            "    log(...)\n",
            "        log(x, [base=math.e])\n",
            "        Return the logarithm of x to the given base.\n",
            "        \n",
            "        If the base not specified, returns the natural logarithm (base e) of x.\n",
            "    \n",
            "    log10(x, /)\n",
            "        Return the base 10 logarithm of x.\n",
            "    \n",
            "    log1p(x, /)\n",
            "        Return the natural logarithm of 1+x (base e).\n",
            "        \n",
            "        The result is computed in a way which is accurate for x near zero.\n",
            "    \n",
            "    log2(x, /)\n",
            "        Return the base 2 logarithm of x.\n",
            "    \n",
            "    modf(x, /)\n",
            "        Return the fractional and integer parts of x.\n",
            "        \n",
            "        Both results carry the sign of x and are floats.\n",
            "    \n",
            "    nextafter(x, y, /)\n",
            "        Return the next floating-point value after x towards y.\n",
            "    \n",
            "    perm(n, k=None, /)\n",
            "        Number of ways to choose k items from n items without repetition and with order.\n",
            "        \n",
            "        Evaluates to n! / (n - k)! when k <= n and evaluates\n",
            "        to zero when k > n.\n",
            "        \n",
            "        If k is not specified or is None, then k defaults to n\n",
            "        and the function returns n!.\n",
            "        \n",
            "        Raises TypeError if either of the arguments are not integers.\n",
            "        Raises ValueError if either of the arguments are negative.\n",
            "    \n",
            "    pow(x, y, /)\n",
            "        Return x**y (x to the power of y).\n",
            "    \n",
            "    prod(iterable, /, *, start=1)\n",
            "        Calculate the product of all the elements in the input iterable.\n",
            "        \n",
            "        The default start value for the product is 1.\n",
            "        \n",
            "        When the iterable is empty, return the start value.  This function is\n",
            "        intended specifically for use with numeric values and may reject\n",
            "        non-numeric types.\n",
            "    \n",
            "    radians(x, /)\n",
            "        Convert angle x from degrees to radians.\n",
            "    \n",
            "    remainder(x, y, /)\n",
            "        Difference between x and the closest integer multiple of y.\n",
            "        \n",
            "        Return x - n*y where n*y is the closest integer multiple of y.\n",
            "        In the case where x is exactly halfway between two multiples of\n",
            "        y, the nearest even value of n is used. The result is always exact.\n",
            "    \n",
            "    sin(x, /)\n",
            "        Return the sine of x (measured in radians).\n",
            "    \n",
            "    sinh(x, /)\n",
            "        Return the hyperbolic sine of x.\n",
            "    \n",
            "    sqrt(x, /)\n",
            "        Return the square root of x.\n",
            "    \n",
            "    tan(x, /)\n",
            "        Return the tangent of x (measured in radians).\n",
            "    \n",
            "    tanh(x, /)\n",
            "        Return the hyperbolic tangent of x.\n",
            "    \n",
            "    trunc(x, /)\n",
            "        Truncates the Real x to the nearest Integral toward 0.\n",
            "        \n",
            "        Uses the __trunc__ magic method.\n",
            "    \n",
            "    ulp(x, /)\n",
            "        Return the value of the least significant bit of the float x.\n",
            "\n",
            "DATA\n",
            "    e = 2.718281828459045\n",
            "    inf = inf\n",
            "    nan = nan\n",
            "    pi = 3.141592653589793\n",
            "    tau = 6.283185307179586\n",
            "\n",
            "FILE\n",
            "    (built-in)\n",
            "\n",
            "\n"
          ]
        }
      ]
    },
    {
      "cell_type": "code",
      "source": [
        "def myPower(n):\n",
        "  '''숫자 n을 입력하면 n의 거듭제곱으로 반환'''\n",
        "  result = n ** 2\n",
        "  return result"
      ],
      "metadata": {
        "id": "AvAJRKbCQ74Q"
      },
      "execution_count": 110,
      "outputs": []
    },
    {
      "cell_type": "code",
      "source": [
        "print(myPower(3))"
      ],
      "metadata": {
        "colab": {
          "base_uri": "https://localhost:8080/"
        },
        "id": "iRxUAYsYRvdn",
        "outputId": "92ffdfc1-00ad-4998-8510-bcf4c15b9eb6"
      },
      "execution_count": 111,
      "outputs": [
        {
          "output_type": "stream",
          "name": "stdout",
          "text": [
            "9\n"
          ]
        }
      ]
    },
    {
      "cell_type": "code",
      "source": [
        "print(myPower.__doc__)"
      ],
      "metadata": {
        "colab": {
          "base_uri": "https://localhost:8080/"
        },
        "id": "1t3LZe6vR0ss",
        "outputId": "74133833-4ee5-4f3d-f7a4-fc04a4712c5c"
      },
      "execution_count": 112,
      "outputs": [
        {
          "output_type": "stream",
          "name": "stdout",
          "text": [
            "숫자 n을 입력하면 n의 거듭제곱으로 반환\n"
          ]
        }
      ]
    },
    {
      "cell_type": "code",
      "source": [
        "print(print.__doc__)"
      ],
      "metadata": {
        "colab": {
          "base_uri": "https://localhost:8080/"
        },
        "id": "nBcZncy7R6GE",
        "outputId": "244e94fa-3780-4c6c-9ba8-fcfead81c880"
      },
      "execution_count": 113,
      "outputs": [
        {
          "output_type": "stream",
          "name": "stdout",
          "text": [
            "print(value, ..., sep=' ', end='\\n', file=sys.stdout, flush=False)\n",
            "\n",
            "Prints the values to a stream, or to sys.stdout by default.\n",
            "Optional keyword arguments:\n",
            "file:  a file-like object (stream); defaults to the current sys.stdout.\n",
            "sep:   string inserted between values, default a space.\n",
            "end:   string appended after the last value, default a newline.\n",
            "flush: whether to forcibly flush the stream.\n"
          ]
        }
      ]
    },
    {
      "cell_type": "code",
      "source": [
        "def read_csv(sep, header):\n",
        "  '''\n",
        "  Returns the sum of~~~.\n",
        "    Parmeters:\n",
        "      sep (str) : ~~~~\n",
        "      header(int) : ~~~~\n",
        "\n",
        "    Returns:\n",
        "      c(int) : Sum of ~~\n",
        "  '''\n",
        "\n",
        "  c = sep + header\n",
        "  return c"
      ],
      "metadata": {
        "id": "opO7WMDISB61"
      },
      "execution_count": 115,
      "outputs": []
    },
    {
      "cell_type": "code",
      "source": [
        "print(read_csv.__doc__)"
      ],
      "metadata": {
        "colab": {
          "base_uri": "https://localhost:8080/"
        },
        "id": "96lYeEtdTOpS",
        "outputId": "3d2b5b84-eda8-4340-d342-1e3390a89755"
      },
      "execution_count": 116,
      "outputs": [
        {
          "output_type": "stream",
          "name": "stdout",
          "text": [
            "\n",
            "  Returns the sum of~~~.\n",
            "    Parmeters:\n",
            "      sep (str) : ~~~~\n",
            "      header(int) : ~~~~\n",
            "      \n",
            "    Returns:\n",
            "      c(int) : Sum of ~~\n",
            "  \n"
          ]
        }
      ]
    },
    {
      "cell_type": "markdown",
      "source": [
        "# 클래스 상속\n",
        "- 부모 > 자식\n",
        "- 대분류 > 중분류 > 소분류\n",
        "\n",
        "- 동물\n",
        "  - 동물의 공통적인 특징 : 살아 움직인다\n",
        "  - 포유류\n",
        "    + 새끼를 낳는다\n",
        "  - 파충류\n",
        "    + 알을 낳는다"
      ],
      "metadata": {
        "id": "-ls0xOsGYUv6"
      }
    },
    {
      "cell_type": "code",
      "source": [
        "class Animal :\n",
        "  #Attribute 정의(=클래스 변수)\n",
        "  name = ''\n",
        "\n",
        "  # 공통함수\n",
        "  def eat(self):\n",
        "    print(\"나는 먹을 수 있음\")\n",
        "\n",
        "\n",
        "class dog(Animal): # 클래스 상속을 했다. #동물 ==> 강아지로 기본 기능 제공함\n",
        "  #name = ''  이코드는 불필요함\n",
        "\n",
        "  # 새로운 메서드\n",
        "  def dance(self):\n",
        "    print(f'{self.name}강아지가 춤을 춘다' )\n",
        "\n",
        "# 객체 생성\n",
        "a = dog()  # 객체생성을 dog로 했지만 Animal 클래스를 쓸 수 있구나  이 정도만 이해\n",
        "a.name = '코코'\n",
        "a.eat()"
      ],
      "metadata": {
        "colab": {
          "base_uri": "https://localhost:8080/"
        },
        "id": "QmTcaFlwZPDx",
        "outputId": "ca34841f-f1e5-49ea-88fb-fcfee6af7852"
      },
      "execution_count": 118,
      "outputs": [
        {
          "output_type": "stream",
          "name": "stdout",
          "text": [
            "나는 먹을 수 있음\n"
          ]
        }
      ]
    },
    {
      "cell_type": "code",
      "source": [
        "b = Animal()\n",
        "b.name = '시고르자브종'\n",
        "b.eat()"
      ],
      "metadata": {
        "colab": {
          "base_uri": "https://localhost:8080/"
        },
        "id": "_u5xeFgpaFIw",
        "outputId": "462b928b-c57f-46d2-864b-279e23f9396a"
      },
      "execution_count": 119,
      "outputs": [
        {
          "output_type": "stream",
          "name": "stdout",
          "text": [
            "나는 먹을 수 있음\n"
          ]
        }
      ]
    },
    {
      "cell_type": "code",
      "source": [
        "b.dance() # 상속을 받지 않아서"
      ],
      "metadata": {
        "colab": {
          "base_uri": "https://localhost:8080/",
          "height": 176
        },
        "id": "36UxNQNib8cZ",
        "outputId": "825232cb-0345-4daf-9a4c-9bb4b0e126e5"
      },
      "execution_count": 120,
      "outputs": [
        {
          "output_type": "error",
          "ename": "AttributeError",
          "evalue": "ignored",
          "traceback": [
            "\u001b[0;31m---------------------------------------------------------------------------\u001b[0m",
            "\u001b[0;31mAttributeError\u001b[0m                            Traceback (most recent call last)",
            "\u001b[0;32m<ipython-input-120-a091c07220b8>\u001b[0m in \u001b[0;36m<cell line: 1>\u001b[0;34m()\u001b[0m\n\u001b[0;32m----> 1\u001b[0;31m \u001b[0mb\u001b[0m\u001b[0;34m.\u001b[0m\u001b[0mdance\u001b[0m\u001b[0;34m(\u001b[0m\u001b[0;34m)\u001b[0m\u001b[0;34m\u001b[0m\u001b[0;34m\u001b[0m\u001b[0m\n\u001b[0m",
            "\u001b[0;31mAttributeError\u001b[0m: 'Animal' object has no attribute 'dance'"
          ]
        }
      ]
    },
    {
      "cell_type": "markdown",
      "source": [
        "## 클래스 Docstring"
      ],
      "metadata": {
        "id": "arNx-YBNckMi"
      }
    },
    {
      "cell_type": "code",
      "source": [
        "class Person:\n",
        "  \"\"\"\n",
        "  자기 소개하는 Person 클래스.\n",
        "\n",
        "  '''\n",
        "  Attributes # Parameters\n",
        "  -----------\n",
        "  name : str\n",
        "    사람의 이름을 의미\n",
        "  age : int\n",
        "    사람의 나이를 의미\n",
        "  grade : int\n",
        "    사람의 현재 학년을 의미\n",
        "\n",
        "  Methods\n",
        "  -----------\n",
        "  info(comment=\"\"):\n",
        "    사람의 개인정보를 출력\n",
        "\n",
        "  \"\"\"\n",
        "\n",
        "  def __init__(self, name, age, grade):\n",
        "    \"\"\"\n",
        "\n",
        "    \"\"\"\n",
        "    self.name = name\n",
        "    self.age = age\n",
        "    self.grade = grade\n",
        "\n",
        "  def info(self, comment = \"\"):\n",
        "    \"\"\"\n",
        "\n",
        "    \"\"\"\n",
        "    print(f'내 이름은 {self.name}. 내 나이는 {self.age}. 현재 학년은 {self.grade}. {comment}')"
      ],
      "metadata": {
        "id": "ZjuCZf4kb-31"
      },
      "execution_count": null,
      "outputs": []
    }
  ]
}