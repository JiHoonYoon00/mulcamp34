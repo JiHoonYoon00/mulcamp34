{
  "nbformat": 4,
  "nbformat_minor": 0,
  "metadata": {
    "colab": {
      "provenance": [],
      "authorship_tag": "ABX9TyN/JfbuKgthJZ5RJUf7KvrT",
      "include_colab_link": true
    },
    "kernelspec": {
      "name": "python3",
      "display_name": "Python 3"
    },
    "language_info": {
      "name": "python"
    }
  },
  "cells": [
    {
      "cell_type": "markdown",
      "metadata": {
        "id": "view-in-github",
        "colab_type": "text"
      },
      "source": [
        "<a href=\"https://colab.research.google.com/github/JiHoonYoon00/mulcamp34/blob/main/%EA%B8%B0%EC%B4%88%EB%AC%B8%EB%B2%95_231227.ipynb\" target=\"_parent\"><img src=\"https://colab.research.google.com/assets/colab-badge.svg\" alt=\"Open In Colab\"/></a>"
      ]
    },
    {
      "cell_type": "markdown",
      "source": [
        "# Chapter 3. 파이썬을 계산기처럼\n",
        "\n",
        "- 데이터 분선가 : 기본언어 pyhton ,현업(의료기간,r수요 높음)\n",
        "- 개발자 : 기본언어 python,수료후 장기적 React, Java"
      ],
      "metadata": {
        "id": "xREusLw0oe_7"
      }
    },
    {
      "cell_type": "markdown",
      "source": [
        "# 사칙연산"
      ],
      "metadata": {
        "id": "DIot8FF7rRls"
      }
    },
    {
      "cell_type": "code",
      "execution_count": 3,
      "metadata": {
        "colab": {
          "base_uri": "https://localhost:8080/"
        },
        "id": "pxOA9pQJnwVK",
        "outputId": "925def01-23a0-4bfa-e153-015b283fcf08"
      },
      "outputs": [
        {
          "output_type": "execute_result",
          "data": {
            "text/plain": [
              "2"
            ]
          },
          "metadata": {},
          "execution_count": 3
        }
      ],
      "source": [
        "1+1"
      ]
    },
    {
      "cell_type": "code",
      "source": [
        "5-2"
      ],
      "metadata": {
        "colab": {
          "base_uri": "https://localhost:8080/"
        },
        "id": "c5s319e8rgMc",
        "outputId": "b9290f40-25d3-4d94-8370-d5e63b65b942"
      },
      "execution_count": 4,
      "outputs": [
        {
          "output_type": "execute_result",
          "data": {
            "text/plain": [
              "3"
            ]
          },
          "metadata": {},
          "execution_count": 4
        }
      ]
    },
    {
      "cell_type": "code",
      "source": [
        "15*2"
      ],
      "metadata": {
        "colab": {
          "base_uri": "https://localhost:8080/"
        },
        "id": "qyzXDXSyrkJ_",
        "outputId": "ab25958c-5db2-428f-e24a-a92d008099b6"
      },
      "execution_count": 5,
      "outputs": [
        {
          "output_type": "execute_result",
          "data": {
            "text/plain": [
              "30"
            ]
          },
          "metadata": {},
          "execution_count": 5
        }
      ]
    },
    {
      "cell_type": "code",
      "source": [
        "#나눗셈\n",
        "10/2   #정수/정수 실수형으로 반환"
      ],
      "metadata": {
        "colab": {
          "base_uri": "https://localhost:8080/"
        },
        "id": "hQ9N5VPTrrN_",
        "outputId": "851bfe31-bb85-47ac-c72a-63afc6d4668e"
      },
      "execution_count": 6,
      "outputs": [
        {
          "output_type": "execute_result",
          "data": {
            "text/plain": [
              "5.0"
            ]
          },
          "metadata": {},
          "execution_count": 6
        }
      ]
    },
    {
      "cell_type": "markdown",
      "source": [
        "- 실수연산"
      ],
      "metadata": {
        "id": "oTRaQ3g9sQw1"
      }
    },
    {
      "cell_type": "code",
      "source": [
        "print(1.2 + 5.2)\n",
        "print(3.5 - 2.1)\n",
        "print(4.2 * 1.3)\n",
        "print(9.5 / 2.8)\n",
        "#결과 확인을 할때 print() 사용권장, 습관"
      ],
      "metadata": {
        "colab": {
          "base_uri": "https://localhost:8080/"
        },
        "id": "v780TS-ar9nT",
        "outputId": "5449d6af-f480-4181-aec3-da02eb588bf5"
      },
      "execution_count": 8,
      "outputs": [
        {
          "output_type": "stream",
          "name": "stdout",
          "text": [
            "6.4\n",
            "1.4\n",
            "5.460000000000001\n",
            "3.3928571428571432\n"
          ]
        }
      ]
    },
    {
      "cell_type": "markdown",
      "source": [
        "### 연산규칙\n",
        "- (1) 괄호안 계산\n",
        "- (2) 지수 계산\n",
        "- (3) 곱셈과 나눗셈 계산\n",
        "- (4) 덧셈과 뺄셈 계산\n",
        "- (5) 같은 순위 연산이면, 왼쪽에서 오른쪽으로\n",
        "- (6) 중복된 괄호가 있을 경우, 안쪽에서부터 처리"
      ],
      "metadata": {
        "id": "mNfL1qeYtWPV"
      }
    },
    {
      "cell_type": "code",
      "source": [
        "print(2 + 3 * 4)"
      ],
      "metadata": {
        "colab": {
          "base_uri": "https://localhost:8080/"
        },
        "id": "7emmflCqslI0",
        "outputId": "94a027b2-1aca-4296-f4bb-65127a9b56c9"
      },
      "execution_count": 9,
      "outputs": [
        {
          "output_type": "stream",
          "name": "stdout",
          "text": [
            "14\n"
          ]
        }
      ]
    },
    {
      "cell_type": "code",
      "source": [
        "print(3 / 2 * 4 - 5 / 2)"
      ],
      "metadata": {
        "colab": {
          "base_uri": "https://localhost:8080/"
        },
        "id": "yVQ9MmURt-9W",
        "outputId": "c7f09f37-c47d-459d-ade8-febef1a540b8"
      },
      "execution_count": 10,
      "outputs": [
        {
          "output_type": "stream",
          "name": "stdout",
          "text": [
            "3.5\n"
          ]
        }
      ]
    },
    {
      "cell_type": "code",
      "source": [
        "print((5 * 4 - 15) + ((5-2) * (9 - 7)))"
      ],
      "metadata": {
        "colab": {
          "base_uri": "https://localhost:8080/"
        },
        "id": "Q_DnKm8nuF04",
        "outputId": "f257049b-8944-4d9a-e770-de29c9a9cf89"
      },
      "execution_count": 11,
      "outputs": [
        {
          "output_type": "stream",
          "name": "stdout",
          "text": [
            "11\n"
          ]
        }
      ]
    },
    {
      "cell_type": "markdown",
      "source": [
        "## type()\n",
        "- 함수 : 특정기능을 수행하도록 만든 매직박스\n",
        " + 특정함수를 조건만 맞춰주면 동작"
      ],
      "metadata": {
        "id": "hGbLaf5Jzt06"
      }
    },
    {
      "cell_type": "markdown",
      "source": [
        "함수의 종류\n",
        "- 내장(built-in)함수 : 파이썬 설치와 함께 제공되는 기본적인 함수\n",
        " + print(), type()...\n",
        "\n",
        "- 라이브러리에서 제공하는 함수\n",
        " + R : 패키지 , Python : 라이브러리\n",
        " + 목적이 분명\n",
        "  - 웹사이트 개발 : 웹사이트 개발과 관련된 라이브러리 설치\n",
        "  - 통계분석\n",
        "  - 시각화\n",
        "  - 게임개발"
      ],
      "metadata": {
        "id": "P4DjcH2yzxr-"
      }
    },
    {
      "cell_type": "code",
      "source": [
        "# 파이썬에서 정수를 어떨게 표현할까\n",
        "# 파이썬에서 실수를 어떨게 표현할까\n",
        "type(3)\n"
      ],
      "metadata": {
        "colab": {
          "base_uri": "https://localhost:8080/"
        },
        "id": "w1CCf-usudHr",
        "outputId": "30fd132a-36b9-416e-84ef-451036033a1d"
      },
      "execution_count": 13,
      "outputs": [
        {
          "output_type": "execute_result",
          "data": {
            "text/plain": [
              "int"
            ]
          },
          "metadata": {},
          "execution_count": 13
        }
      ]
    },
    {
      "cell_type": "code",
      "source": [
        "type(3.5)"
      ],
      "metadata": {
        "colab": {
          "base_uri": "https://localhost:8080/"
        },
        "id": "kse-byWouzf7",
        "outputId": "38d9b777-22b2-4b50-d45c-f26d294212ba"
      },
      "execution_count": 14,
      "outputs": [
        {
          "output_type": "execute_result",
          "data": {
            "text/plain": [
              "float"
            ]
          },
          "metadata": {},
          "execution_count": 14
        }
      ]
    },
    {
      "cell_type": "code",
      "source": [
        "print(type(3))\n",
        "print(type(3.5))"
      ],
      "metadata": {
        "colab": {
          "base_uri": "https://localhost:8080/"
        },
        "id": "UWZBvNXiu8rH",
        "outputId": "a079d6ee-c60d-4a37-b817-a36ddeec5659"
      },
      "execution_count": 15,
      "outputs": [
        {
          "output_type": "stream",
          "name": "stdout",
          "text": [
            "<class 'int'>\n",
            "<class 'float'>\n"
          ]
        }
      ]
    },
    {
      "cell_type": "markdown",
      "source": [
        "- 파이썬 객체지향 언어입니다. (class에 대해서)"
      ],
      "metadata": {
        "id": "e0xm69wV1w7g"
      }
    },
    {
      "cell_type": "markdown",
      "source": [
        "## 거듭 제곱과 나머지\n",
        "- 숫자 A를 n번 곱하는 거듭제곱(power)\n",
        " + A를 밑, n을 지수"
      ],
      "metadata": {
        "id": "NTfVQ9zD2Evh"
      }
    },
    {
      "cell_type": "code",
      "source": [
        "2 * 2 * 2 * 2 * 2"
      ],
      "metadata": {
        "colab": {
          "base_uri": "https://localhost:8080/"
        },
        "id": "eE7aZYaLvHPR",
        "outputId": "386d9eea-89fb-48cb-b680-4317e854fa0f"
      },
      "execution_count": 16,
      "outputs": [
        {
          "output_type": "execute_result",
          "data": {
            "text/plain": [
              "32"
            ]
          },
          "metadata": {},
          "execution_count": 16
        }
      ]
    },
    {
      "cell_type": "code",
      "source": [
        "2**5 #거듭제곱"
      ],
      "metadata": {
        "colab": {
          "base_uri": "https://localhost:8080/"
        },
        "id": "BNLe_Wgm2ayy",
        "outputId": "2e4073fe-f038-4b0f-cddd-552d7feb6d35"
      },
      "execution_count": 17,
      "outputs": [
        {
          "output_type": "execute_result",
          "data": {
            "text/plain": [
              "32"
            ]
          },
          "metadata": {},
          "execution_count": 17
        }
      ]
    },
    {
      "cell_type": "markdown",
      "source": [
        "-나머지 구하는 방법"
      ],
      "metadata": {
        "id": "0Ce6G8PZ2oLx"
      }
    },
    {
      "cell_type": "code",
      "source": [
        "13 % 5 #나머지"
      ],
      "metadata": {
        "colab": {
          "base_uri": "https://localhost:8080/"
        },
        "id": "gvw4QvM02f4z",
        "outputId": "59112b5a-d85e-4ed3-e587-595ff5651917"
      },
      "execution_count": 19,
      "outputs": [
        {
          "output_type": "execute_result",
          "data": {
            "text/plain": [
              "3"
            ]
          },
          "metadata": {},
          "execution_count": 19
        }
      ]
    },
    {
      "cell_type": "code",
      "source": [
        "13 // 5 #몫"
      ],
      "metadata": {
        "colab": {
          "base_uri": "https://localhost:8080/"
        },
        "id": "DZ_yfwSC2xNu",
        "outputId": "bb4d5c5b-d5fd-4c84-90e4-8d66b6beb0a3"
      },
      "execution_count": 20,
      "outputs": [
        {
          "output_type": "execute_result",
          "data": {
            "text/plain": [
              "2"
            ]
          },
          "metadata": {},
          "execution_count": 20
        }
      ]
    },
    {
      "cell_type": "markdown",
      "source": [
        "## 과학적 표기법\n",
        "- 아주 큰 수, 작은 수를 다뤄야하는 케이스\n",
        " + 빛은 초당 30만 km\n",
        " + 300,000,000m/s\n",
        " + 3x10^8"
      ],
      "metadata": {
        "id": "S7hB7jOg3fco"
      }
    },
    {
      "cell_type": "code",
      "source": [
        "3* 10 ** 8"
      ],
      "metadata": {
        "colab": {
          "base_uri": "https://localhost:8080/"
        },
        "id": "PucMcxzF20_0",
        "outputId": "6eccd16f-6832-4d97-c74d-c064bc324597"
      },
      "execution_count": 21,
      "outputs": [
        {
          "output_type": "execute_result",
          "data": {
            "text/plain": [
              "300000000"
            ]
          },
          "metadata": {},
          "execution_count": 21
        }
      ]
    },
    {
      "cell_type": "code",
      "source": [
        "3e8"
      ],
      "metadata": {
        "colab": {
          "base_uri": "https://localhost:8080/"
        },
        "id": "oaJ5_sJr4W6w",
        "outputId": "2f1c3de2-d3eb-4085-d582-262592d3e447"
      },
      "execution_count": 22,
      "outputs": [
        {
          "output_type": "execute_result",
          "data": {
            "text/plain": [
              "300000000.0"
            ]
          },
          "metadata": {},
          "execution_count": 22
        }
      ]
    },
    {
      "cell_type": "code",
      "source": [
        "3e-4"
      ],
      "metadata": {
        "colab": {
          "base_uri": "https://localhost:8080/"
        },
        "id": "UQHSzmOt4Z4l",
        "outputId": "c265af3d-fd59-47c7-cc40-525d9135c165"
      },
      "execution_count": 24,
      "outputs": [
        {
          "output_type": "execute_result",
          "data": {
            "text/plain": [
              "0.0003"
            ]
          },
          "metadata": {},
          "execution_count": 24
        }
      ]
    },
    {
      "cell_type": "markdown",
      "source": [
        "## 진수 표환과 변환\n",
        "- 우리는 일상생활에서 10진법\n",
        "- 60진법 : 60초 1분 , 60분 1시간\n",
        "- 12진법 : 오전 112시간, 오후 12시간, 1년 12달\n",
        "- 컴퓨터 프로그래밍: 숫자 0과 1로 이루어진 2진법\n",
        "- 8진법 : 0 ~ 7\n",
        "- 16진법 : 0 ~ 9, a~f\n",
        "- 메서드\n",
        " + bin() : 10진수를 2진수\n",
        " + oct() : 10진수를 8진수\n",
        " + hex() : 10진수를 16진수\n"
      ],
      "metadata": {
        "id": "DqYv5v345WTj"
      }
    },
    {
      "cell_type": "markdown",
      "source": [
        "## 논리연산 및 비교연산(매우 중요)\n",
        "- 참/거짓 (불린)\n",
        "- 논리 연산을 잘 활용하는 것이 프로그래밍 핵심\n"
      ],
      "metadata": {
        "id": "Y26VhgUZ7Hw3"
      }
    },
    {
      "cell_type": "code",
      "source": [
        "print(True)"
      ],
      "metadata": {
        "colab": {
          "base_uri": "https://localhost:8080/"
        },
        "id": "2RRUBTQU4km_",
        "outputId": "ac32c7ef-8886-4274-9697-a77c61220abc"
      },
      "execution_count": 25,
      "outputs": [
        {
          "output_type": "stream",
          "name": "stdout",
          "text": [
            "True\n"
          ]
        }
      ]
    },
    {
      "cell_type": "code",
      "source": [
        "print(False)"
      ],
      "metadata": {
        "colab": {
          "base_uri": "https://localhost:8080/"
        },
        "id": "iCgz5qE-76dr",
        "outputId": "937a8924-7866-4ef7-856b-38b095043528"
      },
      "execution_count": 26,
      "outputs": [
        {
          "output_type": "stream",
          "name": "stdout",
          "text": [
            "False\n"
          ]
        }
      ]
    },
    {
      "cell_type": "code",
      "source": [
        "print(type(True))"
      ],
      "metadata": {
        "colab": {
          "base_uri": "https://localhost:8080/"
        },
        "id": "lQh7bKQI78bL",
        "outputId": "6706e5ef-d019-4b7d-f2de-490c96c40622"
      },
      "execution_count": 27,
      "outputs": [
        {
          "output_type": "stream",
          "name": "stdout",
          "text": [
            "<class 'bool'>\n"
          ]
        }
      ]
    },
    {
      "cell_type": "markdown",
      "source": [
        "### 논리 연산자\n",
        "- and : A and B : A 와 B 모두 참일때 참\n",
        "- or : A or B : 둘중 하나라도 참이면 참 둘다 거짓이면 거짓\n",
        "- not : not A : A가 참이면 거짓 , A가 거짓이면 참"
      ],
      "metadata": {
        "id": "MEpgjWNw8T2m"
      }
    },
    {
      "cell_type": "code",
      "source": [
        "print(True and True)"
      ],
      "metadata": {
        "colab": {
          "base_uri": "https://localhost:8080/"
        },
        "id": "qynD71tx8EBR",
        "outputId": "aa09b9f4-28f4-47bb-b8d3-34e5da24e682"
      },
      "execution_count": 28,
      "outputs": [
        {
          "output_type": "stream",
          "name": "stdout",
          "text": [
            "True\n"
          ]
        }
      ]
    },
    {
      "cell_type": "code",
      "source": [
        "print(True and False)"
      ],
      "metadata": {
        "colab": {
          "base_uri": "https://localhost:8080/"
        },
        "id": "33Ny6w9PBXhy",
        "outputId": "734a8022-ea6d-444e-b9e8-1946a5d883dc"
      },
      "execution_count": 29,
      "outputs": [
        {
          "output_type": "stream",
          "name": "stdout",
          "text": [
            "False\n"
          ]
        }
      ]
    },
    {
      "cell_type": "code",
      "source": [
        "print(False and True)"
      ],
      "metadata": {
        "colab": {
          "base_uri": "https://localhost:8080/"
        },
        "id": "PxAllcrUBd7a",
        "outputId": "25c8a4d0-f504-4d51-ad8a-64206032f7e3"
      },
      "execution_count": 30,
      "outputs": [
        {
          "output_type": "stream",
          "name": "stdout",
          "text": [
            "False\n"
          ]
        }
      ]
    },
    {
      "cell_type": "code",
      "source": [
        "print(False and False)"
      ],
      "metadata": {
        "colab": {
          "base_uri": "https://localhost:8080/"
        },
        "id": "nX_IWiuyBhex",
        "outputId": "6cba62d5-e631-4858-a20c-acdabb8fb251"
      },
      "execution_count": 31,
      "outputs": [
        {
          "output_type": "stream",
          "name": "stdout",
          "text": [
            "False\n"
          ]
        }
      ]
    },
    {
      "cell_type": "code",
      "source": [
        "print(False or True)\n",
        "print(True or True)\n",
        "print(True or False)\n",
        "print(False or False)"
      ],
      "metadata": {
        "colab": {
          "base_uri": "https://localhost:8080/"
        },
        "id": "VDFK88srBmuh",
        "outputId": "016328a9-a9ec-449c-8c56-16cd87eacd7b"
      },
      "execution_count": 32,
      "outputs": [
        {
          "output_type": "stream",
          "name": "stdout",
          "text": [
            "True\n",
            "True\n",
            "True\n",
            "False\n"
          ]
        }
      ]
    },
    {
      "cell_type": "code",
      "source": [
        "not True"
      ],
      "metadata": {
        "colab": {
          "base_uri": "https://localhost:8080/"
        },
        "id": "597bn1zLB5o0",
        "outputId": "b2e222bc-1283-4a1e-91c4-a9b2c482ad1a"
      },
      "execution_count": 33,
      "outputs": [
        {
          "output_type": "execute_result",
          "data": {
            "text/plain": [
              "False"
            ]
          },
          "metadata": {},
          "execution_count": 33
        }
      ]
    },
    {
      "cell_type": "code",
      "source": [
        "not False"
      ],
      "metadata": {
        "colab": {
          "base_uri": "https://localhost:8080/"
        },
        "id": "G5vZBlspCDCI",
        "outputId": "8ba4c8cd-5987-4d9f-fb8c-845d8fd1d01d"
      },
      "execution_count": 34,
      "outputs": [
        {
          "output_type": "execute_result",
          "data": {
            "text/plain": [
              "True"
            ]
          },
          "metadata": {},
          "execution_count": 34
        }
      ]
    },
    {
      "cell_type": "markdown",
      "source": [
        "비교연산자"
      ],
      "metadata": {
        "id": "Cov4o86FDOl0"
      }
    },
    {
      "cell_type": "code",
      "source": [
        "1 == 1"
      ],
      "metadata": {
        "colab": {
          "base_uri": "https://localhost:8080/"
        },
        "id": "SiDIu4QlCEh5",
        "outputId": "4b991b5c-e234-46af-f04a-9a4fbf209a8d"
      },
      "execution_count": 36,
      "outputs": [
        {
          "output_type": "execute_result",
          "data": {
            "text/plain": [
              "True"
            ]
          },
          "metadata": {},
          "execution_count": 36
        }
      ]
    },
    {
      "cell_type": "code",
      "source": [
        "1 != 2"
      ],
      "metadata": {
        "colab": {
          "base_uri": "https://localhost:8080/"
        },
        "id": "o7_Xlc4LDdp7",
        "outputId": "64b40934-ca12-415a-90f8-80609dbe2c80"
      },
      "execution_count": 37,
      "outputs": [
        {
          "output_type": "execute_result",
          "data": {
            "text/plain": [
              "True"
            ]
          },
          "metadata": {},
          "execution_count": 37
        }
      ]
    },
    {
      "cell_type": "code",
      "source": [
        "1 <= 2"
      ],
      "metadata": {
        "colab": {
          "base_uri": "https://localhost:8080/"
        },
        "id": "egjqd_RQDgF_",
        "outputId": "ee888585-1869-4871-a680-fa36c627c684"
      },
      "execution_count": 39,
      "outputs": [
        {
          "output_type": "execute_result",
          "data": {
            "text/plain": [
              "True"
            ]
          },
          "metadata": {},
          "execution_count": 39
        }
      ]
    },
    {
      "cell_type": "code",
      "source": [
        "1 < 2"
      ],
      "metadata": {
        "colab": {
          "base_uri": "https://localhost:8080/"
        },
        "id": "s0hnwOJADl5L",
        "outputId": "28acee37-0c89-40df-a4a5-e1ccbfa591f9"
      },
      "execution_count": 40,
      "outputs": [
        {
          "output_type": "execute_result",
          "data": {
            "text/plain": [
              "True"
            ]
          },
          "metadata": {},
          "execution_count": 40
        }
      ]
    },
    {
      "cell_type": "markdown",
      "source": [
        "### 비교연산자 + 논리연산자"
      ],
      "metadata": {
        "id": "mZIOGEuGD7uh"
      }
    },
    {
      "cell_type": "code",
      "source": [
        "1 > 0 and -2 < 0 #비교연산자(1순위) 논리연산자(2순위)"
      ],
      "metadata": {
        "colab": {
          "base_uri": "https://localhost:8080/"
        },
        "id": "lhX-RFXnDrOM",
        "outputId": "08876830-938f-4774-b0a0-05570b5b722a"
      },
      "execution_count": 41,
      "outputs": [
        {
          "output_type": "execute_result",
          "data": {
            "text/plain": [
              "True"
            ]
          },
          "metadata": {},
          "execution_count": 41
        }
      ]
    },
    {
      "cell_type": "code",
      "source": [
        "((3 < 0) and (-5 > 0)) and (1 > 5) #괄호가 먼저 연산"
      ],
      "metadata": {
        "colab": {
          "base_uri": "https://localhost:8080/"
        },
        "id": "4iLLsV3IEFwY",
        "outputId": "f7c56cb2-7511-47ce-c7cd-6ec471236f7d"
      },
      "execution_count": 42,
      "outputs": [
        {
          "output_type": "execute_result",
          "data": {
            "text/plain": [
              "False"
            ]
          },
          "metadata": {},
          "execution_count": 42
        }
      ]
    },
    {
      "cell_type": "code",
      "source": [],
      "metadata": {
        "id": "rAOMQ4ZnEtB7"
      },
      "execution_count": null,
      "outputs": []
    }
  ]
}