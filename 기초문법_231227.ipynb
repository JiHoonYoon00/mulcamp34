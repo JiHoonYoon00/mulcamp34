{
  "nbformat": 4,
  "nbformat_minor": 0,
  "metadata": {
    "colab": {
      "provenance": [],
      "authorship_tag": "ABX9TyMjT1mx7qzMUJBxYF0FyPGb",
      "include_colab_link": true
    },
    "kernelspec": {
      "name": "python3",
      "display_name": "Python 3"
    },
    "language_info": {
      "name": "python"
    }
  },
  "cells": [
    {
      "cell_type": "markdown",
      "metadata": {
        "id": "view-in-github",
        "colab_type": "text"
      },
      "source": [
        "<a href=\"https://colab.research.google.com/github/JiHoonYoon00/mulcamp34/blob/main/%EA%B8%B0%EC%B4%88%EB%AC%B8%EB%B2%95_231227.ipynb\" target=\"_parent\"><img src=\"https://colab.research.google.com/assets/colab-badge.svg\" alt=\"Open In Colab\"/></a>"
      ]
    },
    {
      "cell_type": "markdown",
      "source": [
        "# Chapter 3. 파이썬을 계산기처럼\n",
        "\n",
        "- 데이터 분선가 : 기본언어 pyhton ,현업(의료기간,r수요 높음)\n",
        "- 개발자 : 기본언어 python,수료후 장기적 React, Java"
      ],
      "metadata": {
        "id": "xREusLw0oe_7"
      }
    },
    {
      "cell_type": "markdown",
      "source": [
        "# 사칙연산"
      ],
      "metadata": {
        "id": "DIot8FF7rRls"
      }
    },
    {
      "cell_type": "code",
      "execution_count": 3,
      "metadata": {
        "colab": {
          "base_uri": "https://localhost:8080/"
        },
        "id": "pxOA9pQJnwVK",
        "outputId": "925def01-23a0-4bfa-e153-015b283fcf08"
      },
      "outputs": [
        {
          "output_type": "execute_result",
          "data": {
            "text/plain": [
              "2"
            ]
          },
          "metadata": {},
          "execution_count": 3
        }
      ],
      "source": [
        "1+1"
      ]
    },
    {
      "cell_type": "code",
      "source": [
        "5-2"
      ],
      "metadata": {
        "colab": {
          "base_uri": "https://localhost:8080/"
        },
        "id": "c5s319e8rgMc",
        "outputId": "b9290f40-25d3-4d94-8370-d5e63b65b942"
      },
      "execution_count": 4,
      "outputs": [
        {
          "output_type": "execute_result",
          "data": {
            "text/plain": [
              "3"
            ]
          },
          "metadata": {},
          "execution_count": 4
        }
      ]
    },
    {
      "cell_type": "code",
      "source": [
        "15*2"
      ],
      "metadata": {
        "colab": {
          "base_uri": "https://localhost:8080/"
        },
        "id": "qyzXDXSyrkJ_",
        "outputId": "ab25958c-5db2-428f-e24a-a92d008099b6"
      },
      "execution_count": 5,
      "outputs": [
        {
          "output_type": "execute_result",
          "data": {
            "text/plain": [
              "30"
            ]
          },
          "metadata": {},
          "execution_count": 5
        }
      ]
    },
    {
      "cell_type": "code",
      "source": [
        "#나눗셈\n",
        "10/2   #정수/정수 실수형으로 반환"
      ],
      "metadata": {
        "colab": {
          "base_uri": "https://localhost:8080/"
        },
        "id": "hQ9N5VPTrrN_",
        "outputId": "851bfe31-bb85-47ac-c72a-63afc6d4668e"
      },
      "execution_count": 6,
      "outputs": [
        {
          "output_type": "execute_result",
          "data": {
            "text/plain": [
              "5.0"
            ]
          },
          "metadata": {},
          "execution_count": 6
        }
      ]
    },
    {
      "cell_type": "markdown",
      "source": [
        "- 실수연산"
      ],
      "metadata": {
        "id": "oTRaQ3g9sQw1"
      }
    },
    {
      "cell_type": "code",
      "source": [
        "print(1.2 + 5.2)\n",
        "print(3.5 - 2.1)\n",
        "print(4.2 * 1.3)\n",
        "print(9.5 / 2.8)\n",
        "#결과 확인을 할때 print() 사용권장, 습관"
      ],
      "metadata": {
        "colab": {
          "base_uri": "https://localhost:8080/"
        },
        "id": "v780TS-ar9nT",
        "outputId": "5449d6af-f480-4181-aec3-da02eb588bf5"
      },
      "execution_count": 8,
      "outputs": [
        {
          "output_type": "stream",
          "name": "stdout",
          "text": [
            "6.4\n",
            "1.4\n",
            "5.460000000000001\n",
            "3.3928571428571432\n"
          ]
        }
      ]
    },
    {
      "cell_type": "markdown",
      "source": [
        "### 연산규칙\n",
        "- (1) 괄호안 계산\n",
        "- (2) 지수 계산\n",
        "- (3) 곱셈과 나눗셈 계산\n",
        "- (4) 덧셈과 뺄셈 계산\n",
        "- (5) 같은 순위 연산이면, 왼쪽에서 오른쪽으로\n",
        "- (6) 중복된 괄호가 있을 경우, 안쪽에서부터 처리"
      ],
      "metadata": {
        "id": "mNfL1qeYtWPV"
      }
    },
    {
      "cell_type": "code",
      "source": [
        "print(2 + 3 * 4)"
      ],
      "metadata": {
        "colab": {
          "base_uri": "https://localhost:8080/"
        },
        "id": "7emmflCqslI0",
        "outputId": "94a027b2-1aca-4296-f4bb-65127a9b56c9"
      },
      "execution_count": 9,
      "outputs": [
        {
          "output_type": "stream",
          "name": "stdout",
          "text": [
            "14\n"
          ]
        }
      ]
    },
    {
      "cell_type": "code",
      "source": [
        "print(3 / 2 * 4 - 5 / 2)"
      ],
      "metadata": {
        "colab": {
          "base_uri": "https://localhost:8080/"
        },
        "id": "yVQ9MmURt-9W",
        "outputId": "c7f09f37-c47d-459d-ade8-febef1a540b8"
      },
      "execution_count": 10,
      "outputs": [
        {
          "output_type": "stream",
          "name": "stdout",
          "text": [
            "3.5\n"
          ]
        }
      ]
    },
    {
      "cell_type": "code",
      "source": [
        "print((5 * 4 - 15) + ((5-2) * (9 - 7)))"
      ],
      "metadata": {
        "colab": {
          "base_uri": "https://localhost:8080/"
        },
        "id": "Q_DnKm8nuF04",
        "outputId": "f257049b-8944-4d9a-e770-de29c9a9cf89"
      },
      "execution_count": 11,
      "outputs": [
        {
          "output_type": "stream",
          "name": "stdout",
          "text": [
            "11\n"
          ]
        }
      ]
    },
    {
      "cell_type": "markdown",
      "source": [
        "## type()\n",
        "- 함수 : 특정기능을 수행하도록 만든 매직박스\n",
        " + 특정함수를 조건만 맞춰주면 동작"
      ],
      "metadata": {
        "id": "hGbLaf5Jzt06"
      }
    },
    {
      "cell_type": "markdown",
      "source": [
        "함수의 종류\n",
        "- 내장(built-in)함수 : 파이썬 설치와 함께 제공되는 기본적인 함수\n",
        " + print(), type()...\n",
        "\n",
        "- 라이브러리에서 제공하는 함수\n",
        " + R : 패키지 , Python : 라이브러리\n",
        " + 목적이 분명\n",
        "  - 웹사이트 개발 : 웹사이트 개발과 관련된 라이브러리 설치\n",
        "  - 통계분석\n",
        "  - 시각화\n",
        "  - 게임개발"
      ],
      "metadata": {
        "id": "P4DjcH2yzxr-"
      }
    },
    {
      "cell_type": "code",
      "source": [
        "# 파이썬에서 정수를 어떨게 표현할까\n",
        "# 파이썬에서 실수를 어떨게 표현할까\n",
        "type(3)\n"
      ],
      "metadata": {
        "colab": {
          "base_uri": "https://localhost:8080/"
        },
        "id": "w1CCf-usudHr",
        "outputId": "30fd132a-36b9-416e-84ef-451036033a1d"
      },
      "execution_count": 13,
      "outputs": [
        {
          "output_type": "execute_result",
          "data": {
            "text/plain": [
              "int"
            ]
          },
          "metadata": {},
          "execution_count": 13
        }
      ]
    },
    {
      "cell_type": "code",
      "source": [
        "type(3.5)"
      ],
      "metadata": {
        "colab": {
          "base_uri": "https://localhost:8080/"
        },
        "id": "kse-byWouzf7",
        "outputId": "38d9b777-22b2-4b50-d45c-f26d294212ba"
      },
      "execution_count": 14,
      "outputs": [
        {
          "output_type": "execute_result",
          "data": {
            "text/plain": [
              "float"
            ]
          },
          "metadata": {},
          "execution_count": 14
        }
      ]
    },
    {
      "cell_type": "code",
      "source": [
        "print(type(3))\n",
        "print(type(3.5))"
      ],
      "metadata": {
        "colab": {
          "base_uri": "https://localhost:8080/"
        },
        "id": "UWZBvNXiu8rH",
        "outputId": "a079d6ee-c60d-4a37-b817-a36ddeec5659"
      },
      "execution_count": 15,
      "outputs": [
        {
          "output_type": "stream",
          "name": "stdout",
          "text": [
            "<class 'int'>\n",
            "<class 'float'>\n"
          ]
        }
      ]
    },
    {
      "cell_type": "markdown",
      "source": [
        "- 파이썬 객체지향 언어입니다. (class에 대해서)"
      ],
      "metadata": {
        "id": "e0xm69wV1w7g"
      }
    },
    {
      "cell_type": "markdown",
      "source": [
        "## 거듭 제곱과 나머지\n",
        "- 숫자 A를 n번 곱하는 거듭제곱(power)\n",
        " + A를 밑, n을 지수"
      ],
      "metadata": {
        "id": "NTfVQ9zD2Evh"
      }
    },
    {
      "cell_type": "code",
      "source": [
        "2 * 2 * 2 * 2 * 2"
      ],
      "metadata": {
        "colab": {
          "base_uri": "https://localhost:8080/"
        },
        "id": "eE7aZYaLvHPR",
        "outputId": "386d9eea-89fb-48cb-b680-4317e854fa0f"
      },
      "execution_count": 16,
      "outputs": [
        {
          "output_type": "execute_result",
          "data": {
            "text/plain": [
              "32"
            ]
          },
          "metadata": {},
          "execution_count": 16
        }
      ]
    },
    {
      "cell_type": "code",
      "source": [
        "2**5 #거듭제곱"
      ],
      "metadata": {
        "colab": {
          "base_uri": "https://localhost:8080/"
        },
        "id": "BNLe_Wgm2ayy",
        "outputId": "2e4073fe-f038-4b0f-cddd-552d7feb6d35"
      },
      "execution_count": 17,
      "outputs": [
        {
          "output_type": "execute_result",
          "data": {
            "text/plain": [
              "32"
            ]
          },
          "metadata": {},
          "execution_count": 17
        }
      ]
    },
    {
      "cell_type": "markdown",
      "source": [
        "-나머지 구하는 방법"
      ],
      "metadata": {
        "id": "0Ce6G8PZ2oLx"
      }
    },
    {
      "cell_type": "code",
      "source": [
        "13 % 5 #나머지"
      ],
      "metadata": {
        "colab": {
          "base_uri": "https://localhost:8080/"
        },
        "id": "gvw4QvM02f4z",
        "outputId": "59112b5a-d85e-4ed3-e587-595ff5651917"
      },
      "execution_count": 19,
      "outputs": [
        {
          "output_type": "execute_result",
          "data": {
            "text/plain": [
              "3"
            ]
          },
          "metadata": {},
          "execution_count": 19
        }
      ]
    },
    {
      "cell_type": "code",
      "source": [
        "13 // 5 #몫"
      ],
      "metadata": {
        "colab": {
          "base_uri": "https://localhost:8080/"
        },
        "id": "DZ_yfwSC2xNu",
        "outputId": "bb4d5c5b-d5fd-4c84-90e4-8d66b6beb0a3"
      },
      "execution_count": 20,
      "outputs": [
        {
          "output_type": "execute_result",
          "data": {
            "text/plain": [
              "2"
            ]
          },
          "metadata": {},
          "execution_count": 20
        }
      ]
    },
    {
      "cell_type": "markdown",
      "source": [
        "## 과학적 표기법\n",
        "- 아주 큰 수, 작은 수를 다뤄야하는 케이스\n",
        " + 빛은 초당 30만 km\n",
        " + 300,000,000m/s\n",
        " + 3x10^8"
      ],
      "metadata": {
        "id": "S7hB7jOg3fco"
      }
    },
    {
      "cell_type": "code",
      "source": [
        "3* 10 ** 8"
      ],
      "metadata": {
        "colab": {
          "base_uri": "https://localhost:8080/"
        },
        "id": "PucMcxzF20_0",
        "outputId": "6eccd16f-6832-4d97-c74d-c064bc324597"
      },
      "execution_count": 21,
      "outputs": [
        {
          "output_type": "execute_result",
          "data": {
            "text/plain": [
              "300000000"
            ]
          },
          "metadata": {},
          "execution_count": 21
        }
      ]
    },
    {
      "cell_type": "code",
      "source": [
        "3e8"
      ],
      "metadata": {
        "colab": {
          "base_uri": "https://localhost:8080/"
        },
        "id": "oaJ5_sJr4W6w",
        "outputId": "2f1c3de2-d3eb-4085-d582-262592d3e447"
      },
      "execution_count": 22,
      "outputs": [
        {
          "output_type": "execute_result",
          "data": {
            "text/plain": [
              "300000000.0"
            ]
          },
          "metadata": {},
          "execution_count": 22
        }
      ]
    },
    {
      "cell_type": "code",
      "source": [
        "3e-4"
      ],
      "metadata": {
        "colab": {
          "base_uri": "https://localhost:8080/"
        },
        "id": "UQHSzmOt4Z4l",
        "outputId": "c265af3d-fd59-47c7-cc40-525d9135c165"
      },
      "execution_count": 24,
      "outputs": [
        {
          "output_type": "execute_result",
          "data": {
            "text/plain": [
              "0.0003"
            ]
          },
          "metadata": {},
          "execution_count": 24
        }
      ]
    },
    {
      "cell_type": "markdown",
      "source": [
        "## 진수 표환과 변환\n",
        "- 우리는 일상생활에서 10진법\n",
        "- 60진법 : 60초 1분 , 60분 1시간\n",
        "- 12진법 : 오전 112시간, 오후 12시간, 1년 12달\n",
        "- 컴퓨터 프로그래밍: 숫자 0과 1로 이루어진 2진법\n",
        "- 8진법 : 0 ~ 7\n",
        "- 16진법 : 0 ~ 9, a~f\n",
        "- 메서드\n",
        " + bin() : 10진수를 2진수\n",
        " + oct() : 10진수를 8진수\n",
        " + hex() : 10진수를 16진수\n"
      ],
      "metadata": {
        "id": "DqYv5v345WTj"
      }
    },
    {
      "cell_type": "markdown",
      "source": [
        "## 논리연산 및 비교연산(매우 중요)\n",
        "- 참/거짓 (불린)\n",
        "- 논리 연산을 잘 활용하는 것이 프로그래밍 핵심\n"
      ],
      "metadata": {
        "id": "Y26VhgUZ7Hw3"
      }
    },
    {
      "cell_type": "code",
      "source": [
        "print(True)"
      ],
      "metadata": {
        "colab": {
          "base_uri": "https://localhost:8080/"
        },
        "id": "2RRUBTQU4km_",
        "outputId": "ac32c7ef-8886-4274-9697-a77c61220abc"
      },
      "execution_count": 25,
      "outputs": [
        {
          "output_type": "stream",
          "name": "stdout",
          "text": [
            "True\n"
          ]
        }
      ]
    },
    {
      "cell_type": "code",
      "source": [
        "print(False)"
      ],
      "metadata": {
        "colab": {
          "base_uri": "https://localhost:8080/"
        },
        "id": "iCgz5qE-76dr",
        "outputId": "937a8924-7866-4ef7-856b-38b095043528"
      },
      "execution_count": 26,
      "outputs": [
        {
          "output_type": "stream",
          "name": "stdout",
          "text": [
            "False\n"
          ]
        }
      ]
    },
    {
      "cell_type": "code",
      "source": [
        "print(type(True))"
      ],
      "metadata": {
        "colab": {
          "base_uri": "https://localhost:8080/"
        },
        "id": "lQh7bKQI78bL",
        "outputId": "6706e5ef-d019-4b7d-f2de-490c96c40622"
      },
      "execution_count": 27,
      "outputs": [
        {
          "output_type": "stream",
          "name": "stdout",
          "text": [
            "<class 'bool'>\n"
          ]
        }
      ]
    },
    {
      "cell_type": "markdown",
      "source": [
        "### 논리 연산자\n",
        "- and : A and B : A 와 B 모두 참일때 참\n",
        "- or : A or B : 둘중 하나라도 참이면 참 둘다 거짓이면 거짓\n",
        "- not : not A : A가 참이면 거짓 , A가 거짓이면 참"
      ],
      "metadata": {
        "id": "MEpgjWNw8T2m"
      }
    },
    {
      "cell_type": "code",
      "source": [
        "print(True and True)"
      ],
      "metadata": {
        "colab": {
          "base_uri": "https://localhost:8080/"
        },
        "id": "qynD71tx8EBR",
        "outputId": "aa09b9f4-28f4-47bb-b8d3-34e5da24e682"
      },
      "execution_count": 28,
      "outputs": [
        {
          "output_type": "stream",
          "name": "stdout",
          "text": [
            "True\n"
          ]
        }
      ]
    },
    {
      "cell_type": "code",
      "source": [
        "print(True and False)"
      ],
      "metadata": {
        "colab": {
          "base_uri": "https://localhost:8080/"
        },
        "id": "33Ny6w9PBXhy",
        "outputId": "734a8022-ea6d-444e-b9e8-1946a5d883dc"
      },
      "execution_count": 29,
      "outputs": [
        {
          "output_type": "stream",
          "name": "stdout",
          "text": [
            "False\n"
          ]
        }
      ]
    },
    {
      "cell_type": "code",
      "source": [
        "print(False and True)"
      ],
      "metadata": {
        "colab": {
          "base_uri": "https://localhost:8080/"
        },
        "id": "PxAllcrUBd7a",
        "outputId": "25c8a4d0-f504-4d51-ad8a-64206032f7e3"
      },
      "execution_count": 30,
      "outputs": [
        {
          "output_type": "stream",
          "name": "stdout",
          "text": [
            "False\n"
          ]
        }
      ]
    },
    {
      "cell_type": "code",
      "source": [
        "print(False and False)"
      ],
      "metadata": {
        "colab": {
          "base_uri": "https://localhost:8080/"
        },
        "id": "nX_IWiuyBhex",
        "outputId": "6cba62d5-e631-4858-a20c-acdabb8fb251"
      },
      "execution_count": 31,
      "outputs": [
        {
          "output_type": "stream",
          "name": "stdout",
          "text": [
            "False\n"
          ]
        }
      ]
    },
    {
      "cell_type": "code",
      "source": [
        "print(False or True)\n",
        "print(True or True)\n",
        "print(True or False)\n",
        "print(False or False)"
      ],
      "metadata": {
        "colab": {
          "base_uri": "https://localhost:8080/"
        },
        "id": "VDFK88srBmuh",
        "outputId": "016328a9-a9ec-449c-8c56-16cd87eacd7b"
      },
      "execution_count": 32,
      "outputs": [
        {
          "output_type": "stream",
          "name": "stdout",
          "text": [
            "True\n",
            "True\n",
            "True\n",
            "False\n"
          ]
        }
      ]
    },
    {
      "cell_type": "code",
      "source": [
        "not True"
      ],
      "metadata": {
        "colab": {
          "base_uri": "https://localhost:8080/"
        },
        "id": "597bn1zLB5o0",
        "outputId": "b2e222bc-1283-4a1e-91c4-a9b2c482ad1a"
      },
      "execution_count": 33,
      "outputs": [
        {
          "output_type": "execute_result",
          "data": {
            "text/plain": [
              "False"
            ]
          },
          "metadata": {},
          "execution_count": 33
        }
      ]
    },
    {
      "cell_type": "code",
      "source": [
        "not False"
      ],
      "metadata": {
        "colab": {
          "base_uri": "https://localhost:8080/"
        },
        "id": "G5vZBlspCDCI",
        "outputId": "8ba4c8cd-5987-4d9f-fb8c-845d8fd1d01d"
      },
      "execution_count": 34,
      "outputs": [
        {
          "output_type": "execute_result",
          "data": {
            "text/plain": [
              "True"
            ]
          },
          "metadata": {},
          "execution_count": 34
        }
      ]
    },
    {
      "cell_type": "markdown",
      "source": [
        "비교연산자"
      ],
      "metadata": {
        "id": "Cov4o86FDOl0"
      }
    },
    {
      "cell_type": "code",
      "source": [
        "1 == 1"
      ],
      "metadata": {
        "colab": {
          "base_uri": "https://localhost:8080/"
        },
        "id": "SiDIu4QlCEh5",
        "outputId": "4b991b5c-e234-46af-f04a-9a4fbf209a8d"
      },
      "execution_count": 36,
      "outputs": [
        {
          "output_type": "execute_result",
          "data": {
            "text/plain": [
              "True"
            ]
          },
          "metadata": {},
          "execution_count": 36
        }
      ]
    },
    {
      "cell_type": "code",
      "source": [
        "1 != 2"
      ],
      "metadata": {
        "colab": {
          "base_uri": "https://localhost:8080/"
        },
        "id": "o7_Xlc4LDdp7",
        "outputId": "64b40934-ca12-415a-90f8-80609dbe2c80"
      },
      "execution_count": 37,
      "outputs": [
        {
          "output_type": "execute_result",
          "data": {
            "text/plain": [
              "True"
            ]
          },
          "metadata": {},
          "execution_count": 37
        }
      ]
    },
    {
      "cell_type": "code",
      "source": [
        "1 <= 2"
      ],
      "metadata": {
        "colab": {
          "base_uri": "https://localhost:8080/"
        },
        "id": "egjqd_RQDgF_",
        "outputId": "ee888585-1869-4871-a680-fa36c627c684"
      },
      "execution_count": 39,
      "outputs": [
        {
          "output_type": "execute_result",
          "data": {
            "text/plain": [
              "True"
            ]
          },
          "metadata": {},
          "execution_count": 39
        }
      ]
    },
    {
      "cell_type": "code",
      "source": [
        "1 < 2"
      ],
      "metadata": {
        "colab": {
          "base_uri": "https://localhost:8080/"
        },
        "id": "s0hnwOJADl5L",
        "outputId": "28acee37-0c89-40df-a4a5-e1ccbfa591f9"
      },
      "execution_count": 40,
      "outputs": [
        {
          "output_type": "execute_result",
          "data": {
            "text/plain": [
              "True"
            ]
          },
          "metadata": {},
          "execution_count": 40
        }
      ]
    },
    {
      "cell_type": "markdown",
      "source": [
        "### 비교연산자 + 논리연산자"
      ],
      "metadata": {
        "id": "mZIOGEuGD7uh"
      }
    },
    {
      "cell_type": "code",
      "source": [
        "1 > 0 and -2 < 0 #비교연산자(1순위) 논리연산자(2순위)"
      ],
      "metadata": {
        "colab": {
          "base_uri": "https://localhost:8080/"
        },
        "id": "lhX-RFXnDrOM",
        "outputId": "08876830-938f-4774-b0a0-05570b5b722a"
      },
      "execution_count": 41,
      "outputs": [
        {
          "output_type": "execute_result",
          "data": {
            "text/plain": [
              "True"
            ]
          },
          "metadata": {},
          "execution_count": 41
        }
      ]
    },
    {
      "cell_type": "code",
      "source": [
        "((3 < 0) and (-5 > 0)) and (1 > 5) #괄호가 먼저 연산"
      ],
      "metadata": {
        "colab": {
          "base_uri": "https://localhost:8080/"
        },
        "id": "4iLLsV3IEFwY",
        "outputId": "f7c56cb2-7511-47ce-c7cd-6ec471236f7d"
      },
      "execution_count": 42,
      "outputs": [
        {
          "output_type": "execute_result",
          "data": {
            "text/plain": [
              "False"
            ]
          },
          "metadata": {},
          "execution_count": 42
        }
      ]
    },
    {
      "cell_type": "markdown",
      "source": [
        "#깃 허브 팁\n",
        "- Repo 1 : edu 학습 / 또는 교육\n",
        "- Repo 2 : Projects 관련\n",
        "- Repo 3 : 00공모전\n",
        "\n",
        "- 옵션() : 자기소개 Repo\n",
        " + 링크 추가 (Repo 2)"
      ],
      "metadata": {
        "id": "V5fk123zdZ-J"
      }
    },
    {
      "cell_type": "markdown",
      "source": [
        "# Chapter 4. 변수와 자료형"
      ],
      "metadata": {
        "id": "YuAM-Mfeba_2"
      }
    },
    {
      "cell_type": "markdown",
      "source": [
        "## 변수\n"
      ],
      "metadata": {
        "id": "KZYXwR9vf5tJ"
      }
    },
    {
      "cell_type": "code",
      "source": [
        "#변수 : Variable, 데이터\n",
        "a = 100\n",
        "b = 1000"
      ],
      "metadata": {
        "id": "0cFa62ttdegH"
      },
      "execution_count": 45,
      "outputs": []
    },
    {
      "cell_type": "code",
      "source": [
        "print(a)"
      ],
      "metadata": {
        "colab": {
          "base_uri": "https://localhost:8080/"
        },
        "id": "A41xqysff_lT",
        "outputId": "1d077372-46b9-46f3-f8a8-43b855239bfe"
      },
      "execution_count": 46,
      "outputs": [
        {
          "output_type": "stream",
          "name": "stdout",
          "text": [
            "100\n"
          ]
        }
      ]
    },
    {
      "cell_type": "code",
      "source": [
        "print(b)"
      ],
      "metadata": {
        "colab": {
          "base_uri": "https://localhost:8080/"
        },
        "id": "jH5drkungAnp",
        "outputId": "805be697-ffdd-4a58-d201-a8ce9bd7e7af"
      },
      "execution_count": 47,
      "outputs": [
        {
          "output_type": "stream",
          "name": "stdout",
          "text": [
            "1000\n"
          ]
        }
      ]
    },
    {
      "cell_type": "markdown",
      "source": [
        "### 변수명 짓기 규칙\n",
        "- snake, camel\n",
        "- #Snake : num_a = 1\n",
        "- #Camel : myStudent = 'evan'\n",
        "##주의해야할 것\n",
        "- 3star = '이장군' #숫자가 앞에 오면 안됨\n",
        "- 기본 내장 함수명은 변수명으로 만들면 안됨\n",
        "- 변수명은 띄어쓰기 공백 안됨"
      ],
      "metadata": {
        "id": "hoK123zBgxvW"
      }
    },
    {
      "cell_type": "code",
      "source": [
        "#실제 변수를 만들어보기\n",
        "\n",
        "num1 = input('숫자를 입력해주세요')\n",
        "num2 = input('숫자를 입력해주세요')\n",
        "# input의 반환값은 문자열이 기본\n",
        "\n",
        "print(num1, num2)"
      ],
      "metadata": {
        "colab": {
          "base_uri": "https://localhost:8080/"
        },
        "id": "EOUIkQRAgsRU",
        "outputId": "0f6b9a3f-420c-47a8-abb7-78e225a38ae6"
      },
      "execution_count": 62,
      "outputs": [
        {
          "output_type": "stream",
          "name": "stdout",
          "text": [
            "숫자를 입력해주세요100\n",
            "숫자를 입력해주세요200\n",
            "100 200\n"
          ]
        }
      ]
    },
    {
      "cell_type": "code",
      "source": [
        "print(num1 + num2)"
      ],
      "metadata": {
        "colab": {
          "base_uri": "https://localhost:8080/"
        },
        "id": "cQLw4AgHmT7V",
        "outputId": "b428bdef-e4fe-48f9-eab1-2add5ac0e4e4"
      },
      "execution_count": 63,
      "outputs": [
        {
          "output_type": "stream",
          "name": "stdout",
          "text": [
            "100200\n"
          ]
        }
      ]
    },
    {
      "cell_type": "code",
      "source": [
        "print(int(num1) + int(num2))"
      ],
      "metadata": {
        "colab": {
          "base_uri": "https://localhost:8080/"
        },
        "id": "dxxZU_grtkls",
        "outputId": "0a3c486c-5c00-4b83-cd51-933e1fc74660"
      },
      "execution_count": 64,
      "outputs": [
        {
          "output_type": "stream",
          "name": "stdout",
          "text": [
            "300\n"
          ]
        }
      ]
    },
    {
      "cell_type": "code",
      "source": [
        "print(type(num1)) #'str' 문자열"
      ],
      "metadata": {
        "colab": {
          "base_uri": "https://localhost:8080/"
        },
        "id": "-mtSPABBsVXx",
        "outputId": "02a30883-72eb-4b16-f446-c5a1bddfd50f"
      },
      "execution_count": 65,
      "outputs": [
        {
          "output_type": "stream",
          "name": "stdout",
          "text": [
            "<class 'str'>\n"
          ]
        }
      ]
    },
    {
      "cell_type": "code",
      "source": [
        "print(type(num2)) #'str' 문자열\n"
      ],
      "metadata": {
        "colab": {
          "base_uri": "https://localhost:8080/"
        },
        "id": "-VtoyGWpskJQ",
        "outputId": "3b406a81-a525-45b5-b272-40a6a2777c08"
      },
      "execution_count": 66,
      "outputs": [
        {
          "output_type": "stream",
          "name": "stdout",
          "text": [
            "<class 'str'>\n"
          ]
        }
      ]
    },
    {
      "cell_type": "code",
      "source": [
        "# 하고 시은것 : 사칙연산\n",
        "#결론 문자열을 숫자로 변경\n",
        "#int\n",
        "#구글 검색시 키워드를 검색뒤 날짜를 확인하여 최신"
      ],
      "metadata": {
        "id": "1uM4sOOcs-ct"
      },
      "execution_count": null,
      "outputs": []
    },
    {
      "cell_type": "markdown",
      "source": [
        "## 문자열"
      ],
      "metadata": {
        "id": "MR0wbAMcxW6W"
      }
    },
    {
      "cell_type": "markdown",
      "source": [
        "# 프로그래밍 문자열 표현\n",
        "\"\" or ''\n"
      ],
      "metadata": {
        "id": "HDK9f9f_rQ_g"
      }
    },
    {
      "cell_type": "code",
      "source": [
        "a = '100' #문자열\n",
        "b = '5000' #문자열\n"
      ],
      "metadata": {
        "id": "AbiaVT5aqYVU"
      },
      "execution_count": null,
      "outputs": []
    },
    {
      "cell_type": "code",
      "source": [
        "long_string = '''\n",
        "문장이 긴 텍스트\n",
        "문장이 긴 텍스트\n",
        "문장이 긴 텍스트\n",
        "'''\n",
        "print(long_string)"
      ],
      "metadata": {
        "colab": {
          "base_uri": "https://localhost:8080/"
        },
        "id": "XT_ic10UxZNk",
        "outputId": "dd11d478-f231-49f4-e31b-072eb3c4b5dd"
      },
      "execution_count": 67,
      "outputs": [
        {
          "output_type": "stream",
          "name": "stdout",
          "text": [
            "\n",
            "문장이 긴 텍스트\n",
            "문장이 긴 텍스트\n",
            "문장이 긴 텍스트\n",
            "\n"
          ]
        }
      ]
    },
    {
      "cell_type": "code",
      "source": [
        "a = 'Enjoy '\n",
        "b = 'Python!'\n",
        "print(a + b)"
      ],
      "metadata": {
        "colab": {
          "base_uri": "https://localhost:8080/"
        },
        "id": "EKhF2ZOxzJzJ",
        "outputId": "fe2a60b6-a18a-4e04-ec4f-021bfb578284"
      },
      "execution_count": 68,
      "outputs": [
        {
          "output_type": "stream",
          "name": "stdout",
          "text": [
            "Enjoy Python!\n"
          ]
        }
      ]
    },
    {
      "cell_type": "code",
      "source": [
        "print(a * 3)"
      ],
      "metadata": {
        "colab": {
          "base_uri": "https://localhost:8080/"
        },
        "id": "STeXMedX3xZ5",
        "outputId": "e4df9a25-b86b-4537-8a08-3895fbafd679"
      },
      "execution_count": 69,
      "outputs": [
        {
          "output_type": "stream",
          "name": "stdout",
          "text": [
            "Enjoy Enjoy Enjoy \n"
          ]
        }
      ]
    },
    {
      "cell_type": "markdown",
      "source": [
        "## 리스트(List)\n",
        "- 가장 중요한 자료형\n",
        "- 다른 프로그래밍 언어에서는 배열(Array)\n",
        "- 예시\n",
        " + 1반의 과목별 수학 점수\n",
        "- 다중의 데이터를 묶는다\n"
      ],
      "metadata": {
        "id": "CgU5aUxe4l3R"
      }
    },
    {
      "cell_type": "code",
      "source": [
        "# 1번 학생의 국어, 영어 , 수학, 과학\n",
        "student1 = [90, 95, 85, 80]\n",
        "student1"
      ],
      "metadata": {
        "colab": {
          "base_uri": "https://localhost:8080/"
        },
        "id": "uyWAPPL55ShK",
        "outputId": "92b31d6c-fda8-467f-ed69-b37dc26abf88"
      },
      "execution_count": 70,
      "outputs": [
        {
          "output_type": "execute_result",
          "data": {
            "text/plain": [
              "[90, 95, 85, 80]"
            ]
          },
          "metadata": {},
          "execution_count": 70
        }
      ]
    },
    {
      "cell_type": "code",
      "source": [
        "print(type(student1))"
      ],
      "metadata": {
        "colab": {
          "base_uri": "https://localhost:8080/"
        },
        "id": "Fqiq-AXR5ggi",
        "outputId": "ceb67b6d-1294-4977-911b-060c66721666"
      },
      "execution_count": 71,
      "outputs": [
        {
          "output_type": "stream",
          "name": "stdout",
          "text": [
            "<class 'list'>\n"
          ]
        }
      ]
    },
    {
      "cell_type": "markdown",
      "source": [
        "### 인덱싱(indexsing)\n",
        "- 리스트에서 특정 데이터를 추출\n",
        "- 인덱싱은 0부터 시작, 즉 첫번째 항목이 0번 인덱싱"
      ],
      "metadata": {
        "id": "8zG6iCp55soT"
      }
    },
    {
      "cell_type": "code",
      "source": [
        "student1[0]"
      ],
      "metadata": {
        "colab": {
          "base_uri": "https://localhost:8080/"
        },
        "id": "LbPuiRe95kLa",
        "outputId": "82fdcb8f-0acb-420f-878e-439532a3b972"
      },
      "execution_count": 73,
      "outputs": [
        {
          "output_type": "execute_result",
          "data": {
            "text/plain": [
              "90"
            ]
          },
          "metadata": {},
          "execution_count": 73
        }
      ]
    },
    {
      "cell_type": "code",
      "source": [
        "print(student1[0])\n",
        "print(student1[1])\n",
        "print(student1[2])\n",
        "print(student1[3])"
      ],
      "metadata": {
        "colab": {
          "base_uri": "https://localhost:8080/"
        },
        "id": "js6GfrRS5-pK",
        "outputId": "62598b53-d94d-495f-a327-ba43f8ecc9ab"
      },
      "execution_count": 74,
      "outputs": [
        {
          "output_type": "stream",
          "name": "stdout",
          "text": [
            "90\n",
            "95\n",
            "85\n",
            "80\n"
          ]
        }
      ]
    },
    {
      "cell_type": "code",
      "source": [
        "greeting = 'Hello, Python'"
      ],
      "metadata": {
        "id": "e3Bx8r7t6kww"
      },
      "execution_count": 75,
      "outputs": []
    },
    {
      "cell_type": "code",
      "source": [
        "greeting[7] #인덱스를 매칭하여 문자열 P뽑기"
      ],
      "metadata": {
        "colab": {
          "base_uri": "https://localhost:8080/",
          "height": 36
        },
        "id": "e27GWl8X6vMM",
        "outputId": "c7621e49-bbd3-45dd-a0b1-bcbffb05d01e"
      },
      "execution_count": 76,
      "outputs": [
        {
          "output_type": "execute_result",
          "data": {
            "text/plain": [
              "'P'"
            ],
            "application/vnd.google.colaboratory.intrinsic+json": {
              "type": "string"
            }
          },
          "metadata": {},
          "execution_count": 76
        }
      ]
    },
    {
      "cell_type": "markdown",
      "source": [
        "### 리스트 수정 ,삭제"
      ],
      "metadata": {
        "id": "oyauxmFq8VK_"
      }
    },
    {
      "cell_type": "code",
      "source": [
        "student1[0] = 100 #새로운 데이터 할당(수정)"
      ],
      "metadata": {
        "id": "Vv6RCjbG60RB"
      },
      "execution_count": 77,
      "outputs": []
    },
    {
      "cell_type": "code",
      "source": [
        "student1"
      ],
      "metadata": {
        "colab": {
          "base_uri": "https://localhost:8080/"
        },
        "id": "Ekcz60dW8jAx",
        "outputId": "23738fc5-41a5-4e5f-e7ca-e55a11586e9d"
      },
      "execution_count": 78,
      "outputs": [
        {
          "output_type": "execute_result",
          "data": {
            "text/plain": [
              "[100, 95, 85, 80]"
            ]
          },
          "metadata": {},
          "execution_count": 78
        }
      ]
    },
    {
      "cell_type": "code",
      "source": [
        "myFriends = ['James', 'Robert', 'Lisa', 'Mary']"
      ],
      "metadata": {
        "id": "tigRc4Zr8sDK"
      },
      "execution_count": 83,
      "outputs": []
    },
    {
      "cell_type": "code",
      "source": [
        "#문자열의 덧셈 ,곱셈 연산자 리스트 적용"
      ],
      "metadata": {
        "id": "9Hs8iAQU9OLl"
      },
      "execution_count": 82,
      "outputs": []
    },
    {
      "cell_type": "code",
      "source": [
        "newFriends = ['Kim']\n",
        "\n",
        "myFriends2 = myFriends + newFriends\n",
        "print(myFriends2)"
      ],
      "metadata": {
        "colab": {
          "base_uri": "https://localhost:8080/"
        },
        "id": "VEoPXnJe9Zoi",
        "outputId": "fb0ed34f-4bb4-489e-ae2e-299040a5d072"
      },
      "execution_count": 85,
      "outputs": [
        {
          "output_type": "stream",
          "name": "stdout",
          "text": [
            "['James', 'Robert', 'Lisa', 'Mary', 'Kim']\n"
          ]
        }
      ]
    },
    {
      "cell_type": "code",
      "source": [
        "myNumbers = [1]"
      ],
      "metadata": {
        "id": "4ddD8FbE-Q9g"
      },
      "execution_count": 86,
      "outputs": []
    },
    {
      "cell_type": "code",
      "source": [
        "myNumbers * 3"
      ],
      "metadata": {
        "colab": {
          "base_uri": "https://localhost:8080/"
        },
        "id": "I_gv_Dfi-ijz",
        "outputId": "1cd67710-6b3e-4f0a-e195-4ff78a18479c"
      },
      "execution_count": 87,
      "outputs": [
        {
          "output_type": "execute_result",
          "data": {
            "text/plain": [
              "[1, 1, 1]"
            ]
          },
          "metadata": {},
          "execution_count": 87
        }
      ]
    },
    {
      "cell_type": "code",
      "source": [
        "newFriends * 3"
      ],
      "metadata": {
        "colab": {
          "base_uri": "https://localhost:8080/"
        },
        "id": "LNAdb1FB-nhW",
        "outputId": "35036ec5-d871-4c8f-b14e-9ff544c216e4"
      },
      "execution_count": 88,
      "outputs": [
        {
          "output_type": "execute_result",
          "data": {
            "text/plain": [
              "['Kim', 'Kim', 'Kim']"
            ]
          },
          "metadata": {},
          "execution_count": 88
        }
      ]
    },
    {
      "cell_type": "code",
      "source": [
        "mixed = [0, 2, 3.14, 'python', True, myFriends2]\n",
        "mixed"
      ],
      "metadata": {
        "colab": {
          "base_uri": "https://localhost:8080/"
        },
        "id": "3eRtGSVY-1WH",
        "outputId": "c1e31b69-9bdd-49ce-b0fb-c3039e598e25"
      },
      "execution_count": 89,
      "outputs": [
        {
          "output_type": "execute_result",
          "data": {
            "text/plain": [
              "[0, 2, 3.14, 'python', True, ['James', 'Robert', 'Lisa', 'Mary', 'Kim']]"
            ]
          },
          "metadata": {},
          "execution_count": 89
        }
      ]
    },
    {
      "cell_type": "code",
      "source": [
        "#Lisa, L추출\n",
        "myFriends2[2][0]\n"
      ],
      "metadata": {
        "colab": {
          "base_uri": "https://localhost:8080/",
          "height": 36
        },
        "id": "QoYfk4mX_Rjt",
        "outputId": "dc9cb69a-e632-4827-9e46-17e2c07fb93d"
      },
      "execution_count": 91,
      "outputs": [
        {
          "output_type": "execute_result",
          "data": {
            "text/plain": [
              "'L'"
            ],
            "application/vnd.google.colaboratory.intrinsic+json": {
              "type": "string"
            }
          },
          "metadata": {},
          "execution_count": 91
        }
      ]
    },
    {
      "cell_type": "code",
      "source": [
        "mixed[5][4][0]"
      ],
      "metadata": {
        "colab": {
          "base_uri": "https://localhost:8080/",
          "height": 36
        },
        "id": "ie9sCzfP_rlw",
        "outputId": "5d2abf85-8a66-4fe9-c72b-a5efe4957203"
      },
      "execution_count": 96,
      "outputs": [
        {
          "output_type": "execute_result",
          "data": {
            "text/plain": [
              "'K'"
            ],
            "application/vnd.google.colaboratory.intrinsic+json": {
              "type": "string"
            }
          },
          "metadata": {},
          "execution_count": 96
        }
      ]
    },
    {
      "cell_type": "code",
      "source": [
        "mixed[-1][-1][0]"
      ],
      "metadata": {
        "colab": {
          "base_uri": "https://localhost:8080/",
          "height": 36
        },
        "id": "CdUZia5A_9lL",
        "outputId": "bec680e0-7596-43b4-f346-af976cd156fe"
      },
      "execution_count": 99,
      "outputs": [
        {
          "output_type": "execute_result",
          "data": {
            "text/plain": [
              "'K'"
            ],
            "application/vnd.google.colaboratory.intrinsic+json": {
              "type": "string"
            }
          },
          "metadata": {},
          "execution_count": 99
        }
      ]
    },
    {
      "cell_type": "markdown",
      "source": [
        "### 슬라이싱\n",
        "- 문자열 리스트 그 외 파이썬 자료형 원리 동일 적용\n"
      ],
      "metadata": {
        "id": "whVDp4AEF0Qs"
      }
    },
    {
      "cell_type": "code",
      "source": [
        "list_data = [0, 1, 2, 3, 4, 5, 6, 7, 8, 9]"
      ],
      "metadata": {
        "id": "qNTsOKmKA2qI"
      },
      "execution_count": 100,
      "outputs": []
    },
    {
      "cell_type": "code",
      "source": [
        "print(list_data)\n",
        "print(list_data[0:3]) #시작인덱스 : 끝인덱스-1\n",
        "print(list_data[0:6])\n",
        "print(list_data[4:])\n",
        "print(list_data[:]) #모든 데이터 조회\n",
        "print(list_data[::2])"
      ],
      "metadata": {
        "colab": {
          "base_uri": "https://localhost:8080/"
        },
        "id": "DCqZ-ZJVGKcw",
        "outputId": "b7db44ea-6035-446d-895e-6f1509c6e8fd"
      },
      "execution_count": 110,
      "outputs": [
        {
          "output_type": "stream",
          "name": "stdout",
          "text": [
            "[0, 1, 2, 3, 4, 5, 6, 7, 8, 9]\n",
            "[0, 1, 2]\n",
            "[0, 1, 2, 3, 4, 5]\n",
            "[4, 5, 6, 7, 8, 9]\n",
            "[0, 1, 2, 3, 4, 5, 6, 7, 8, 9]\n",
            "[0, 2, 4, 6, 8]\n"
          ]
        }
      ]
    },
    {
      "cell_type": "code",
      "source": [
        "print(list_data[::2]) # 두칸 간격으로"
      ],
      "metadata": {
        "id": "-eiHhlUCI-aC"
      },
      "execution_count": null,
      "outputs": []
    },
    {
      "cell_type": "code",
      "source": [
        "greeting = 'Hello, Python'\n",
        "print(greeting[0:5])"
      ],
      "metadata": {
        "colab": {
          "base_uri": "https://localhost:8080/"
        },
        "id": "npkpX-IfGQkP",
        "outputId": "e687d84f-4d49-49dd-b15e-3d41454f927e"
      },
      "execution_count": 107,
      "outputs": [
        {
          "output_type": "stream",
          "name": "stdout",
          "text": [
            "Hello\n"
          ]
        }
      ]
    },
    {
      "cell_type": "markdown",
      "source": [
        "## 튜플(Tuple)\n",
        "- 리스트와 유사"
      ],
      "metadata": {
        "id": "ojyANYxTKYdq"
      }
    },
    {
      "cell_type": "code",
      "source": [
        "tuple1 = (1, 2, 3, 4)\n",
        "print(tuple1)\n",
        "print(type(tuple1))"
      ],
      "metadata": {
        "colab": {
          "base_uri": "https://localhost:8080/"
        },
        "id": "56EHpc3UMHTp",
        "outputId": "60fad07d-5319-4f26-d1cf-ae17fb300966"
      },
      "execution_count": 112,
      "outputs": [
        {
          "output_type": "stream",
          "name": "stdout",
          "text": [
            "(1, 2, 3, 4)\n",
            "<class 'tuple'>\n"
          ]
        }
      ]
    },
    {
      "cell_type": "code",
      "source": [
        "tuple_data = (0, 1, 2, 3, 4, 5, 6, 7, 8, 9)\n",
        "print(tuple_data[:])\n",
        "print(tuple_data[:4])\n",
        "print(tuple_data[3:7])"
      ],
      "metadata": {
        "colab": {
          "base_uri": "https://localhost:8080/"
        },
        "id": "K47nJsDrMQCT",
        "outputId": "94a78782-35a4-4a2d-f1d5-c0024e6bd983"
      },
      "execution_count": 116,
      "outputs": [
        {
          "output_type": "stream",
          "name": "stdout",
          "text": [
            "(0, 1, 2, 3, 4, 5, 6, 7, 8, 9)\n",
            "(0, 1, 2, 3)\n",
            "(3, 4, 5, 6)\n"
          ]
        }
      ]
    },
    {
      "cell_type": "markdown",
      "source": [
        "## 차이점\n",
        "- 리스트는 수정,삭제가 가능\n",
        "- 튜플은 수정, 삭제가 불가능"
      ],
      "metadata": {
        "id": "sv-N2eCBOXuT"
      }
    },
    {
      "cell_type": "code",
      "source": [
        "l_data = [0, 1, 2, 3]\n",
        "t_data = (0, 1, 2, 3)\n",
        "\n",
        "#l_data[3] = 30    #3대신 30넣기 가능\n",
        "#t_data[3] = 30    #3대신 30넣기 불가능\n",
        "#del t_data[3]     # 삭제 불가능"
      ],
      "metadata": {
        "id": "dVlhlPiRMkTW"
      },
      "execution_count": 120,
      "outputs": []
    },
    {
      "cell_type": "code",
      "source": [],
      "metadata": {
        "id": "OZH2hd51Nabn"
      },
      "execution_count": null,
      "outputs": []
    }
  ]
}