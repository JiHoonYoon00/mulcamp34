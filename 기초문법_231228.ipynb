{
  "nbformat": 4,
  "nbformat_minor": 0,
  "metadata": {
    "colab": {
      "provenance": [],
      "toc_visible": true,
      "authorship_tag": "ABX9TyMMAdqUdnIvY8ZwRPbazNQB",
      "include_colab_link": true
    },
    "kernelspec": {
      "name": "python3",
      "display_name": "Python 3"
    },
    "language_info": {
      "name": "python"
    }
  },
  "cells": [
    {
      "cell_type": "markdown",
      "metadata": {
        "id": "view-in-github",
        "colab_type": "text"
      },
      "source": [
        "<a href=\"https://colab.research.google.com/github/JiHoonYoon00/mulcamp34/blob/main/%EA%B8%B0%EC%B4%88%EB%AC%B8%EB%B2%95_231228.ipynb\" target=\"_parent\"><img src=\"https://colab.research.google.com/assets/colab-badge.svg\" alt=\"Open In Colab\"/></a>"
      ]
    },
    {
      "cell_type": "markdown",
      "source": [
        "# 27일 리뷰\n",
        "- int, float, str,bool\n",
        "- 리스트 튜플"
      ],
      "metadata": {
        "id": "sz4uMAsgxc3D"
      }
    },
    {
      "cell_type": "markdown",
      "source": [
        "#문자열 함수\n",
        "- 교재(p.158)\n",
        "- 영어 : function, method"
      ],
      "metadata": {
        "id": "SXA881J7xIAB"
      }
    },
    {
      "cell_type": "markdown",
      "source": [
        "##split() : 문자열 분리"
      ],
      "metadata": {
        "id": "80CwzcfD5CCa"
      }
    },
    {
      "cell_type": "code",
      "execution_count": 1,
      "metadata": {
        "colab": {
          "base_uri": "https://localhost:8080/"
        },
        "id": "jl2rxguYw28s",
        "outputId": "148ab941-2356-476f-e4aa-4ae397ee04a7"
      },
      "outputs": [
        {
          "output_type": "execute_result",
          "data": {
            "text/plain": [
              "['에스프레소', '아메리카노', '카페라테', '카푸치노']"
            ]
          },
          "metadata": {},
          "execution_count": 1
        }
      ],
      "source": [
        "coffee_menu_str = \"에스프레소,아메리카노,카페라테,카푸치노\"\n",
        "coffee_menu_str.split(',')  #리스트로 나눔\n",
        "#반환값, Return 자료형 확인 필수"
      ]
    },
    {
      "cell_type": "code",
      "source": [
        "\"에스프레소,아메리카노,카페라테,카푸치노\".split(',')#.split('')안의 문자나 공백으로 값들을 나눈다"
      ],
      "metadata": {
        "colab": {
          "base_uri": "https://localhost:8080/"
        },
        "id": "3n0EP0Kbyup_",
        "outputId": "b172bf6c-cbf9-4c4f-9872-d106706a51d6"
      },
      "execution_count": 2,
      "outputs": [
        {
          "output_type": "execute_result",
          "data": {
            "text/plain": [
              "['에스프레소', '아메리카노', '카페라테', '카푸치노']"
            ]
          },
          "metadata": {},
          "execution_count": 2
        }
      ]
    },
    {
      "cell_type": "code",
      "source": [
        "\"에스프레소 아메리카노 카페라테 카푸치노\".split(' ') #반환값이 리스트임"
      ],
      "metadata": {
        "colab": {
          "base_uri": "https://localhost:8080/"
        },
        "id": "lDYfpMpFzwpa",
        "outputId": "ec95a89e-bddb-40d9-9786-8a637c563648"
      },
      "execution_count": 3,
      "outputs": [
        {
          "output_type": "execute_result",
          "data": {
            "text/plain": [
              "['에스프레소', '아메리카노', '카페라테', '카푸치노']"
            ]
          },
          "metadata": {},
          "execution_count": 3
        }
      ]
    },
    {
      "cell_type": "code",
      "source": [
        "phone_number = \"+82-01-2345-6789\"\n",
        "phone_number[:3] #+82만 추출하기"
      ],
      "metadata": {
        "colab": {
          "base_uri": "https://localhost:8080/",
          "height": 35
        },
        "id": "WGMmtrCcz4e8",
        "outputId": "580e3cf5-b028-469b-9fe1-ed8acb1c9886"
      },
      "execution_count": 4,
      "outputs": [
        {
          "output_type": "execute_result",
          "data": {
            "text/plain": [
              "'+82'"
            ],
            "application/vnd.google.colaboratory.intrinsic+json": {
              "type": "string"
            }
          },
          "metadata": {},
          "execution_count": 4
        }
      ]
    },
    {
      "cell_type": "code",
      "source": [
        "result = phone_number.split('-')"
      ],
      "metadata": {
        "id": "DCq7JjmU0x_M"
      },
      "execution_count": 7,
      "outputs": []
    },
    {
      "cell_type": "code",
      "source": [
        "result[0]"
      ],
      "metadata": {
        "colab": {
          "base_uri": "https://localhost:8080/",
          "height": 35
        },
        "id": "mLzoRVi612-F",
        "outputId": "9bbfe6e8-950f-4780-9a67-2fffa3e3ea11"
      },
      "execution_count": 8,
      "outputs": [
        {
          "output_type": "execute_result",
          "data": {
            "text/plain": [
              "'+82'"
            ],
            "application/vnd.google.colaboratory.intrinsic+json": {
              "type": "string"
            }
          },
          "metadata": {},
          "execution_count": 8
        }
      ]
    },
    {
      "cell_type": "code",
      "source": [
        "#max split, 매개변수(parameters)\n",
        "phone_number.split('-',maxsplit = 1) # 하나만 빼야할떄 유용"
      ],
      "metadata": {
        "colab": {
          "base_uri": "https://localhost:8080/"
        },
        "id": "EpQKiTS42DZ9",
        "outputId": "f2e5e140-61d5-4f4c-e12d-293434865fcc"
      },
      "execution_count": 9,
      "outputs": [
        {
          "output_type": "execute_result",
          "data": {
            "text/plain": [
              "['+82', '01-2345-6789']"
            ]
          },
          "metadata": {},
          "execution_count": 9
        }
      ]
    },
    {
      "cell_type": "code",
      "source": [
        "phone_number.split('-',maxsplit = 2)"
      ],
      "metadata": {
        "colab": {
          "base_uri": "https://localhost:8080/"
        },
        "id": "XQZFRxjL2NWN",
        "outputId": "20c3ec8a-e29e-4c9b-9833-0ddcbaf5a83b"
      },
      "execution_count": 10,
      "outputs": [
        {
          "output_type": "execute_result",
          "data": {
            "text/plain": [
              "['+82', '01', '2345-6789']"
            ]
          },
          "metadata": {},
          "execution_count": 10
        }
      ]
    },
    {
      "cell_type": "markdown",
      "source": [
        "## strip() : 필요없는 문자열 삭제\n",
        "- 앞뒤 공백 혹은 개행문자와 같이 불필요한 부분을 지우고 싶을 때 사용\n"
      ],
      "metadata": {
        "id": "w-5t7N7E20S6"
      }
    },
    {
      "cell_type": "code",
      "source": [
        "tempText = ' python '\n",
        "tempText.strip()  #공백을 없앰"
      ],
      "metadata": {
        "colab": {
          "base_uri": "https://localhost:8080/",
          "height": 35
        },
        "id": "UJwufs8k3gx7",
        "outputId": "d6c13324-6141-4794-d50a-af3a2b4ab163"
      },
      "execution_count": 12,
      "outputs": [
        {
          "output_type": "execute_result",
          "data": {
            "text/plain": [
              "'python'"
            ],
            "application/vnd.google.colaboratory.intrinsic+json": {
              "type": "string"
            }
          },
          "metadata": {},
          "execution_count": 12
        }
      ]
    },
    {
      "cell_type": "code",
      "source": [
        "tempText = 'aaaPythonaaa'"
      ],
      "metadata": {
        "id": "qLTZu7AA3twV"
      },
      "execution_count": 19,
      "outputs": []
    },
    {
      "cell_type": "code",
      "source": [
        "tempText[3:9]  #슬라이싱을 이용 가능하나 이용범위가 넓지않음"
      ],
      "metadata": {
        "colab": {
          "base_uri": "https://localhost:8080/",
          "height": 35
        },
        "id": "F3x9000a4BAr",
        "outputId": "b7000c98-e85c-4e08-d789-0ed41c343d1f"
      },
      "execution_count": 20,
      "outputs": [
        {
          "output_type": "execute_result",
          "data": {
            "text/plain": [
              "'Python'"
            ],
            "application/vnd.google.colaboratory.intrinsic+json": {
              "type": "string"
            }
          },
          "metadata": {},
          "execution_count": 20
        }
      ]
    },
    {
      "cell_type": "code",
      "source": [
        "tempText.strip('a')"
      ],
      "metadata": {
        "colab": {
          "base_uri": "https://localhost:8080/",
          "height": 35
        },
        "id": "cwEV46-54JsB",
        "outputId": "51a3f94b-e412-4097-863e-71a5fd45bbf3"
      },
      "execution_count": 21,
      "outputs": [
        {
          "output_type": "execute_result",
          "data": {
            "text/plain": [
              "'Python'"
            ],
            "application/vnd.google.colaboratory.intrinsic+json": {
              "type": "string"
            }
          },
          "metadata": {},
          "execution_count": 21
        }
      ]
    },
    {
      "cell_type": "code",
      "source": [
        "tempText = 'aaaaabbPythonbbaaaaaa'\n",
        "tempText.strip('ab')   #한번에 할 수도 있음"
      ],
      "metadata": {
        "colab": {
          "base_uri": "https://localhost:8080/",
          "height": 35
        },
        "id": "YwokCz-i4Wv3",
        "outputId": "a36003d0-af30-4f4f-dee9-3e8d435f1e8e"
      },
      "execution_count": 22,
      "outputs": [
        {
          "output_type": "execute_result",
          "data": {
            "text/plain": [
              "'Python'"
            ],
            "application/vnd.google.colaboratory.intrinsic+json": {
              "type": "string"
            }
          },
          "metadata": {},
          "execution_count": 22
        }
      ]
    },
    {
      "cell_type": "code",
      "source": [
        "tempText = '\\n Python \\n\\n'"
      ],
      "metadata": {
        "id": "whls-KAn42FW"
      },
      "execution_count": 28,
      "outputs": []
    },
    {
      "cell_type": "code",
      "source": [
        "tempText.strip('\\n')"
      ],
      "metadata": {
        "colab": {
          "base_uri": "https://localhost:8080/",
          "height": 35
        },
        "id": "QUPgJwNu9SA7",
        "outputId": "1cffd555-381c-46b2-aa57-16514f44c3df"
      },
      "execution_count": 29,
      "outputs": [
        {
          "output_type": "execute_result",
          "data": {
            "text/plain": [
              "' Python '"
            ],
            "application/vnd.google.colaboratory.intrinsic+json": {
              "type": "string"
            }
          },
          "metadata": {},
          "execution_count": 29
        }
      ]
    },
    {
      "cell_type": "code",
      "source": [
        "tempText.strip(' \\n')"
      ],
      "metadata": {
        "colab": {
          "base_uri": "https://localhost:8080/",
          "height": 35
        },
        "id": "umpno8TK9WFR",
        "outputId": "68fb205d-42af-4041-e1b7-6f6d0a3ec65e"
      },
      "execution_count": 30,
      "outputs": [
        {
          "output_type": "execute_result",
          "data": {
            "text/plain": [
              "'Python'"
            ],
            "application/vnd.google.colaboratory.intrinsic+json": {
              "type": "string"
            }
          },
          "metadata": {},
          "execution_count": 30
        }
      ]
    },
    {
      "cell_type": "code",
      "source": [
        "#lstrip() : 해당 텍스트의 왼쪽\n",
        "#rstrip() : 해당 텍스트의 오른쪽"
      ],
      "metadata": {
        "id": "OzUXHTLE91qp"
      },
      "execution_count": 31,
      "outputs": []
    },
    {
      "cell_type": "markdown",
      "source": [
        "## join() : 문자열 연결\n",
        "- 더하기 연산자(+)로 두 문자열을 연결 가능"
      ],
      "metadata": {
        "id": "TU0WLVBT-B78"
      }
    },
    {
      "cell_type": "code",
      "source": [
        "name1 = '철수'\n",
        "name2 = '영미'\n",
        "\n",
        "hello = '님, 주소와 전화 번호를 입력해 주세요'\n",
        "print(name1 + hello)"
      ],
      "metadata": {
        "colab": {
          "base_uri": "https://localhost:8080/"
        },
        "id": "vwZI7cLV-BA3",
        "outputId": "a6830edd-9609-41c4-edca-4ecbe62246a5"
      },
      "execution_count": 32,
      "outputs": [
        {
          "output_type": "stream",
          "name": "stdout",
          "text": [
            "철수님, 주소와 전화 번호를 입력해 주세요\n"
          ]
        }
      ]
    },
    {
      "cell_type": "code",
      "source": [
        "address_list = ['서울시', '서초구', '반포대로', '201(반포동)']\n",
        "# 리스트의 각 값을 모두 연결해서 하나의 텍스트로\n",
        "a = '-'  #' '안의 값으로 이어줌\n",
        "a.join(address_list) # '-'.join 이런식으로 써도됨"
      ],
      "metadata": {
        "colab": {
          "base_uri": "https://localhost:8080/",
          "height": 35
        },
        "id": "hKU37VKh-4H-",
        "outputId": "e29f61a5-5240-495d-cafa-bb440e94f3dd"
      },
      "execution_count": 35,
      "outputs": [
        {
          "output_type": "execute_result",
          "data": {
            "text/plain": [
              "'서울시-서초구-반포대로-201(반포동)'"
            ],
            "application/vnd.google.colaboratory.intrinsic+json": {
              "type": "string"
            }
          },
          "metadata": {},
          "execution_count": 35
        }
      ]
    },
    {
      "cell_type": "markdown",
      "source": [
        "## find() : 문자열 찾기\n",
        "- 문자열의 위치를 값을 반환\n"
      ],
      "metadata": {
        "id": "VNhDtYeG_9kl"
      }
    },
    {
      "cell_type": "code",
      "source": [
        "str_f = 'Python code.'\n",
        "print(\"찾는 문자열의 위치:\", str_f.find('o'))\n",
        "print(\"찾는 문자열의 위치:\", str_f.find('Java')) # -1 해당되는 문자 없음\n",
        "\n"
      ],
      "metadata": {
        "colab": {
          "base_uri": "https://localhost:8080/"
        },
        "id": "iwhO1TEx_TXy",
        "outputId": "b89cbbf6-5151-4773-b52e-b8188f7cbfee"
      },
      "execution_count": 40,
      "outputs": [
        {
          "output_type": "stream",
          "name": "stdout",
          "text": [
            "찾는 문자열의 위치: 4\n",
            "찾는 문자열의 위치: -1\n"
          ]
        }
      ]
    },
    {
      "cell_type": "markdown",
      "source": [
        "## count() : 찾고자 하는 문자열의 횟수 반환\n",
        "- 만약 찾을 문자열이 없으면 0으로 반환"
      ],
      "metadata": {
        "id": "Tu5xBuVFDGr5"
      }
    },
    {
      "cell_type": "code",
      "source": [
        "str_c = \"Python is powerful. Python is easy to learn. Python is open.\""
      ],
      "metadata": {
        "id": "gltED44DBDvq"
      },
      "execution_count": 42,
      "outputs": []
    },
    {
      "cell_type": "code",
      "source": [
        "print('python의 갯수는?', str_c.count('Python'))\n",
        "print('python의 갯수는?', str_c.count('java'))"
      ],
      "metadata": {
        "colab": {
          "base_uri": "https://localhost:8080/"
        },
        "id": "_whNWebwDwjq",
        "outputId": "f701798d-1329-48b4-95d1-5de5fdd3c948"
      },
      "execution_count": 46,
      "outputs": [
        {
          "output_type": "stream",
          "name": "stdout",
          "text": [
            "python의 갯수는? 3\n",
            "python의 갯수는? 0\n"
          ]
        }
      ]
    },
    {
      "cell_type": "markdown",
      "source": [
        "## startswith, endswith\n",
        "- 각 문자열이 지정된 문자로 시작하는지 또는 끝나는지 체크(검사)할떄 사용"
      ],
      "metadata": {
        "id": "o9iYSQb_EDsb"
      }
    },
    {
      "cell_type": "code",
      "source": [
        "str_c = \"Python is powerful. Python is easy to learn. Python is open.\""
      ],
      "metadata": {
        "id": "Wpb78yHXD3nv"
      },
      "execution_count": 49,
      "outputs": []
    },
    {
      "cell_type": "code",
      "source": [
        "print('Python으로 시작?', str_c.startswith('Python'))"
      ],
      "metadata": {
        "colab": {
          "base_uri": "https://localhost:8080/"
        },
        "id": "GG5U1zcGEkc-",
        "outputId": "1325c49f-16a0-44f3-a70c-c8c73e847c7f"
      },
      "execution_count": 52,
      "outputs": [
        {
          "output_type": "stream",
          "name": "stdout",
          "text": [
            "Python으로 시작? True\n"
          ]
        }
      ]
    },
    {
      "cell_type": "markdown",
      "source": [
        "replace() : 문자열 바꾸기\n",
        "- 지정한 문자열을 찾아서 바꾸는 메서드"
      ],
      "metadata": {
        "id": "0oDCO44oFC8x"
      }
    },
    {
      "cell_type": "markdown",
      "source": [],
      "metadata": {
        "id": "umgXkSRPFCyR"
      }
    },
    {
      "cell_type": "code",
      "source": [
        "str_a = 'Python is fast. Python is friendly. Python is open.'\n",
        "print(str_a.replace('Python', 'Ipython')) #Python을 Ipython으로"
      ],
      "metadata": {
        "colab": {
          "base_uri": "https://localhost:8080/"
        },
        "id": "KF0tNwo5Ezuz",
        "outputId": "d66583d8-93dc-44bd-84ff-a20abe3f6e52"
      },
      "execution_count": 53,
      "outputs": [
        {
          "output_type": "stream",
          "name": "stdout",
          "text": [
            "Ipython is fast. Ipython is friendly. Ipython is open.\n"
          ]
        }
      ]
    },
    {
      "cell_type": "code",
      "source": [
        "str_b = '[Python][is][fast]'\n",
        "str_b1 = str_b.replace('[','')\n",
        "str_b2 = str_b1.replace(']',' ')\n",
        "result = str_b2.rstrip()  #맨뒤 공백을 지우기 위해 사용\n",
        "print(result)"
      ],
      "metadata": {
        "colab": {
          "base_uri": "https://localhost:8080/"
        },
        "id": "jVc16ncuFOt7",
        "outputId": "4e7a848c-b194-4763-dd88-fd070174b9cf"
      },
      "execution_count": 58,
      "outputs": [
        {
          "output_type": "stream",
          "name": "stdout",
          "text": [
            "Python is fast\n"
          ]
        }
      ]
    },
    {
      "cell_type": "markdown",
      "source": [
        "#리스트 함수\n",
        "- 교재(p.54)\n",
        "- 처음 프로그래밍 공부할 때\n",
        "  + 1차 교재확인\n",
        "  + 프로젝트 진행 시 ==> 공식문서에 친숙 (너무 많아서 찾는게 좋음)\n",
        "  + 라이브러리 사용 할 때, 공식문서를 보는 훈련을 계속 키워야 함"
      ],
      "metadata": {
        "id": "Uid0Xp9jKCkI"
      }
    },
    {
      "cell_type": "markdown",
      "source": [
        "## append()*\n",
        "- 리스트에서 항목 하나를 맨 마지막에 추가\n",
        "- 별도로 변수 저장 할 필요 없음"
      ],
      "metadata": {
        "id": "k1D8kSjqN2P8"
      }
    },
    {
      "cell_type": "code",
      "source": [
        "myFriends = ['James', 'Robert', 'Lisa', 'Mary']\n",
        "myFriends.append('Thomas')  #새로운 변수 값에 저장하여 쓸수 없음\n",
        "print(myFriends)"
      ],
      "metadata": {
        "colab": {
          "base_uri": "https://localhost:8080/"
        },
        "id": "afXVP6qkGKmg",
        "outputId": "dfbb0493-42fc-4ce9-b1f6-62e7b4dd097f"
      },
      "execution_count": 60,
      "outputs": [
        {
          "output_type": "stream",
          "name": "stdout",
          "text": [
            "['James', 'Robert', 'Lisa', 'Mary', 'Thomas']\n"
          ]
        }
      ]
    },
    {
      "cell_type": "markdown",
      "source": [
        "## extend()\n",
        "- 리스트에서 항목 여러 개를 맨 마지막에 추가"
      ],
      "metadata": {
        "id": "gC56t685PPSN"
      }
    },
    {
      "cell_type": "code",
      "source": [
        "myFriends = ['James', 'Robert', 'Lisa', 'Mary']\n",
        "myFriends.append('Thomas')\n",
        "\n",
        "newFriends = ['A' , 'B', 'C']\n",
        "myFriends.extend(newFriends)\n",
        "myFriends"
      ],
      "metadata": {
        "colab": {
          "base_uri": "https://localhost:8080/"
        },
        "id": "wIDAVYe2ONmB",
        "outputId": "7605febc-b8a7-4b5e-f1e7-2759feb9f836"
      },
      "execution_count": 62,
      "outputs": [
        {
          "output_type": "execute_result",
          "data": {
            "text/plain": [
              "['James', 'Robert', 'Lisa', 'Mary', 'Thomas', 'A', 'B', 'C']"
            ]
          },
          "metadata": {},
          "execution_count": 62
        }
      ]
    },
    {
      "cell_type": "markdown",
      "source": [
        "## insert()\n",
        "- 항목의 위치를 나타내는 인덱스 i에 data를 삽입"
      ],
      "metadata": {
        "id": "Xq2rjUJpQMJc"
      }
    },
    {
      "cell_type": "code",
      "source": [
        "myFriends = ['James', 'Robert', 'Lisa', 'Mary']\n",
        "myFriends.insert(1, 'Evan')  #(인덱스, 원하는데이터)\n",
        "print(myFriends)"
      ],
      "metadata": {
        "colab": {
          "base_uri": "https://localhost:8080/"
        },
        "id": "sdKm5PS2PrqE",
        "outputId": "35364238-e9cf-42ca-8262-ae643a36307a"
      },
      "execution_count": 64,
      "outputs": [
        {
          "output_type": "stream",
          "name": "stdout",
          "text": [
            "['James', 'Evan', 'Robert', 'Lisa', 'Mary']\n"
          ]
        }
      ]
    },
    {
      "cell_type": "markdown",
      "source": [
        "# 오전 수업 리뷰\n",
        "- 다양한 함수를 사용\n",
        " + string, list 관련된 주요 메서드\n",
        "-각 메서드명, 매개변수에 대해 처음 접함\n",
        " + 주의 / 확인 : 함수를 실행 후, 반환값, Return값을 확인해야 함\n",
        " + 코드를 암기하려고 하지 말고, 공식문서를 보는 방법에 대해 익힘\n",
        " + 코드 암기는 빅데이터 분석기사 or 코딩 테스트 대비할때 외움"
      ],
      "metadata": {
        "id": "64SQSW_fTnGj"
      }
    },
    {
      "cell_type": "markdown",
      "source": [
        "#클래스"
      ],
      "metadata": {
        "id": "8DNKvdAqnaYI"
      }
    },
    {
      "cell_type": "markdown",
      "source": [
        "##함수\n",
        "- 다른 개발자 분들이 만들어 놓은 함수를 갖다 씀\n",
        "- 함수를 직접 만들자!\n",
        "  + 의미있는 함수를 만드는 것이 프로젝트\n",
        "- 프로그래밍을 한다 ==> 재실행할거다, 재실행 또는 반복 실행을 하기 위한 방법론: 함수\n",
        "  + 반복적인 일을 해야 한다는 느낌을 받을 떄 함수를 만들면 됨\n",
        "\n",
        "  "
      ],
      "metadata": {
        "id": "GfP5aUsangp6"
      }
    },
    {
      "cell_type": "code",
      "source": [
        "#함수의 구조\n",
        "#매개변수 = 인자\n",
        "# 116p\n",
        "def 함수명(인자1, 인자2, ...,인자 n):\n",
        "  # 코드블록\n",
        "  return 반환값"
      ],
      "metadata": {
        "id": "3ZBbKQPiTMN4"
      },
      "execution_count": null,
      "outputs": []
    },
    {
      "cell_type": "code",
      "source": [
        "def mySum(a,b):\n",
        "  c = a+b\n",
        "  return c\n",
        "a = 1\n",
        "b = 1\n",
        "\n",
        "result = mySum(a,b)\n",
        "print(result)"
      ],
      "metadata": {
        "colab": {
          "base_uri": "https://localhost:8080/"
        },
        "id": "5ExprSyKqHno",
        "outputId": "b0a61035-f37c-4f04-d318-a5bc4d5e0bf7"
      },
      "execution_count": 66,
      "outputs": [
        {
          "output_type": "stream",
          "name": "stdout",
          "text": [
            "2\n"
          ]
        }
      ]
    },
    {
      "cell_type": "code",
      "source": [
        "def mySubtract(a,b):\n",
        "  c = a-b\n",
        "  return c\n",
        "\n",
        "mySubtract(4,1)"
      ],
      "metadata": {
        "colab": {
          "base_uri": "https://localhost:8080/"
        },
        "id": "Vh88h7_8qlLC",
        "outputId": "a2b7d1b0-cdcd-4da5-c8f5-0fcc7edc2076"
      },
      "execution_count": 67,
      "outputs": [
        {
          "output_type": "execute_result",
          "data": {
            "text/plain": [
              "3"
            ]
          },
          "metadata": {},
          "execution_count": 67
        }
      ]
    },
    {
      "cell_type": "code",
      "source": [
        "#에러를 통해서 함수의 필요 인자를 확인할 수 있음\n",
        "m = 1\n",
        "\n",
        "result = mySubtract(m)\n",
        "print(result)"
      ],
      "metadata": {
        "colab": {
          "base_uri": "https://localhost:8080/",
          "height": 228
        },
        "id": "DjOFgdNzsUZN",
        "outputId": "39e4cafc-641d-4da2-f944-3ea24bb03494"
      },
      "execution_count": 68,
      "outputs": [
        {
          "output_type": "error",
          "ename": "TypeError",
          "evalue": "ignored",
          "traceback": [
            "\u001b[0;31m---------------------------------------------------------------------------\u001b[0m",
            "\u001b[0;31mTypeError\u001b[0m                                 Traceback (most recent call last)",
            "\u001b[0;32m<ipython-input-68-8649a8335d41>\u001b[0m in \u001b[0;36m<cell line: 3>\u001b[0;34m()\u001b[0m\n\u001b[1;32m      1\u001b[0m \u001b[0mm\u001b[0m \u001b[0;34m=\u001b[0m \u001b[0;36m1\u001b[0m\u001b[0;34m\u001b[0m\u001b[0;34m\u001b[0m\u001b[0m\n\u001b[1;32m      2\u001b[0m \u001b[0;34m\u001b[0m\u001b[0m\n\u001b[0;32m----> 3\u001b[0;31m \u001b[0mresult\u001b[0m \u001b[0;34m=\u001b[0m \u001b[0mmySubtract\u001b[0m\u001b[0;34m(\u001b[0m\u001b[0mm\u001b[0m\u001b[0;34m)\u001b[0m\u001b[0;34m\u001b[0m\u001b[0;34m\u001b[0m\u001b[0m\n\u001b[0m\u001b[1;32m      4\u001b[0m \u001b[0mprint\u001b[0m\u001b[0;34m(\u001b[0m\u001b[0mresult\u001b[0m\u001b[0;34m)\u001b[0m\u001b[0;34m\u001b[0m\u001b[0;34m\u001b[0m\u001b[0m\n",
            "\u001b[0;31mTypeError\u001b[0m: mySubtract() missing 1 required positional argument: 'b'"
          ]
        }
      ]
    },
    {
      "cell_type": "code",
      "source": [
        "def mySubtract(a,b=0): # b의 초깃값으로 0으로 설정 또는 b = None\n",
        "  c = a-b\n",
        "  return c\n",
        "\n",
        "M = 1\n",
        "N = 100\n",
        "\n",
        "result = mySubtract(M, N) #b 재정의\n",
        "print(result)"
      ],
      "metadata": {
        "colab": {
          "base_uri": "https://localhost:8080/"
        },
        "id": "fD7ud0uWt-A1",
        "outputId": "67b3eff5-cf10-455f-8c6d-b4a529011ac8"
      },
      "execution_count": 69,
      "outputs": [
        {
          "output_type": "stream",
          "name": "stdout",
          "text": [
            "1\n"
          ]
        }
      ]
    },
    {
      "cell_type": "code",
      "source": [
        "def my_func():\n",
        "  print(\"My first function\")\n",
        "  print(\"This is a function!\")"
      ],
      "metadata": {
        "id": "tFdOouUqvR4H"
      },
      "execution_count": 70,
      "outputs": []
    },
    {
      "cell_type": "code",
      "source": [
        "result = mySubtract(M, N) #Return이 있는 메소드\n",
        "my_func()# Return이 없는 메소드"
      ],
      "metadata": {
        "colab": {
          "base_uri": "https://localhost:8080/"
        },
        "id": "RxH9Iien0Ph2",
        "outputId": "19add939-ff7c-46e1-f7e3-182c3c63d48e"
      },
      "execution_count": 71,
      "outputs": [
        {
          "output_type": "stream",
          "name": "stdout",
          "text": [
            "My first function\n",
            "This is a function!\n"
          ]
        }
      ]
    },
    {
      "cell_type": "markdown",
      "source": [
        "### 변수의 유효범위\n",
        "- p121\n",
        "- 지역 변수(Local Variable) & 전역 변수(Global Variable)  "
      ],
      "metadata": {
        "id": "Auht3Vp12Bg4"
      }
    },
    {
      "cell_type": "code",
      "source": [
        "a = 5 #전역변수\n",
        "\n",
        "def func1():\n",
        "  a = 1 #지역변수\n",
        "  print(f'func1 지역 변수 a = {a}')\n",
        "\n",
        "func1()\n",
        "print(f'전역 변수 a = {a}')"
      ],
      "metadata": {
        "colab": {
          "base_uri": "https://localhost:8080/"
        },
        "id": "0E7XpUCw0Qif",
        "outputId": "22e7f60d-4495-4484-87ef-222e564b9f7a"
      },
      "execution_count": 73,
      "outputs": [
        {
          "output_type": "stream",
          "name": "stdout",
          "text": [
            "func1 지역 변수 a = 1\n",
            "전역 변수 a = 5\n"
          ]
        }
      ]
    },
    {
      "cell_type": "code",
      "source": [
        "a = 5 #전역변수\n",
        "\n",
        "def func1():\n",
        "  #a = 1 #지역변수\n",
        "  print(f'func1 지역 변수 a = {a}')\n",
        "\n",
        "func1()\n",
        "print(f'전역 변수 a = {a}')"
      ],
      "metadata": {
        "colab": {
          "base_uri": "https://localhost:8080/"
        },
        "id": "P9S44Glo2w1b",
        "outputId": "903ac338-abcd-4c20-90e5-c4760c649897"
      },
      "execution_count": 74,
      "outputs": [
        {
          "output_type": "stream",
          "name": "stdout",
          "text": [
            "func1 지역 변수 a = 5\n",
            "전역 변수 a = 5\n"
          ]
        }
      ]
    },
    {
      "cell_type": "code",
      "source": [
        "a = 5 #전역변수\n",
        "\n",
        "def func1():\n",
        "  a = 1 #지역변수\n",
        "  print(f'func1 지역 변수 a = {a}')\n",
        "\n",
        "def func2():\n",
        "  a = 4 #지역변수\n",
        "  print(f'func2 지역 변수 a = {a}')\n",
        "\n",
        "func1()\n",
        "func2()\n",
        "print(f'전역 변수 a = {a}')"
      ],
      "metadata": {
        "colab": {
          "base_uri": "https://localhost:8080/"
        },
        "id": "3GXDDybk3y11",
        "outputId": "982f50d9-429b-4bbb-c29f-bf810c116d52"
      },
      "execution_count": 75,
      "outputs": [
        {
          "output_type": "stream",
          "name": "stdout",
          "text": [
            "func1 지역 변수 a = 1\n",
            "func2 지역 변수 a = 4\n",
            "전역 변수 a = 5\n"
          ]
        }
      ]
    },
    {
      "cell_type": "code",
      "source": [
        "a = 5 #전역변수\n",
        "\n",
        "def func1():\n",
        "  a = 1 #지역변수\n",
        "  print(f'func1 지역 변수 a = {a}')\n",
        "\n",
        "def func2():\n",
        "  a = 4 #지역변수\n",
        "  print(f'func2 지역 변수 a = {a}')\n",
        "\n",
        "def func3():\n",
        "  print(f'func 전역 변수 a = {a}')\n",
        "\n",
        "def func4():\n",
        "  global a # 함수내 에서 전역변수 변경하기 위함\n",
        "  a = 500\n",
        "  print(f'func4 전역변수 a = {a}')\n",
        "\n",
        "\n",
        "func1()\n",
        "func2()\n",
        "func3()\n",
        "func4()\n",
        "print(f'전역 변수 a = {a}') #여기가 500이 나오는게 포인트"
      ],
      "metadata": {
        "colab": {
          "base_uri": "https://localhost:8080/"
        },
        "id": "d2LvtXsE4JAz",
        "outputId": "1ff8d7d2-002a-474b-d496-8009d12ac72f"
      },
      "execution_count": 77,
      "outputs": [
        {
          "output_type": "stream",
          "name": "stdout",
          "text": [
            "func1 지역 변수 a = 1\n",
            "func2 지역 변수 a = 4\n",
            "func 전역 변수 a = 5\n",
            "func4 전역변수 a = 500\n",
            "전역 변수 a = 500\n"
          ]
        }
      ]
    },
    {
      "cell_type": "markdown",
      "source": [
        "### 람다 함수\n",
        "- def 함수 같은 경우에는 복잡한 함수 로직을 만들 때 주로 사용\n",
        "- 단순기능을 수행 할 때, 주로 lambda 함수\n",
        "  + 함수를 한줄로 처리\n"
      ],
      "metadata": {
        "id": "aTmar-lW6v_K"
      }
    },
    {
      "cell_type": "code",
      "source": [
        "(lambda x : x**2)(3)    #  (lambda 인자 : 인자를 활용한 코드)(원하는 인자 입력)"
      ],
      "metadata": {
        "colab": {
          "base_uri": "https://localhost:8080/"
        },
        "id": "OO6Y8zTS458V",
        "outputId": "b24f37d6-6840-423a-91a9-94b4dde6bddb"
      },
      "execution_count": 78,
      "outputs": [
        {
          "output_type": "execute_result",
          "data": {
            "text/plain": [
              "9"
            ]
          },
          "metadata": {},
          "execution_count": 78
        }
      ]
    },
    {
      "cell_type": "code",
      "source": [
        "mySquare = lambda x : x**2\n",
        "mySquare(3)"
      ],
      "metadata": {
        "colab": {
          "base_uri": "https://localhost:8080/"
        },
        "id": "alEqMBHH7RoB",
        "outputId": "798c8588-9db2-48d9-ee14-df2a7a409aae"
      },
      "execution_count": 79,
      "outputs": [
        {
          "output_type": "execute_result",
          "data": {
            "text/plain": [
              "9"
            ]
          },
          "metadata": {},
          "execution_count": 79
        }
      ]
    },
    {
      "cell_type": "markdown",
      "source": [
        "## 클래스 선언과 객체 생성\n",
        "- 교재 p135\n",
        "- 함수의 확장\n",
        "- 함수와 클래스 비유적 비교\n",
        "  + 함수 : 덧셈함수, 뺄셈함수 등등\n",
        "  + 클래스 : 사칙연산, (예: 계산기)\n",
        "  + 라이브러리 : 클래스들의 묶음"
      ],
      "metadata": {
        "id": "ZofYcBblBDXK"
      }
    },
    {
      "cell_type": "code",
      "source": [
        "# 자전거의 속성 : data (바퀴의 크기, 자전거의 색상)\n",
        "# 자전거의 동작 : method(= function), 지정된 속도로 이동, 좌/우회전, 정지 기능"
      ],
      "metadata": {
        "id": "KHjMmZdB8V65"
      },
      "execution_count": 80,
      "outputs": []
    },
    {
      "cell_type": "code",
      "source": [
        "class Bycycle():  #클래스 선언\n",
        "  # 클래스 변수\n",
        "  데이터1 = 바퀴의 크기\n",
        "  데이터2 = 자전거의 색상\n",
        "\n",
        "  # 클래스 메소드\n",
        "  def 속도():\n",
        "    pass\n",
        "  def 방향() :\n",
        "    pass\n",
        "  def 정지():\n",
        "    pass\n",
        "\n",
        "객체명 = Bycycle(데이터1, 데이터2) #입력한 형태로 새로운 객체가 생기는것\n",
        "\n",
        "# 파이썬은 클래스로 구성이 되어있고 제한적으로 구현이되있기 때문에 찾아야한다. ?!\n",
        "# 클래스안에 메소드가 존재\n"
      ],
      "metadata": {
        "id": "a83oj5IEEFWM"
      },
      "execution_count": null,
      "outputs": []
    },
    {
      "cell_type": "markdown",
      "source": [
        "### Why Class? 프로그래밍 관점"
      ],
      "metadata": {
        "id": "8d4MqFEFJQ8q"
      }
    },
    {
      "cell_type": "code",
      "source": [
        "result = 0\n",
        "def add(num):\n",
        "  global result\n",
        "\n",
        "  result = result + num\n",
        "  return result\n",
        "print(add(3))\n",
        "print(add(5))"
      ],
      "metadata": {
        "colab": {
          "base_uri": "https://localhost:8080/"
        },
        "id": "92c648xpJmg8",
        "outputId": "5ecd25f7-0e8f-4667-9cc0-a0d9bc7da56f"
      },
      "execution_count": 81,
      "outputs": [
        {
          "output_type": "stream",
          "name": "stdout",
          "text": [
            "3\n",
            "8\n"
          ]
        }
      ]
    },
    {
      "cell_type": "code",
      "source": [
        "result1 = 0\n",
        "\n",
        "def add(num):\n",
        "  global result\n",
        "\n",
        "  result = result + num\n",
        "  return result\n",
        "print(add(3))\n",
        "print(add(5))"
      ],
      "metadata": {
        "id": "nJYCg_qWKFzL"
      },
      "execution_count": null,
      "outputs": []
    },
    {
      "cell_type": "code",
      "source": [
        "class Calculator:\n",
        "\n",
        "  def __init__(self):\n",
        "    self.result = 0  #result값 초기화\n",
        "  #클래스 메서드\n",
        "  def add(self, num):\n",
        "    self.result = self.result + num\n",
        "    return self.result\n",
        "\n",
        "cal1 = Calculator() # 인스턴스화, 계산기 번호 1\n",
        "cal2 = Calculator() # 인스턴스화, 계산기 번호 2\n",
        "\n",
        "#클래스의 위대함\n",
        "#독립적으로 구현이 되면서, 동시에 실행이 되고 있음\n",
        "#기능은 덧셈 기능\n",
        "#계산기 댓수를 무한으로 생성가능\n",
        "\n",
        "print(cal1.add(3))\n",
        "print(cal1.add(5))\n",
        "\n",
        "print(cal2.add(6))\n",
        "print(cal2.add(5))"
      ],
      "metadata": {
        "colab": {
          "base_uri": "https://localhost:8080/"
        },
        "id": "2jQqMgOFPI3m",
        "outputId": "2911741d-2d9c-49ba-81f0-d5e8a0e65e66"
      },
      "execution_count": 88,
      "outputs": [
        {
          "output_type": "stream",
          "name": "stdout",
          "text": [
            "3\n",
            "8\n",
            "6\n",
            "11\n"
          ]
        }
      ]
    },
    {
      "cell_type": "code",
      "source": [
        "print(cal1.multiple(5))\n",
        "# multiple함수가 안에 없음"
      ],
      "metadata": {
        "colab": {
          "base_uri": "https://localhost:8080/",
          "height": 176
        },
        "id": "3t_jp2-vQZ8I",
        "outputId": "4f2009ae-53ae-489f-d040-6115f4115f74"
      },
      "execution_count": 89,
      "outputs": [
        {
          "output_type": "error",
          "ename": "AttributeError",
          "evalue": "ignored",
          "traceback": [
            "\u001b[0;31m---------------------------------------------------------------------------\u001b[0m",
            "\u001b[0;31mAttributeError\u001b[0m                            Traceback (most recent call last)",
            "\u001b[0;32m<ipython-input-89-19106f29d3e2>\u001b[0m in \u001b[0;36m<cell line: 1>\u001b[0;34m()\u001b[0m\n\u001b[0;32m----> 1\u001b[0;31m \u001b[0mprint\u001b[0m\u001b[0;34m(\u001b[0m\u001b[0mcal1\u001b[0m\u001b[0;34m.\u001b[0m\u001b[0mmultiple\u001b[0m\u001b[0;34m(\u001b[0m\u001b[0;36m5\u001b[0m\u001b[0;34m)\u001b[0m\u001b[0;34m)\u001b[0m\u001b[0;34m\u001b[0m\u001b[0;34m\u001b[0m\u001b[0m\n\u001b[0m",
            "\u001b[0;31mAttributeError\u001b[0m: 'Calculator' object has no attribute 'multiple'"
          ]
        }
      ]
    },
    {
      "cell_type": "code",
      "source": [
        "print(cal1.Add(5))\n",
        "#대소문자 맞춰줘야함\n",
        "#공식문서 확인"
      ],
      "metadata": {
        "colab": {
          "base_uri": "https://localhost:8080/",
          "height": 176
        },
        "id": "XQXr3CSdTGYD",
        "outputId": "191df26d-24d1-4ae2-99db-c6bd6b0cfd75"
      },
      "execution_count": 90,
      "outputs": [
        {
          "output_type": "error",
          "ename": "AttributeError",
          "evalue": "ignored",
          "traceback": [
            "\u001b[0;31m---------------------------------------------------------------------------\u001b[0m",
            "\u001b[0;31mAttributeError\u001b[0m                            Traceback (most recent call last)",
            "\u001b[0;32m<ipython-input-90-1ee02d580492>\u001b[0m in \u001b[0;36m<cell line: 1>\u001b[0;34m()\u001b[0m\n\u001b[0;32m----> 1\u001b[0;31m \u001b[0mprint\u001b[0m\u001b[0;34m(\u001b[0m\u001b[0mcal1\u001b[0m\u001b[0;34m.\u001b[0m\u001b[0mAdd\u001b[0m\u001b[0;34m(\u001b[0m\u001b[0;36m5\u001b[0m\u001b[0;34m)\u001b[0m\u001b[0;34m)\u001b[0m\u001b[0;34m\u001b[0m\u001b[0;34m\u001b[0m\u001b[0m\n\u001b[0m",
            "\u001b[0;31mAttributeError\u001b[0m: 'Calculator' object has no attribute 'Add'"
          ]
        }
      ]
    },
    {
      "cell_type": "markdown",
      "source": [
        "## 객체 초기화\n",
        "- ' __init__ ()' : 객체 생성과 동시에 속성값을 지정 할 수 있다.\n",
        "  + 주로 클래스 선언 시 변수 초기화\n"
      ],
      "metadata": {
        "id": "rFArR6O4U5WK"
      }
    },
    {
      "cell_type": "code",
      "source": [
        "class Bicycle():\n",
        "  #변수 초기화\n",
        "  def __init__(self, wheel_size, color):\n",
        "    self.wheel_size = wheel_size\n",
        "    self.color = color\n",
        "  def stop(self):\n",
        "    print('자전거({0},{1}) : 정지'.format(self.wheel_size, self.color))"
      ],
      "metadata": {
        "id": "RMijqiHYTvkv"
      },
      "execution_count": 93,
      "outputs": []
    },
    {
      "cell_type": "code",
      "source": [
        "my_bicycle = Bicycle(26, 'black')\n",
        "ur_bicycle = Bicycle(30, 'pink')\n",
        "\n",
        "my_bicycle.stop()\n",
        "ur_bicycle.stop()"
      ],
      "metadata": {
        "colab": {
          "base_uri": "https://localhost:8080/"
        },
        "id": "vWdPYr0xVoT6",
        "outputId": "a15dc785-1da7-4c5d-8273-f0f4bfea6490"
      },
      "execution_count": 97,
      "outputs": [
        {
          "output_type": "stream",
          "name": "stdout",
          "text": [
            "자전거(26,black) : 정지\n",
            "자전거(30,pink) : 정지\n"
          ]
        }
      ]
    },
    {
      "cell_type": "markdown",
      "source": [],
      "metadata": {
        "id": "fPankXLvXvl6"
      }
    }
  ]
}