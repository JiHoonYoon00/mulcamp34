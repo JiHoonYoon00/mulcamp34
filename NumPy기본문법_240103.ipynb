{
  "cells": [
    {
      "cell_type": "markdown",
      "metadata": {
        "id": "view-in-github",
        "colab_type": "text"
      },
      "source": [
        "<a href=\"https://colab.research.google.com/github/JiHoonYoon00/mulcamp34/blob/main/NumPy%E1%84%80%E1%85%B5%E1%84%87%E1%85%A9%E1%86%AB%E1%84%86%E1%85%AE%E1%86%AB%E1%84%87%E1%85%A5%E1%86%B8_240103.ipynb\" target=\"_parent\"><img src=\"https://colab.research.google.com/assets/colab-badge.svg\" alt=\"Open In Colab\"/></a>"
      ]
    },
    {
      "cell_type": "markdown",
      "id": "b84c4b33-fc8a-4aa7-af81-313368ac34e0",
      "metadata": {
        "id": "b84c4b33-fc8a-4aa7-af81-313368ac34e0"
      },
      "source": [
        "## Numpy\n",
        "- 선형대수, 행렬 수치연산과 관련된 라이브러리\n",
        "- 통계 포커싱두고 공부 > 응용,해석을 위주로 공부를 해야함 (원리x)\n"
      ]
    },
    {
      "cell_type": "code",
      "execution_count": null,
      "id": "bdc6531c-9427-4492-a04a-88424c5988c7",
      "metadata": {
        "id": "bdc6531c-9427-4492-a04a-88424c5988c7",
        "outputId": "193512dc-f3e0-49ce-bff9-539922961ab1"
      },
      "outputs": [
        {
          "name": "stdout",
          "output_type": "stream",
          "text": [
            "1.26.2\n"
          ]
        }
      ],
      "source": [
        "import numpy as np # 넘파이 라이브러리 불러오기\n",
        "\n",
        "print(np.__version__)"
      ]
    },
    {
      "cell_type": "code",
      "execution_count": null,
      "id": "c657de13-70b0-406e-8fda-6b5929093d7e",
      "metadata": {
        "id": "c657de13-70b0-406e-8fda-6b5929093d7e"
      },
      "outputs": [],
      "source": [
        "num1 = [1, 2, 3, 4]\n",
        "num2 = [3, 4, 5, 6]\n",
        "\n",
        "#넘파이의 배열로 만들어준다\n"
      ]
    },
    {
      "cell_type": "code",
      "execution_count": null,
      "id": "65897252-6c1f-4893-8fd3-4de634588406",
      "metadata": {
        "id": "65897252-6c1f-4893-8fd3-4de634588406",
        "outputId": "4704a4cc-8cd7-400e-dc11-903eacf5a929"
      },
      "outputs": [
        {
          "data": {
            "text/plain": [
              "array([1, 2, 3, 4])"
            ]
          },
          "execution_count": 4,
          "metadata": {},
          "output_type": "execute_result"
        }
      ],
      "source": [
        "arr1 = np.array(num1)\n",
        "arr2 = np.array(num2)\n",
        "arr1"
      ]
    },
    {
      "cell_type": "code",
      "execution_count": null,
      "id": "2e82e70f-f750-4043-b577-1b206b37c4a5",
      "metadata": {
        "id": "2e82e70f-f750-4043-b577-1b206b37c4a5",
        "outputId": "e31e69bd-7112-4163-871f-380198899f7c"
      },
      "outputs": [
        {
          "data": {
            "text/plain": [
              "array([3, 4, 5, 6])"
            ]
          },
          "execution_count": 5,
          "metadata": {},
          "output_type": "execute_result"
        }
      ],
      "source": [
        "arr2"
      ]
    },
    {
      "cell_type": "code",
      "execution_count": null,
      "id": "03c048b2-6359-44f2-86ab-6d63d2cf1716",
      "metadata": {
        "id": "03c048b2-6359-44f2-86ab-6d63d2cf1716",
        "outputId": "718cba92-8367-42bc-f5dd-504b17823590"
      },
      "outputs": [
        {
          "data": {
            "text/plain": [
              "array([ 4,  6,  8, 10])"
            ]
          },
          "execution_count": 6,
          "metadata": {},
          "output_type": "execute_result"
        }
      ],
      "source": [
        "arr1 + arr2"
      ]
    },
    {
      "cell_type": "code",
      "execution_count": null,
      "id": "3185e026-494c-41a5-9821-31b77adb3144",
      "metadata": {
        "id": "3185e026-494c-41a5-9821-31b77adb3144"
      },
      "outputs": [],
      "source": [
        "#핵심은 np.array 같은 변환 명령어"
      ]
    },
    {
      "cell_type": "code",
      "execution_count": null,
      "id": "35386d68-e520-4a4d-bc07-e634b75527dd",
      "metadata": {
        "id": "35386d68-e520-4a4d-bc07-e634b75527dd",
        "outputId": "c9204916-893e-4dbd-b2ae-0235eb39d107"
      },
      "outputs": [
        {
          "data": {
            "text/plain": [
              "array([0, 1, 2, 3, 4, 5])"
            ]
          },
          "execution_count": 9,
          "metadata": {},
          "output_type": "execute_result"
        }
      ],
      "source": [
        "data1 = [0,1,2,3,4,5]\n",
        "a1 = np.array(data1)\n",
        "a1"
      ]
    },
    {
      "cell_type": "code",
      "execution_count": null,
      "id": "69830dd1-a7f6-468a-b7fa-2653ebbec2a6",
      "metadata": {
        "id": "69830dd1-a7f6-468a-b7fa-2653ebbec2a6",
        "outputId": "3a43f392-237a-4f4f-87a1-3c7e50250663"
      },
      "outputs": [
        {
          "data": {
            "text/plain": [
              "dtype('int64')"
            ]
          },
          "execution_count": 11,
          "metadata": {},
          "output_type": "execute_result"
        }
      ],
      "source": [
        "a1.dtype #넘파이는 비트 타입으로 int가 표기됨 (메모리 관리)"
      ]
    },
    {
      "cell_type": "code",
      "execution_count": null,
      "id": "b4d58752-cc4f-4c40-95b4-c647453b4a61",
      "metadata": {
        "id": "b4d58752-cc4f-4c40-95b4-c647453b4a61",
        "outputId": "65a5e739-3adf-4f84-90d1-e0ca07188a2f"
      },
      "outputs": [
        {
          "data": {
            "text/plain": [
              "dtype('float64')"
            ]
          },
          "execution_count": 13,
          "metadata": {},
          "output_type": "execute_result"
        }
      ],
      "source": [
        "np.array([0.5,2,0.01,8]).dtype"
      ]
    },
    {
      "cell_type": "markdown",
      "id": "cb5efda8-5ac5-49a1-9e22-e11bbaae3cda",
      "metadata": {
        "id": "cb5efda8-5ac5-49a1-9e22-e11bbaae3cda"
      },
      "source": [
        "## Numpy 배열 생성\n",
        "- 1차원, 2차원, 3차원..배열생성\n",
        "  "
      ]
    },
    {
      "cell_type": "code",
      "execution_count": null,
      "id": "f2b82595-b3a9-43bf-b79d-f32e576999ed",
      "metadata": {
        "id": "f2b82595-b3a9-43bf-b79d-f32e576999ed",
        "outputId": "260aee81-b51e-4afa-fffc-7678c92e75cc"
      },
      "outputs": [
        {
          "data": {
            "text/plain": [
              "array([0, 2, 4, 6, 8])"
            ]
          },
          "execution_count": 15,
          "metadata": {},
          "output_type": "execute_result"
        }
      ],
      "source": [
        "np.arange(0,10,2)"
      ]
    },
    {
      "cell_type": "code",
      "execution_count": null,
      "id": "9009a09d-9ea4-41b6-87ca-9a36921e5f9a",
      "metadata": {
        "id": "9009a09d-9ea4-41b6-87ca-9a36921e5f9a",
        "outputId": "757bed9a-3a1f-4f4f-fc26-430b99a3f3a7"
      },
      "outputs": [
        {
          "data": {
            "text/plain": [
              "array([1, 2, 3, 4, 5, 6, 7, 8, 9])"
            ]
          },
          "execution_count": 16,
          "metadata": {},
          "output_type": "execute_result"
        }
      ],
      "source": [
        "np.arange(1,10) #반복문 for range와 비슷"
      ]
    },
    {
      "cell_type": "code",
      "execution_count": null,
      "id": "c7b379b3-f864-4e00-b089-23c2905fcaf1",
      "metadata": {
        "id": "c7b379b3-f864-4e00-b089-23c2905fcaf1",
        "outputId": "85add3d3-f5cb-4f94-96c4-e4859d2c0315"
      },
      "outputs": [
        {
          "data": {
            "text/plain": [
              "array([0, 1, 2, 3, 4, 5, 6, 7, 8, 9])"
            ]
          },
          "execution_count": 19,
          "metadata": {},
          "output_type": "execute_result"
        }
      ],
      "source": [
        "np.arange(10) #1차원배열"
      ]
    },
    {
      "cell_type": "code",
      "execution_count": null,
      "id": "1e9f4703-74b6-4350-ac7f-ca75e93ce407",
      "metadata": {
        "id": "1e9f4703-74b6-4350-ac7f-ca75e93ce407",
        "outputId": "92da17fd-bc8f-48c5-cd31-717c3f1c3f61"
      },
      "outputs": [
        {
          "data": {
            "text/plain": [
              "array([[ 0,  1,  2],\n",
              "       [ 3,  4,  5],\n",
              "       [ 6,  7,  8],\n",
              "       [ 9, 10, 11]])"
            ]
          },
          "execution_count": 21,
          "metadata": {},
          "output_type": "execute_result"
        }
      ],
      "source": [
        "np.arange(12).reshape(4,3)"
      ]
    },
    {
      "cell_type": "code",
      "execution_count": null,
      "id": "6230f1d0-3ce9-4781-8b04-b7d71c211b7b",
      "metadata": {
        "id": "6230f1d0-3ce9-4781-8b04-b7d71c211b7b",
        "outputId": "cfa6fdf2-b148-41ff-9cc2-df32d455cff3"
      },
      "outputs": [
        {
          "data": {
            "text/plain": [
              "array([[[ 0,  1,  2]],\n",
              "\n",
              "       [[ 3,  4,  5]],\n",
              "\n",
              "       [[ 6,  7,  8]],\n",
              "\n",
              "       [[ 9, 10, 11]]])"
            ]
          },
          "execution_count": 22,
          "metadata": {},
          "output_type": "execute_result"
        }
      ],
      "source": [
        "np.arange(12).reshape(4, 1, 3)"
      ]
    },
    {
      "cell_type": "code",
      "execution_count": null,
      "id": "c46593c3-ca52-4e8f-939c-8a5da54ce280",
      "metadata": {
        "id": "c46593c3-ca52-4e8f-939c-8a5da54ce280",
        "outputId": "d180c3e5-0998-425c-8541-20bb8cd8df1b"
      },
      "outputs": [
        {
          "data": {
            "text/plain": [
              "array([[[ 0,  1,  2],\n",
              "        [ 3,  4,  5]],\n",
              "\n",
              "       [[ 6,  7,  8],\n",
              "        [ 9, 10, 11]]])"
            ]
          },
          "execution_count": 23,
          "metadata": {},
          "output_type": "execute_result"
        }
      ],
      "source": [
        "np.arange(12).reshape(2, 2, 3)"
      ]
    },
    {
      "cell_type": "code",
      "execution_count": null,
      "id": "fd99d7bf-58c5-4f49-a8dd-81ba810a8a6c",
      "metadata": {
        "id": "fd99d7bf-58c5-4f49-a8dd-81ba810a8a6c",
        "outputId": "8a4d219b-634b-4a94-d409-5810cdb23d1f"
      },
      "outputs": [
        {
          "data": {
            "text/plain": [
              "(2, 2, 3)"
            ]
          },
          "execution_count": 25,
          "metadata": {},
          "output_type": "execute_result"
        }
      ],
      "source": [
        "b1 = np.arange(12).reshape(2, 2, 3)\n",
        "b1.shape  #차원확인,튜플형태"
      ]
    },
    {
      "cell_type": "code",
      "execution_count": null,
      "id": "4495ebf5-6ece-4bcd-b2a7-786f11a361d3",
      "metadata": {
        "id": "4495ebf5-6ece-4bcd-b2a7-786f11a361d3",
        "outputId": "ef1d9199-fcf2-4e18-81f2-3eb78186b29e"
      },
      "outputs": [
        {
          "data": {
            "text/plain": [
              "(5,)"
            ]
          },
          "execution_count": 27,
          "metadata": {},
          "output_type": "execute_result"
        }
      ],
      "source": [
        "b2 = np.arange(5)\n",
        "b2.shape #1차원 확인"
      ]
    },
    {
      "cell_type": "code",
      "execution_count": null,
      "id": "e87b005a-7525-40c9-811c-0b72f451431a",
      "metadata": {
        "id": "e87b005a-7525-40c9-811c-0b72f451431a",
        "outputId": "f3de3597-b7d3-462f-d781-e656a16167e9"
      },
      "outputs": [
        {
          "data": {
            "text/plain": [
              "array([ 0. ,  2.5,  5. ,  7.5, 10. ])"
            ]
          },
          "execution_count": 31,
          "metadata": {},
          "output_type": "execute_result"
        }
      ],
      "source": [
        "#범위의 시작과 끝을 정하고 배열 생성\n",
        "np.linspace(0,10,5) #(처음인덱스, 끝인덱스, 원하는원소갯수)"
      ]
    },
    {
      "cell_type": "code",
      "execution_count": null,
      "id": "f70d9107-464b-435b-8d8c-1d4304d428a9",
      "metadata": {
        "id": "f70d9107-464b-435b-8d8c-1d4304d428a9",
        "outputId": "44fbf04f-ed8d-432a-9273-6a82de683a96"
      },
      "outputs": [
        {
          "data": {
            "text/plain": [
              "array([0.        , 0.16534698, 0.33069396, 0.49604095, 0.66138793,\n",
              "       0.82673491, 0.99208189, 1.15742887, 1.32277585, 1.48812284,\n",
              "       1.65346982, 1.8188168 , 1.98416378, 2.14951076, 2.31485774,\n",
              "       2.48020473, 2.64555171, 2.81089869, 2.97624567, 3.14159265])"
            ]
          },
          "execution_count": 34,
          "metadata": {},
          "output_type": "execute_result"
        }
      ],
      "source": [
        "np.linspace(0, np.pi, 20)"
      ]
    },
    {
      "cell_type": "code",
      "execution_count": null,
      "id": "0f1ec180-605d-4a06-af3f-fabf3f1f11b7",
      "metadata": {
        "id": "0f1ec180-605d-4a06-af3f-fabf3f1f11b7",
        "outputId": "8d3d29d7-4b4e-4e6c-8245-7e6fd021ab8a"
      },
      "outputs": [
        {
          "data": {
            "text/plain": [
              "array([0., 0., 0., 0., 0., 0., 0., 0., 0., 0.])"
            ]
          },
          "execution_count": 35,
          "metadata": {},
          "output_type": "execute_result"
        }
      ],
      "source": [
        "np.zeros(10)"
      ]
    },
    {
      "cell_type": "code",
      "execution_count": null,
      "id": "c0f3d0e3-f760-4bf3-a8e0-4234cd43a96e",
      "metadata": {
        "id": "c0f3d0e3-f760-4bf3-a8e0-4234cd43a96e",
        "outputId": "0f149de6-6be1-4076-8db7-b65e38efa418"
      },
      "outputs": [
        {
          "data": {
            "text/plain": [
              "array([[0., 0.],\n",
              "       [0., 0.]])"
            ]
          },
          "execution_count": 37,
          "metadata": {},
          "output_type": "execute_result"
        }
      ],
      "source": [
        "np.zeros((2,2))"
      ]
    },
    {
      "cell_type": "code",
      "execution_count": null,
      "id": "48186c5b-1def-4cdb-99af-d1c65c191ddd",
      "metadata": {
        "id": "48186c5b-1def-4cdb-99af-d1c65c191ddd",
        "outputId": "78ffe2ad-9bcc-4403-862f-47fe72de1710"
      },
      "outputs": [
        {
          "data": {
            "text/plain": [
              "array([1., 1., 1., 1., 1., 1., 1., 1., 1., 1.])"
            ]
          },
          "execution_count": 38,
          "metadata": {},
          "output_type": "execute_result"
        }
      ],
      "source": [
        "np.ones(10)"
      ]
    },
    {
      "cell_type": "code",
      "execution_count": null,
      "id": "141d557b-071f-4a31-9dce-9b0328963e25",
      "metadata": {
        "id": "141d557b-071f-4a31-9dce-9b0328963e25",
        "outputId": "be6e1f17-2157-4154-c48f-3e181393615f"
      },
      "outputs": [
        {
          "data": {
            "text/plain": [
              "array([[1., 1.],\n",
              "       [1., 1.]])"
            ]
          },
          "execution_count": 39,
          "metadata": {},
          "output_type": "execute_result"
        }
      ],
      "source": [
        "np.ones((2,2))"
      ]
    },
    {
      "cell_type": "markdown",
      "id": "6e559b5b-3a42-43b0-a830-d0d0bd66b27c",
      "metadata": {
        "id": "6e559b5b-3a42-43b0-a830-d0d0bd66b27c"
      },
      "source": [
        "## NumPy 기초 문법 배우는 이유\n",
        "- 문과생 : 데이터분석가, 기초문법 있구나 ! 끝\n",
        "- 이공계 : 수치연산, 배열, 수식을 활용해서 문제 풀이\n",
        "    + 클래스, 딥러닝클래스, Numpy를 활용해서 딥러닝 알고리즘을 적용해서 클래스 & 라이브러리\n",
        "    + 밑바닥부터 시작하는 딥러닝3"
      ]
    },
    {
      "cell_type": "code",
      "execution_count": null,
      "id": "c6172238-b297-4766-a819-8a6849f7760f",
      "metadata": {
        "id": "c6172238-b297-4766-a819-8a6849f7760f",
        "outputId": "7fe70c0b-073f-4bfd-eb39-69840b52a488"
      },
      "outputs": [
        {
          "data": {
            "text/plain": [
              "array([[1., 0., 0.],\n",
              "       [0., 1., 0.],\n",
              "       [0., 0., 1.]])"
            ]
          },
          "execution_count": 41,
          "metadata": {},
          "output_type": "execute_result"
        }
      ],
      "source": [
        "# 단위행렬\n",
        "arr_I = np.eye(3)\n",
        "arr_I"
      ]
    },
    {
      "cell_type": "code",
      "execution_count": null,
      "id": "0f81d13f-21d5-465d-8aac-20408cfa1ef6",
      "metadata": {
        "id": "0f81d13f-21d5-465d-8aac-20408cfa1ef6",
        "outputId": "0e45a11e-4e0d-4a08-c4f3-7ab046e99b74"
      },
      "outputs": [
        {
          "data": {
            "text/plain": [
              "(3, 3)"
            ]
          },
          "execution_count": 42,
          "metadata": {},
          "output_type": "execute_result"
        }
      ],
      "source": [
        "arr_I.shape"
      ]
    },
    {
      "cell_type": "code",
      "execution_count": null,
      "id": "23779108-cb5f-4a13-9f51-41b207f65085",
      "metadata": {
        "id": "23779108-cb5f-4a13-9f51-41b207f65085",
        "outputId": "3aaa7fad-e890-4252-d703-a77a1e019b17"
      },
      "outputs": [
        {
          "data": {
            "text/plain": [
              "array(['1.5', '0.62'], dtype='<U4')"
            ]
          },
          "execution_count": 45,
          "metadata": {},
          "output_type": "execute_result"
        }
      ],
      "source": [
        "np.array(['1.5','0.62']) # U4 유니코드, 데이터 형변환"
      ]
    },
    {
      "cell_type": "markdown",
      "id": "957b33d9-0364-47b6-b4a6-75afb4f7fe48",
      "metadata": {
        "id": "957b33d9-0364-47b6-b4a6-75afb4f7fe48"
      },
      "source": [
        "## 데이터 형변환"
      ]
    },
    {
      "cell_type": "code",
      "execution_count": null,
      "id": "da3db798-1da2-4c20-b405-d85c699b0b77",
      "metadata": {
        "id": "da3db798-1da2-4c20-b405-d85c699b0b77",
        "outputId": "0b0b77c7-ab4c-4505-8715-546d0fbbc414"
      },
      "outputs": [
        {
          "data": {
            "text/plain": [
              "dtype('float64')"
            ]
          },
          "execution_count": 49,
          "metadata": {},
          "output_type": "execute_result"
        }
      ],
      "source": [
        "# astype() #판다스에도 사용\n",
        "arr = np.array(['1.5','0.62']) #문자로 들어갔을때\n",
        "num_arr = arr.astype(float)  #한꺼번에 처리할때 유용\n",
        "num_arr.dtype"
      ]
    },
    {
      "cell_type": "code",
      "execution_count": null,
      "id": "5a1a2f13-2976-41d8-bc26-a6c8490b8806",
      "metadata": {
        "id": "5a1a2f13-2976-41d8-bc26-a6c8490b8806",
        "outputId": "16ffb1c2-30aa-4abf-d0ed-0ee88aeae813"
      },
      "outputs": [
        {
          "data": {
            "text/plain": [
              "array([1.5 , 0.62])"
            ]
          },
          "execution_count": 50,
          "metadata": {},
          "output_type": "execute_result"
        }
      ],
      "source": [
        "np.array(['1.5','0.62'],dtype = float) #처음에 넣을때 이렇게 넣어주면 좋음"
      ]
    },
    {
      "cell_type": "code",
      "execution_count": null,
      "id": "dfaaafea-dc14-45c6-b3a1-3a3925d35761",
      "metadata": {
        "id": "dfaaafea-dc14-45c6-b3a1-3a3925d35761",
        "outputId": "73fffbbf-00da-4537-9203-7c6b4e16a590"
      },
      "outputs": [
        {
          "data": {
            "text/plain": [
              "array([10, 21,  0,  4,  5])"
            ]
          },
          "execution_count": 51,
          "metadata": {},
          "output_type": "execute_result"
        }
      ],
      "source": [
        "num_f1 = np.array([10,21,0.549,4.75,5.98])\n",
        "num_f1 = num_f1.astype(int)\n",
        "num_f1"
      ]
    },
    {
      "cell_type": "code",
      "execution_count": null,
      "id": "12b83d30-385f-49c6-987e-8c9173bdc30f",
      "metadata": {
        "id": "12b83d30-385f-49c6-987e-8c9173bdc30f",
        "outputId": "6d6bf7da-0666-4de9-e112-ed034ac57287"
      },
      "outputs": [
        {
          "data": {
            "text/plain": [
              "array([10.   , 21.   ,  0.549,  4.75 ,  5.98 ])"
            ]
          },
          "execution_count": 52,
          "metadata": {},
          "output_type": "execute_result"
        }
      ],
      "source": [
        "num_f1 = np.array([10,21,0.549,4.75,5.98])\n",
        "num_f1 = num_f1.astype(float)\n",
        "num_f1"
      ]
    },
    {
      "cell_type": "code",
      "execution_count": null,
      "id": "4eb09f19-6c60-4c9b-a6b8-21cae32007b6",
      "metadata": {
        "id": "4eb09f19-6c60-4c9b-a6b8-21cae32007b6",
        "outputId": "260dc73b-45db-47c4-a12b-3b7a86e1e28b"
      },
      "outputs": [
        {
          "data": {
            "text/plain": [
              "array([[0.32115698, 0.93642616, 0.07870425],\n",
              "       [0.85189278, 0.15882247, 0.33017485]])"
            ]
          },
          "execution_count": 58,
          "metadata": {},
          "output_type": "execute_result"
        }
      ],
      "source": [
        "# p .224\n",
        "#난수 = 무작위로 숫자를 추출\n",
        "\n",
        "np.random.rand(2,3)#()배열의 크기 #0~1사이의 실수 난수를 갖음\n"
      ]
    },
    {
      "cell_type": "code",
      "execution_count": null,
      "id": "4c22ebef-041a-4880-8622-cd9fb11e6d79",
      "metadata": {
        "id": "4c22ebef-041a-4880-8622-cd9fb11e6d79",
        "outputId": "5b9e095d-980e-467f-cc14-709a4a5918d3"
      },
      "outputs": [
        {
          "data": {
            "text/plain": [
              "3"
            ]
          },
          "execution_count": 59,
          "metadata": {},
          "output_type": "execute_result"
        }
      ],
      "source": [
        "np.random.randint(2,10) #범위를 줌"
      ]
    },
    {
      "cell_type": "code",
      "execution_count": null,
      "id": "55bbd6fd-0318-41d1-aa55-14eac4d51381",
      "metadata": {
        "id": "55bbd6fd-0318-41d1-aa55-14eac4d51381",
        "outputId": "6dde7804-0585-472d-cad6-9230e96c5780"
      },
      "outputs": [
        {
          "data": {
            "text/plain": [
              "array([24, 90, 24, 38, 14, 39, 83, 48, 43, 94])"
            ]
          },
          "execution_count": 60,
          "metadata": {},
          "output_type": "execute_result"
        }
      ],
      "source": [
        "np.random.randint(1,100, 10)"
      ]
    },
    {
      "cell_type": "markdown",
      "id": "2c27aeca-6fea-4a10-83d9-17bfc48adaf5",
      "metadata": {
        "id": "2c27aeca-6fea-4a10-83d9-17bfc48adaf5"
      },
      "source": [
        "## 로또번호 뽑기"
      ]
    },
    {
      "cell_type": "code",
      "execution_count": null,
      "id": "b334cd0a-5f63-42ad-9a08-b3ee1967771a",
      "metadata": {
        "id": "b334cd0a-5f63-42ad-9a08-b3ee1967771a"
      },
      "outputs": [],
      "source": [
        "def lotto(n):  # n개를 받아드릴 함수\n",
        "    numbers = []  # 로또 번호를 담아줄 빈 리스트 생성\n",
        "\n",
        "    while len(numbers) < n:  # 횟수 n번을 반복해 줄 반복문\n",
        "        num = np.random.randint(1, 45) # 랜덤한 숫자 뽑기\n",
        "        if num not in numbers:  # 중복되는 숫자가 있는지 체크\n",
        "            numbers.append(num) #없다면 리스트에 추가\n",
        "\n",
        "    return numbers #반복구문을 완료한 리스트를 리턴\n",
        ""
      ]
    },
    {
      "cell_type": "code",
      "execution_count": null,
      "id": "f273a3e7-b25f-4dd8-b4b3-aabf1dc7e667",
      "metadata": {
        "id": "f273a3e7-b25f-4dd8-b4b3-aabf1dc7e667",
        "outputId": "eb585ca8-a6d8-4563-d116-f72eadc8d267"
      },
      "outputs": [
        {
          "name": "stdout",
          "output_type": "stream",
          "text": [
            "[1, 25, 30, 41, 21, 8, 34]\n"
          ]
        }
      ],
      "source": [
        "print(lotto(7))"
      ]
    },
    {
      "cell_type": "code",
      "execution_count": null,
      "id": "15241859-19a2-46cd-9b3c-47b5d0451255",
      "metadata": {
        "id": "15241859-19a2-46cd-9b3c-47b5d0451255",
        "outputId": "5b9bfaa3-7e49-466e-b6ba-bf4fb6ebc3c1"
      },
      "outputs": [
        {
          "name": "stdout",
          "output_type": "stream",
          "text": [
            "이번 주 로또 당첨번호는 [ 7 16 25 40 43 45] + 보너스번호 22\n",
            "이번 주 로또 당첨번호는 7 16 25 40 43 45 + 보너스번호  22\n"
          ]
        }
      ],
      "source": [
        "#황유진\n",
        "# 로또 번호 추첨기 만들어보기\n",
        "\n",
        "# 조건1: 보너스숫자와 로또 메인 번호는 겹치지 않아야\n",
        "# 조건2: 로또번호 내에서도 겹치는 숫자 없어야\n",
        "# 조건3: 로또 번호(보너스 제외)는 오름차순으로 정렬되어야\n",
        "\n",
        "lotto = np.random.randint(1, 46, size=(6, ))\n",
        "bonus = np.random.randint(1, 46)\n",
        "lotto = np.sort(lotto)   # 조건3\n",
        "\n",
        "# way1\n",
        "if bonus not in lotto:\n",
        "    if np.unique(lotto).size == len(lotto):   # 2, 3, 3, 6, 10, 22 고유값 2, 3, 6, 10, 22\n",
        "        print(f'이번 주 로또 당첨번호는 {lotto} + 보너스번호 {bonus}')\n",
        "\n",
        "# way2\n",
        "if bonus not in lotto:\n",
        "    if np.unique(lotto).size == len(lotto):\n",
        "        print(f'이번 주 로또 당첨번호는', end=' ')\n",
        "        for i in range(6):\n",
        "            print(lotto[i], end=' ')\n",
        "            if i == 5:\n",
        "                print(f'+ 보너스번호 ', bonus)"
      ]
    },
    {
      "cell_type": "code",
      "execution_count": null,
      "id": "9451dc3f-b640-40a5-a208-42f3a39dc86f",
      "metadata": {
        "id": "9451dc3f-b640-40a5-a208-42f3a39dc86f",
        "outputId": "cb60714d-0a83-46f8-f755-04094461b046"
      },
      "outputs": [
        {
          "name": "stdout",
          "output_type": "stream",
          "text": [
            "로또 번호:  [ 7 11 13 14 32 44]\n"
          ]
        }
      ],
      "source": [
        "#임예원(GPT)\n",
        "def generate_lotto_numbers():\n",
        "    # 1부터 45까지의 숫자 중에서 6개를 무작위로 선택\n",
        "    lotto_numbers = np.random.choice(range(1, 46), size=6, replace=False)\n",
        "\n",
        "    # 선택된 숫자들을 정렬\n",
        "    lotto_numbers.sort()\n",
        "\n",
        "    return lotto_numbers\n",
        "\n",
        "if __name__ == \"__main__\":\n",
        "    # 로또 번호 생성 및 출력\n",
        "    lotto_result = generate_lotto_numbers()\n",
        "    print(\"로또 번호: \", lotto_result)"
      ]
    },
    {
      "cell_type": "markdown",
      "id": "32c0e181-0056-42fe-83d2-e21c95f4f707",
      "metadata": {
        "id": "32c0e181-0056-42fe-83d2-e21c95f4f707"
      },
      "source": [
        "## 배열의 연산\n",
        "- p.225"
      ]
    },
    {
      "cell_type": "code",
      "execution_count": null,
      "id": "81d750d0-58fb-4d27-a968-76d72379ff9b",
      "metadata": {
        "id": "81d750d0-58fb-4d27-a968-76d72379ff9b",
        "outputId": "5fa7bff4-26ab-45b0-b4d5-7a86b7d2b342"
      },
      "outputs": [
        {
          "name": "stdout",
          "output_type": "stream",
          "text": [
            "[11 22 33 44]\n",
            "[ 9 18 27 36]\n",
            "[ 10  40  90 160]\n",
            "[10. 10. 10. 10.]\n"
          ]
        }
      ],
      "source": [
        "arr1 = np.array([10, 20, 30, 40])\n",
        "arr2 = np.array([1, 2, 3, 4])\n",
        "\n",
        "print(arr1 + arr2)\n",
        "print(arr1 - arr2)\n",
        "print(arr1 * arr2)\n",
        "print(arr1 / arr2)"
      ]
    },
    {
      "cell_type": "markdown",
      "id": "e026a5be-18d4-47f2-8cfc-124dfef644a8",
      "metadata": {
        "id": "e026a5be-18d4-47f2-8cfc-124dfef644a8"
      },
      "source": [
        "## 비교연산"
      ]
    },
    {
      "cell_type": "code",
      "execution_count": null,
      "id": "cd13503a-11b5-4d4d-bff2-03cd81c4d550",
      "metadata": {
        "id": "cd13503a-11b5-4d4d-bff2-03cd81c4d550",
        "outputId": "c0e9196b-9808-441e-9194-c87e879b9c7f"
      },
      "outputs": [
        {
          "data": {
            "text/plain": [
              "array([False, False,  True,  True])"
            ]
          },
          "execution_count": 90,
          "metadata": {},
          "output_type": "execute_result"
        }
      ],
      "source": [
        "arr1 > 20"
      ]
    },
    {
      "cell_type": "markdown",
      "id": "3acb923b-f667-457f-ad35-a5fab48bf971",
      "metadata": {
        "id": "3acb923b-f667-457f-ad35-a5fab48bf971"
      },
      "source": [
        "## 통계연산\n",
        "- NumPy, 합, 편균, 표준편차, 분산, 최솟값, 최댓값, 누적합, 누적 곱 메서드가 존재한다.\n",
        "      -기술통계량 (Descriptive Statistics) : 현재 데이터 상태를 표현(=묘사)한다.\n",
        "- 통계 : 평균이 전부다!"
      ]
    },
    {
      "cell_type": "code",
      "execution_count": null,
      "id": "708d203a-93b3-4cbb-93de-cd27d4240db7",
      "metadata": {
        "id": "708d203a-93b3-4cbb-93de-cd27d4240db7",
        "outputId": "e8ffe457-8268-4b74-b415-69dd890eaf20"
      },
      "outputs": [
        {
          "data": {
            "text/plain": [
              "array([0, 1, 2, 3, 4])"
            ]
          },
          "execution_count": 91,
          "metadata": {},
          "output_type": "execute_result"
        }
      ],
      "source": [
        "arr3 =np.arange(5)\n",
        "arr3"
      ]
    },
    {
      "cell_type": "code",
      "execution_count": null,
      "id": "aba09e6d-536e-46aa-a0a5-40c59542caeb",
      "metadata": {
        "id": "aba09e6d-536e-46aa-a0a5-40c59542caeb",
        "outputId": "6983222d-ee6b-4453-bd3d-5c5d5e83d915"
      },
      "outputs": [
        {
          "data": {
            "text/plain": [
              "10"
            ]
          },
          "execution_count": 94,
          "metadata": {},
          "output_type": "execute_result"
        }
      ],
      "source": [
        "arr3.sum()  #전체합"
      ]
    },
    {
      "cell_type": "code",
      "execution_count": null,
      "id": "bad45a5f-55bc-45ce-a36d-781b78fdb33e",
      "metadata": {
        "id": "bad45a5f-55bc-45ce-a36d-781b78fdb33e",
        "outputId": "1c705111-f8f1-4fc1-b087-6a9266b7ce50"
      },
      "outputs": [
        {
          "data": {
            "text/plain": [
              "2.0"
            ]
          },
          "execution_count": 95,
          "metadata": {},
          "output_type": "execute_result"
        }
      ],
      "source": [
        "arr3.mean()  #평균"
      ]
    },
    {
      "cell_type": "code",
      "execution_count": null,
      "id": "ea1213f3-4fdc-45af-a432-34fc75ed23ce",
      "metadata": {
        "id": "ea1213f3-4fdc-45af-a432-34fc75ed23ce",
        "outputId": "36d03036-acb5-4dc5-9e50-61d8232375a0"
      },
      "outputs": [
        {
          "data": {
            "text/plain": [
              "1.4142135623730951"
            ]
          },
          "execution_count": 98,
          "metadata": {},
          "output_type": "execute_result"
        }
      ],
      "source": [
        "arr3.std() #표준편차   루트분산"
      ]
    },
    {
      "cell_type": "code",
      "execution_count": null,
      "id": "45f22474-41b4-465f-adb0-efd176b4083a",
      "metadata": {
        "id": "45f22474-41b4-465f-adb0-efd176b4083a",
        "outputId": "28eeffd5-8b2f-430a-c7fb-a5a53c3ec6c8"
      },
      "outputs": [
        {
          "data": {
            "text/plain": [
              "2.0"
            ]
          },
          "execution_count": 99,
          "metadata": {},
          "output_type": "execute_result"
        }
      ],
      "source": [
        "arr3.var() #분산(평균 - 각값 의 제곱의 평균)"
      ]
    },
    {
      "cell_type": "markdown",
      "id": "ae6c7807-418a-44ca-89e8-f8645ce4cadb",
      "metadata": {
        "id": "ae6c7807-418a-44ca-89e8-f8645ce4cadb"
      },
      "source": [
        "## 누적합과 누적곱\n",
        "- cumsum() : 누적합\n",
        "- cumprod() : 누적곱"
      ]
    },
    {
      "cell_type": "code",
      "execution_count": null,
      "id": "95e7069d-9852-4ab6-a72c-d4d1f15cd2e1",
      "metadata": {
        "id": "95e7069d-9852-4ab6-a72c-d4d1f15cd2e1",
        "outputId": "d4ec53fd-bd82-458f-df63-ec70f2dd46b1"
      },
      "outputs": [
        {
          "data": {
            "text/plain": [
              "array([1, 2, 3, 4])"
            ]
          },
          "execution_count": 100,
          "metadata": {},
          "output_type": "execute_result"
        }
      ],
      "source": [
        "arr4 = np.arange(1, 5)\n",
        "arr4"
      ]
    },
    {
      "cell_type": "code",
      "execution_count": null,
      "id": "b49ec733-f832-4db3-a232-78bf73a19a04",
      "metadata": {
        "id": "b49ec733-f832-4db3-a232-78bf73a19a04",
        "outputId": "c6da0432-2534-4f25-e559-6f63f6b40cc0"
      },
      "outputs": [
        {
          "data": {
            "text/plain": [
              "array([ 1,  3,  6, 10])"
            ]
          },
          "execution_count": 102,
          "metadata": {},
          "output_type": "execute_result"
        }
      ],
      "source": [
        "arr4.cumsum()"
      ]
    },
    {
      "cell_type": "code",
      "execution_count": null,
      "id": "8f47e34e-6d6e-4e3b-89eb-a47dc44e192d",
      "metadata": {
        "id": "8f47e34e-6d6e-4e3b-89eb-a47dc44e192d",
        "outputId": "3a4e3ec4-d02c-4f7d-b27a-9c2e8c0bacba"
      },
      "outputs": [
        {
          "data": {
            "text/plain": [
              "array([ 1,  2,  6, 24])"
            ]
          },
          "execution_count": 104,
          "metadata": {},
          "output_type": "execute_result"
        }
      ],
      "source": [
        "arr4.cumprod()"
      ]
    },
    {
      "cell_type": "markdown",
      "id": "7036870d-fc55-4257-bed0-3b1198868ad7",
      "metadata": {
        "id": "7036870d-fc55-4257-bed0-3b1198868ad7"
      },
      "source": [
        "## 행렬연산\n",
        "- 선형대수 (linear algebra)를 위한 2차원 배열 연산도 지원\n",
        "- p.229 행렬곱, 전치행렬, 역행렬, 행렬식 사용 예시\n"
      ]
    },
    {
      "cell_type": "code",
      "execution_count": null,
      "id": "3f2cd315-fa52-4244-a886-37e35c32fbbe",
      "metadata": {
        "id": "3f2cd315-fa52-4244-a886-37e35c32fbbe",
        "outputId": "1dfecea6-74ff-493a-d48c-9806d51d9d97"
      },
      "outputs": [
        {
          "data": {
            "text/plain": [
              "array([[0, 1],\n",
              "       [2, 3]])"
            ]
          },
          "execution_count": 106,
          "metadata": {},
          "output_type": "execute_result"
        }
      ],
      "source": [
        "A = np.array([0,1,2,3]).reshape(2,2)\n",
        "A"
      ]
    },
    {
      "cell_type": "code",
      "execution_count": null,
      "id": "35e79202-97ea-4561-ac92-8785502ad5b1",
      "metadata": {
        "id": "35e79202-97ea-4561-ac92-8785502ad5b1",
        "outputId": "0d457f6d-70b2-4ff1-ca90-184b41da5425"
      },
      "outputs": [
        {
          "data": {
            "text/plain": [
              "array([[3, 2],\n",
              "       [0, 1]])"
            ]
          },
          "execution_count": 107,
          "metadata": {},
          "output_type": "execute_result"
        }
      ],
      "source": [
        "B = np.array([3,2,0,1]).reshape(2,2)\n",
        "B"
      ]
    },
    {
      "cell_type": "code",
      "execution_count": null,
      "id": "7812a65e-7dda-404e-8cd6-d8f9fd76ee0b",
      "metadata": {
        "id": "7812a65e-7dda-404e-8cd6-d8f9fd76ee0b",
        "outputId": "0a593b32-d1d2-41cb-fe18-b2c4f11b92b0"
      },
      "outputs": [
        {
          "data": {
            "text/plain": [
              "array([[0, 1],\n",
              "       [6, 7]])"
            ]
          },
          "execution_count": 109,
          "metadata": {},
          "output_type": "execute_result"
        }
      ],
      "source": [
        "A.dot(B)"
      ]
    },
    {
      "cell_type": "code",
      "execution_count": null,
      "id": "9bae00b6-4003-404c-b28a-b587b85f1cfe",
      "metadata": {
        "id": "9bae00b6-4003-404c-b28a-b587b85f1cfe",
        "outputId": "7b8d7d54-eba1-4de5-8362-3ff3f25d6a72"
      },
      "outputs": [
        {
          "data": {
            "text/plain": [
              "array([[0, 2],\n",
              "       [1, 3]])"
            ]
          },
          "execution_count": 112,
          "metadata": {},
          "output_type": "execute_result"
        }
      ],
      "source": [
        "A.transpose() #전치행렬"
      ]
    },
    {
      "cell_type": "markdown",
      "id": "ee008424-f18a-4776-adcb-a5b5258b6da5",
      "metadata": {
        "id": "ee008424-f18a-4776-adcb-a5b5258b6da5"
      },
      "source": [
        "## 배열의 인덱싱과 슬라이싱\n",
        "- string, list,tuple과 동일한 방법으로 접근"
      ]
    },
    {
      "cell_type": "code",
      "execution_count": null,
      "id": "ecbfc79f-8387-4640-bfe6-96a6e1eb476c",
      "metadata": {
        "id": "ecbfc79f-8387-4640-bfe6-96a6e1eb476c"
      },
      "outputs": [],
      "source": [
        "a1 = np.array([0, 10, 20, 30, 40, 50])"
      ]
    },
    {
      "cell_type": "code",
      "execution_count": null,
      "id": "8f6e7629-5312-481b-b387-8cc235776725",
      "metadata": {
        "id": "8f6e7629-5312-481b-b387-8cc235776725",
        "outputId": "04b3c663-379a-49a9-a31b-e61be528317e"
      },
      "outputs": [
        {
          "data": {
            "text/plain": [
              "array([ 0, 10, 20, 30, 40, 50])"
            ]
          },
          "execution_count": 114,
          "metadata": {},
          "output_type": "execute_result"
        }
      ],
      "source": [
        "a1"
      ]
    },
    {
      "cell_type": "code",
      "execution_count": null,
      "id": "dae8547b-ec64-4dfc-bcb7-2b069333c6d9",
      "metadata": {
        "id": "dae8547b-ec64-4dfc-bcb7-2b069333c6d9",
        "outputId": "9e6e9905-722a-4f80-8981-f73da3597990"
      },
      "outputs": [
        {
          "data": {
            "text/plain": [
              "40"
            ]
          },
          "execution_count": 116,
          "metadata": {},
          "output_type": "execute_result"
        }
      ],
      "source": [
        "a1[4] #인덱싱으로 불러옴"
      ]
    },
    {
      "cell_type": "code",
      "execution_count": null,
      "id": "7592c48e-0c19-4815-8ad2-871a3d4e654c",
      "metadata": {
        "id": "7592c48e-0c19-4815-8ad2-871a3d4e654c",
        "outputId": "2bd920c6-f4cb-4b86-ef94-cbd4d26ba9de"
      },
      "outputs": [
        {
          "data": {
            "text/plain": [
              "array([ 0, 10, 20, 30, 40, 70])"
            ]
          },
          "execution_count": 117,
          "metadata": {},
          "output_type": "execute_result"
        }
      ],
      "source": [
        "#50 을 70으로 변경\n",
        "a1[5] = 70\n",
        "a1"
      ]
    },
    {
      "cell_type": "code",
      "execution_count": null,
      "id": "1361726e-4744-4d22-8725-ba2ce5b0bfdf",
      "metadata": {
        "id": "1361726e-4744-4d22-8725-ba2ce5b0bfdf",
        "outputId": "3c04babb-efee-4293-ee60-34fb090fe822"
      },
      "outputs": [
        {
          "data": {
            "text/plain": [
              "array([ 0, 20, 40])"
            ]
          },
          "execution_count": 119,
          "metadata": {},
          "output_type": "execute_result"
        }
      ],
      "source": [
        "#리스트 통해서 추출\n",
        "a1 [[0,2,4]] #인덱스 번호"
      ]
    },
    {
      "cell_type": "code",
      "execution_count": null,
      "id": "ce025b30-53ad-46cc-9ae6-e50963a61e8b",
      "metadata": {
        "id": "ce025b30-53ad-46cc-9ae6-e50963a61e8b",
        "outputId": "bcd84c6b-063d-408a-f58f-0643fbd2551c"
      },
      "outputs": [
        {
          "data": {
            "text/plain": [
              "array([ 0, 10, 20])"
            ]
          },
          "execution_count": 120,
          "metadata": {},
          "output_type": "execute_result"
        }
      ],
      "source": [
        "a1[:3]"
      ]
    },
    {
      "cell_type": "markdown",
      "id": "021638a6-3839-42b7-a529-3352bf29e508",
      "metadata": {
        "id": "021638a6-3839-42b7-a529-3352bf29e508"
      },
      "source": [
        "## 이차원 배열 인덱싱 슬라이싱"
      ]
    },
    {
      "cell_type": "code",
      "execution_count": null,
      "id": "e91bee3f-af93-4b88-bcc4-b6898bcac3d4",
      "metadata": {
        "id": "e91bee3f-af93-4b88-bcc4-b6898bcac3d4",
        "outputId": "70d9ab2a-f25b-4404-a3c7-e4ea73454a2f"
      },
      "outputs": [
        {
          "data": {
            "text/plain": [
              "array([[10, 20, 30],\n",
              "       [40, 50, 60],\n",
              "       [70, 80, 90]])"
            ]
          },
          "execution_count": 121,
          "metadata": {},
          "output_type": "execute_result"
        }
      ],
      "source": [
        "a2 = np.arange(10,100,10).reshape(3,3)\n",
        "a2"
      ]
    },
    {
      "cell_type": "code",
      "execution_count": null,
      "id": "685eb176-4d83-4dbc-8bcb-dd62092dc887",
      "metadata": {
        "id": "685eb176-4d83-4dbc-8bcb-dd62092dc887",
        "outputId": "7b8cc52e-eb18-4100-aeaa-d4edae10708c"
      },
      "outputs": [
        {
          "data": {
            "text/plain": [
              "80"
            ]
          },
          "execution_count": 124,
          "metadata": {},
          "output_type": "execute_result"
        }
      ],
      "source": [
        "a2[2,1] #중요함"
      ]
    },
    {
      "cell_type": "code",
      "execution_count": null,
      "id": "34d2b6c4-d533-4ef5-ad52-207ac0db6afb",
      "metadata": {
        "id": "34d2b6c4-d533-4ef5-ad52-207ac0db6afb"
      },
      "outputs": [],
      "source": [
        "a2[2,2] = 95"
      ]
    },
    {
      "cell_type": "code",
      "execution_count": null,
      "id": "ea82de94-4542-49dd-8a59-71ffca6fa912",
      "metadata": {
        "id": "ea82de94-4542-49dd-8a59-71ffca6fa912",
        "outputId": "fbeefe3f-f406-4cf0-938f-6541d337aabb"
      },
      "outputs": [
        {
          "data": {
            "text/plain": [
              "array([[10, 20, 30],\n",
              "       [40, 50, 60],\n",
              "       [70, 80, 95]])"
            ]
          },
          "execution_count": 126,
          "metadata": {},
          "output_type": "execute_result"
        }
      ],
      "source": [
        "a2"
      ]
    },
    {
      "cell_type": "code",
      "execution_count": null,
      "id": "c5babfce-4688-4ab5-a9ea-665a822cafb4",
      "metadata": {
        "id": "c5babfce-4688-4ab5-a9ea-665a822cafb4",
        "outputId": "9d2be981-aa38-4009-84ef-e156eb6b51ce"
      },
      "outputs": [
        {
          "data": {
            "text/plain": [
              "array([[30, 20, 10],\n",
              "       [40, 50, 60],\n",
              "       [70, 80, 95]])"
            ]
          },
          "execution_count": 127,
          "metadata": {},
          "output_type": "execute_result"
        }
      ],
      "source": [
        "a2[0] = [30,20,10]\n",
        "a2"
      ]
    },
    {
      "cell_type": "code",
      "execution_count": null,
      "id": "34a0fe60-8ad9-4a7d-9c0a-bdb611e8bdaf",
      "metadata": {
        "id": "34a0fe60-8ad9-4a7d-9c0a-bdb611e8bdaf"
      },
      "outputs": [],
      "source": [
        "a2[0] = np.array([30, 20, 10])  #정석"
      ]
    },
    {
      "cell_type": "code",
      "execution_count": null,
      "id": "23cdf5f9-3f96-4cf5-baf8-efe944099f6d",
      "metadata": {
        "id": "23cdf5f9-3f96-4cf5-baf8-efe944099f6d",
        "outputId": "dd2678cb-04dd-489e-c197-2898f8051802"
      },
      "outputs": [
        {
          "data": {
            "text/plain": [
              "array([[30, 20, 10],\n",
              "       [40, 50, 60],\n",
              "       [70, 80, 95]])"
            ]
          },
          "execution_count": 130,
          "metadata": {},
          "output_type": "execute_result"
        }
      ],
      "source": [
        "a2"
      ]
    },
    {
      "cell_type": "code",
      "execution_count": null,
      "id": "87ca52d3-4937-4c18-b77b-27e0257b3e90",
      "metadata": {
        "id": "87ca52d3-4937-4c18-b77b-27e0257b3e90",
        "outputId": "73f42ffa-33e8-4373-a8d6-c3a28fe8a8a6"
      },
      "outputs": [
        {
          "ename": "ValueError",
          "evalue": "could not broadcast input array from shape (4,) into shape (3,)",
          "output_type": "error",
          "traceback": [
            "\u001b[0;31m---------------------------------------------------------------------------\u001b[0m",
            "\u001b[0;31mValueError\u001b[0m                                Traceback (most recent call last)",
            "Cell \u001b[0;32mIn[131], line 1\u001b[0m\n\u001b[0;32m----> 1\u001b[0m a2[\u001b[38;5;241m0\u001b[39m] \u001b[38;5;241m=\u001b[39m np\u001b[38;5;241m.\u001b[39marray([\u001b[38;5;241m30\u001b[39m, \u001b[38;5;241m20\u001b[39m, \u001b[38;5;241m10\u001b[39m, \u001b[38;5;241m1\u001b[39m])\n",
            "\u001b[0;31mValueError\u001b[0m: could not broadcast input array from shape (4,) into shape (3,)"
          ]
        }
      ],
      "source": [
        "a2[0] = np.array([30, 20, 10, 1]) #에러 확인용"
      ]
    },
    {
      "cell_type": "markdown",
      "id": "0d8be263-8976-48e1-80d2-9cef5e1e04bc",
      "metadata": {
        "id": "0d8be263-8976-48e1-80d2-9cef5e1e04bc"
      },
      "source": [
        "- 2차원 배열의 행과 열 위치 지정해거 원소 추출\n",
        "      + (행의 위치1, 열의 위치1)/행의 위치2, 열의 위치2"
      ]
    },
    {
      "cell_type": "code",
      "execution_count": null,
      "id": "a076514e-77cf-4fd1-983b-b1f09f1e76c1",
      "metadata": {
        "id": "a076514e-77cf-4fd1-983b-b1f09f1e76c1",
        "outputId": "36e0983c-b980-4671-ad3e-832eee74a77c"
      },
      "outputs": [
        {
          "data": {
            "text/plain": [
              "array([30, 80])"
            ]
          },
          "execution_count": 132,
          "metadata": {},
          "output_type": "execute_result"
        }
      ],
      "source": [
        "a2[[0,2],[0,1]]     #[0,0], [2,1]로 이해 해야함"
      ]
    },
    {
      "cell_type": "code",
      "execution_count": null,
      "id": "35461a98-e553-4203-a17d-e3f0e045ac28",
      "metadata": {
        "id": "35461a98-e553-4203-a17d-e3f0e045ac28",
        "outputId": "7c0a817d-8d39-438c-e41d-e487554412a4"
      },
      "outputs": [
        {
          "data": {
            "text/plain": [
              "array([[30, 20, 10],\n",
              "       [40, 50, 60],\n",
              "       [70, 80, 95]])"
            ]
          },
          "execution_count": 133,
          "metadata": {},
          "output_type": "execute_result"
        }
      ],
      "source": [
        "a2"
      ]
    },
    {
      "cell_type": "markdown",
      "id": "23a86779-0d78-420a-9bc6-f98fa7d10fd4",
      "metadata": {
        "id": "23a86779-0d78-420a-9bc6-f98fa7d10fd4"
      },
      "source": [
        "## 배열의 조건문\n",
        "-pandas 문법과 유사"
      ]
    },
    {
      "cell_type": "code",
      "execution_count": null,
      "id": "4a2ba64c-6603-4144-96a8-22966b79835b",
      "metadata": {
        "id": "4a2ba64c-6603-4144-96a8-22966b79835b",
        "outputId": "29c9c12f-cd2e-4531-deb4-05867ad5b623"
      },
      "outputs": [
        {
          "data": {
            "text/plain": [
              "array([1, 2, 3, 4, 5, 6])"
            ]
          },
          "execution_count": 134,
          "metadata": {},
          "output_type": "execute_result"
        }
      ],
      "source": [
        "a = np.array([1,2,3,4,5,6])\n",
        "a"
      ]
    },
    {
      "cell_type": "code",
      "execution_count": null,
      "id": "1c995f00-b3eb-49d2-895d-b43ce2f991cb",
      "metadata": {
        "id": "1c995f00-b3eb-49d2-895d-b43ce2f991cb",
        "outputId": "58792c28-9484-4c89-a64c-912884dd10bb"
      },
      "outputs": [
        {
          "data": {
            "text/plain": [
              "[array([False, False, False,  True,  True,  True])]"
            ]
          },
          "execution_count": 136,
          "metadata": {},
          "output_type": "execute_result"
        }
      ],
      "source": [
        "[a>3]"
      ]
    },
    {
      "cell_type": "code",
      "execution_count": null,
      "id": "98a3eefd-c22f-4f1b-8df9-192c3cd2ca76",
      "metadata": {
        "id": "98a3eefd-c22f-4f1b-8df9-192c3cd2ca76",
        "outputId": "0bbfdcc6-1565-45f7-9eb8-e9581560d8e3"
      },
      "outputs": [
        {
          "data": {
            "text/plain": [
              "array([1, 2, 4, 5, 6])"
            ]
          },
          "execution_count": 140,
          "metadata": {},
          "output_type": "execute_result"
        }
      ],
      "source": [
        "a[a!=3] #불린을 통한 트루 값을 가져온다"
      ]
    },
    {
      "cell_type": "markdown",
      "id": "5ff8d817-cca7-4675-b977-a820e5548194",
      "metadata": {
        "id": "5ff8d817-cca7-4675-b977-a820e5548194"
      },
      "source": [
        "## 배열의 슬라이싱 p.234"
      ]
    },
    {
      "cell_type": "code",
      "execution_count": null,
      "id": "c9b06412-5545-4321-850f-89f2b2bcb865",
      "metadata": {
        "id": "c9b06412-5545-4321-850f-89f2b2bcb865",
        "outputId": "35e913f8-efd1-465a-d0b5-3de998a7b0b3"
      },
      "outputs": [
        {
          "data": {
            "text/plain": [
              "array([1, 2, 3])"
            ]
          },
          "execution_count": 141,
          "metadata": {},
          "output_type": "execute_result"
        }
      ],
      "source": [
        "b1 = np.array([0,1,2,3,4,5])\n",
        "b1[1:4]"
      ]
    },
    {
      "cell_type": "code",
      "execution_count": null,
      "id": "c7b5bf81-de49-420f-9b94-ad686ae9e9b2",
      "metadata": {
        "id": "c7b5bf81-de49-420f-9b94-ad686ae9e9b2",
        "outputId": "8e362adb-dfa7-4b63-fcf2-1c48dff45cd0"
      },
      "outputs": [
        {
          "data": {
            "text/plain": [
              "array([0, 1, 2])"
            ]
          },
          "execution_count": 142,
          "metadata": {},
          "output_type": "execute_result"
        }
      ],
      "source": [
        "b1[:3]"
      ]
    },
    {
      "cell_type": "code",
      "execution_count": null,
      "id": "247c01e6-0e10-4ca9-a9c5-892fd75b91da",
      "metadata": {
        "id": "247c01e6-0e10-4ca9-a9c5-892fd75b91da",
        "outputId": "c72649f7-5484-4d2b-adcd-c47813115b62"
      },
      "outputs": [
        {
          "data": {
            "text/plain": [
              "array([0, 2])"
            ]
          },
          "execution_count": 143,
          "metadata": {},
          "output_type": "execute_result"
        }
      ],
      "source": [
        "b1[0:4:2]"
      ]
    },
    {
      "cell_type": "code",
      "execution_count": null,
      "id": "64c510cf-8bc9-4675-81f5-8571412dc0e0",
      "metadata": {
        "id": "64c510cf-8bc9-4675-81f5-8571412dc0e0"
      },
      "outputs": [],
      "source": [
        "#p.235"
      ]
    },
    {
      "cell_type": "code",
      "execution_count": null,
      "id": "6bac0295-8ac1-43ab-8405-d8142b14afbb",
      "metadata": {
        "id": "6bac0295-8ac1-43ab-8405-d8142b14afbb"
      },
      "outputs": [],
      "source": [
        "b1[2:5] = np.array([25,35,45])"
      ]
    },
    {
      "cell_type": "code",
      "execution_count": null,
      "id": "0e10d5db-bc38-45ed-abef-5846d4015f14",
      "metadata": {
        "id": "0e10d5db-bc38-45ed-abef-5846d4015f14",
        "outputId": "9da0a5e9-25ee-4dc6-c8db-89e40d56f9e6"
      },
      "outputs": [
        {
          "data": {
            "text/plain": [
              "array([ 0,  1, 25, 35, 45,  5])"
            ]
          },
          "execution_count": 146,
          "metadata": {},
          "output_type": "execute_result"
        }
      ],
      "source": [
        "b1"
      ]
    },
    {
      "cell_type": "code",
      "execution_count": null,
      "id": "a71a46e4-4d86-4c44-accd-935f292839fc",
      "metadata": {
        "id": "a71a46e4-4d86-4c44-accd-935f292839fc",
        "outputId": "804423e5-f71d-46df-992b-547ffaf4737e"
      },
      "outputs": [
        {
          "data": {
            "text/plain": [
              "array([ 0,  1, 25, 60, 60, 60])"
            ]
          },
          "execution_count": 150,
          "metadata": {},
          "output_type": "execute_result"
        }
      ],
      "source": [
        "b1[3:6] = 60\n",
        "b1"
      ]
    },
    {
      "cell_type": "code",
      "execution_count": null,
      "id": "c00242f9-bbb8-44d5-8d2b-d500a53ed6cd",
      "metadata": {
        "id": "c00242f9-bbb8-44d5-8d2b-d500a53ed6cd",
        "outputId": "7957f9cb-591d-4fb1-a7de-d97ad6325627"
      },
      "outputs": [
        {
          "data": {
            "text/plain": [
              "array([[10, 20, 30],\n",
              "       [40, 50, 60],\n",
              "       [70, 80, 90]])"
            ]
          },
          "execution_count": 151,
          "metadata": {},
          "output_type": "execute_result"
        }
      ],
      "source": [
        "b2 = np.arange(10,100,10).reshape(3,3)\n",
        "b2"
      ]
    },
    {
      "cell_type": "code",
      "execution_count": null,
      "id": "8b244e75-d80d-4c80-b01d-402a09ca8900",
      "metadata": {
        "id": "8b244e75-d80d-4c80-b01d-402a09ca8900",
        "outputId": "8e8c416b-9aa9-42e5-e332-0593075357d5"
      },
      "outputs": [
        {
          "data": {
            "text/plain": [
              "array([[50, 60],\n",
              "       [80, 90]])"
            ]
          },
          "execution_count": 161,
          "metadata": {},
          "output_type": "execute_result"
        }
      ],
      "source": [
        "b2[1:3,1:3]"
      ]
    },
    {
      "cell_type": "code",
      "execution_count": null,
      "id": "637aceff-58a5-4db5-9d75-f58ec1fd3d93",
      "metadata": {
        "id": "637aceff-58a5-4db5-9d75-f58ec1fd3d93",
        "outputId": "6cdf23f1-bbd3-49d7-e8a3-6cb3a5bc16c9"
      },
      "outputs": [
        {
          "data": {
            "text/plain": [
              "array([[50, 60],\n",
              "       [80, 90]])"
            ]
          },
          "execution_count": 155,
          "metadata": {},
          "output_type": "execute_result"
        }
      ],
      "source": [
        "b2[1:,1:]"
      ]
    },
    {
      "cell_type": "code",
      "execution_count": null,
      "id": "e566ce6c-a8b2-4419-87ad-47dbefdbf965",
      "metadata": {
        "id": "e566ce6c-a8b2-4419-87ad-47dbefdbf965",
        "outputId": "904b08f4-5b0f-4f5b-d6a6-32b2f19d8cc8"
      },
      "outputs": [
        {
          "data": {
            "text/plain": [
              "array([40, 50])"
            ]
          },
          "execution_count": 159,
          "metadata": {},
          "output_type": "execute_result"
        }
      ],
      "source": [
        "b2[1][0:2]"
      ]
    },
    {
      "cell_type": "markdown",
      "id": "5cb5c975-f458-49d3-b445-5d979850fb70",
      "metadata": {
        "id": "5cb5c975-f458-49d3-b445-5d979850fb70"
      },
      "source": [
        "## NumPy 조건문\n",
        "- np.where  : 단일 조건문\n",
        "- np.select : 다중 조건문\n",
        "- 판다스에서 응용가능"
      ]
    },
    {
      "cell_type": "code",
      "execution_count": null,
      "id": "140d51a9-4b76-4f68-919e-884f60b4f004",
      "metadata": {
        "id": "140d51a9-4b76-4f68-919e-884f60b4f004",
        "outputId": "d33f219d-7e00-482f-f53f-19d40bc255f9"
      },
      "outputs": [
        {
          "data": {
            "text/plain": [
              "array([0, 1, 2, 3, 4, 5, 6, 7, 8, 9])"
            ]
          },
          "execution_count": 162,
          "metadata": {},
          "output_type": "execute_result"
        }
      ],
      "source": [
        "arr = np.arange(10)\n",
        "arr"
      ]
    },
    {
      "cell_type": "code",
      "execution_count": null,
      "id": "66589430-b371-49c0-b49c-64f1d1ae755e",
      "metadata": {
        "id": "66589430-b371-49c0-b49c-64f1d1ae755e"
      },
      "outputs": [],
      "source": [
        "#0, 1, 2, 3, 4, 50, 60, 70, 80, 90"
      ]
    },
    {
      "cell_type": "code",
      "execution_count": null,
      "id": "0a6de113-8a61-46d5-a197-202bdaada657",
      "metadata": {
        "id": "0a6de113-8a61-46d5-a197-202bdaada657",
        "outputId": "267da149-e992-4008-8fda-8dd16498f751"
      },
      "outputs": [
        {
          "data": {
            "text/plain": [
              "array([ 0,  1,  2,  3,  4, 50, 60, 70, 80, 90])"
            ]
          },
          "execution_count": 164,
          "metadata": {},
          "output_type": "execute_result"
        }
      ],
      "source": [
        "np.where(arr < 5,arr,arr*10)"
      ]
    },
    {
      "cell_type": "code",
      "execution_count": null,
      "id": "2354b068-579e-4135-8aee-bb7cfd351526",
      "metadata": {
        "id": "2354b068-579e-4135-8aee-bb7cfd351526",
        "outputId": "d6abe0e2-3f73-41d6-e8e9-29659b737101"
      },
      "outputs": [
        {
          "data": {
            "text/plain": [
              "array([0, 1, 2, 3, 4, 5, 6, 7, 8, 9])"
            ]
          },
          "execution_count": 165,
          "metadata": {},
          "output_type": "execute_result"
        }
      ],
      "source": [
        "arr = np.arange(10)\n",
        "arr"
      ]
    },
    {
      "cell_type": "code",
      "execution_count": null,
      "id": "522d8c54-4beb-47bb-93bc-ed24cdeea736",
      "metadata": {
        "id": "522d8c54-4beb-47bb-93bc-ed24cdeea736",
        "outputId": "2668b7df-1cb8-4867-d3f0-21dd09ad047c"
      },
      "outputs": [
        {
          "data": {
            "text/plain": [
              "array([100, 101,   2,   3,   4,   5,  12,  14,  16,  18])"
            ]
          },
          "execution_count": 167,
          "metadata": {},
          "output_type": "execute_result"
        }
      ],
      "source": [
        "#100, 101, 2, 3, 4, 5, 12, 14, 16, 18\n",
        "#조건1 2미만일때는 100을 더해라\n",
        "#조건2 5초과 일떄는 곱하기 2를 해줘라\n",
        "\n",
        "#조건식과 대응 되는 결과를 리스트로 만들기\n",
        "cond_list = [arr > 5, arr < 2]\n",
        "choice_list = [arr * 2, arr + 100]\n",
        "\n",
        "np.select(cond_list, choice_list,default = arr)"
      ]
    },
    {
      "cell_type": "code",
      "execution_count": null,
      "id": "496c0c4d-d187-43d1-b6ef-427d05cfdc48",
      "metadata": {
        "id": "496c0c4d-d187-43d1-b6ef-427d05cfdc48"
      },
      "outputs": [],
      "source": []
    }
  ],
  "metadata": {
    "kernelspec": {
      "display_name": "Python 3 (ipykernel)",
      "language": "python",
      "name": "python3"
    },
    "language_info": {
      "codemirror_mode": {
        "name": "ipython",
        "version": 3
      },
      "file_extension": ".py",
      "mimetype": "text/x-python",
      "name": "python",
      "nbconvert_exporter": "python",
      "pygments_lexer": "ipython3",
      "version": "3.10.13"
    },
    "colab": {
      "provenance": [],
      "toc_visible": true,
      "include_colab_link": true
    }
  },
  "nbformat": 4,
  "nbformat_minor": 5
}