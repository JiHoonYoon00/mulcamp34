{
  "cells": [
    {
      "cell_type": "markdown",
      "metadata": {
        "id": "view-in-github",
        "colab_type": "text"
      },
      "source": [
        "<a href=\"https://colab.research.google.com/github/JiHoonYoon00/mulcamp34/blob/main/%E1%84%80%E1%85%B5%E1%84%8E%E1%85%A9%E1%84%90%E1%85%A9%E1%86%BC%E1%84%80%E1%85%A8_240112.ipynb\" target=\"_parent\"><img src=\"https://colab.research.google.com/assets/colab-badge.svg\" alt=\"Open In Colab\"/></a>"
      ]
    },
    {
      "cell_type": "markdown",
      "id": "296fbbb8-ad70-4c68-aad7-93bc7de77501",
      "metadata": {
        "id": "296fbbb8-ad70-4c68-aad7-93bc7de77501"
      },
      "source": [
        "카이제곱검정은 모수검정?\n",
        "- 모수검정 : 평균의 차이/ 분포의 차이(적합도 검정)\n",
        "- 비모수검정 : 독립성검정"
      ]
    },
    {
      "cell_type": "code",
      "execution_count": null,
      "id": "a9283e12-691b-496b-82d6-3147f3d97c2b",
      "metadata": {
        "id": "a9283e12-691b-496b-82d6-3147f3d97c2b",
        "outputId": "550bd971-f2fd-40c6-b6ed-8d6096cca4c5"
      },
      "outputs": [
        {
          "name": "stdout",
          "output_type": "stream",
          "text": [
            "Collecting statsmodels\n",
            "  Downloading statsmodels-0.14.1-cp310-cp310-macosx_11_0_arm64.whl.metadata (9.5 kB)\n",
            "Requirement already satisfied: numpy<2,>=1.18 in /Users/yoonjihoon/anaconda3/envs/myenv/lib/python3.10/site-packages (from statsmodels) (1.26.2)\n",
            "Requirement already satisfied: scipy!=1.9.2,>=1.4 in /Users/yoonjihoon/anaconda3/envs/myenv/lib/python3.10/site-packages (from statsmodels) (1.11.4)\n",
            "Requirement already satisfied: pandas!=2.1.0,>=1.0 in /Users/yoonjihoon/anaconda3/envs/myenv/lib/python3.10/site-packages (from statsmodels) (2.1.4)\n",
            "Collecting patsy>=0.5.4 (from statsmodels)\n",
            "  Downloading patsy-0.5.6-py2.py3-none-any.whl.metadata (3.5 kB)\n",
            "Requirement already satisfied: packaging>=21.3 in /Users/yoonjihoon/anaconda3/envs/myenv/lib/python3.10/site-packages (from statsmodels) (23.1)\n",
            "Requirement already satisfied: python-dateutil>=2.8.2 in /Users/yoonjihoon/anaconda3/envs/myenv/lib/python3.10/site-packages (from pandas!=2.1.0,>=1.0->statsmodels) (2.8.2)\n",
            "Requirement already satisfied: pytz>=2020.1 in /Users/yoonjihoon/anaconda3/envs/myenv/lib/python3.10/site-packages (from pandas!=2.1.0,>=1.0->statsmodels) (2023.3.post1)\n",
            "Requirement already satisfied: tzdata>=2022.1 in /Users/yoonjihoon/anaconda3/envs/myenv/lib/python3.10/site-packages (from pandas!=2.1.0,>=1.0->statsmodels) (2023.3)\n",
            "Requirement already satisfied: six in /Users/yoonjihoon/anaconda3/envs/myenv/lib/python3.10/site-packages (from patsy>=0.5.4->statsmodels) (1.16.0)\n",
            "Downloading statsmodels-0.14.1-cp310-cp310-macosx_11_0_arm64.whl (10.1 MB)\n",
            "\u001b[2K   \u001b[90m━━━━━━━━━━━━━━━━━━━━━━━━━━━━━━━━━━━━━━━━\u001b[0m \u001b[32m10.1/10.1 MB\u001b[0m \u001b[31m4.3 MB/s\u001b[0m eta \u001b[36m0:00:00\u001b[0m00:01\u001b[0m0:01\u001b[0m\n",
            "\u001b[?25hDownloading patsy-0.5.6-py2.py3-none-any.whl (233 kB)\n",
            "\u001b[2K   \u001b[90m━━━━━━━━━━━━━━━━━━━━━━━━━━━━━━━━━━━━━━━━\u001b[0m \u001b[32m233.9/233.9 kB\u001b[0m \u001b[31m3.5 MB/s\u001b[0m eta \u001b[36m0:00:00\u001b[0ma \u001b[36m0:00:01\u001b[0m\n",
            "\u001b[?25hInstalling collected packages: patsy, statsmodels\n",
            "Successfully installed patsy-0.5.6 statsmodels-0.14.1\n"
          ]
        }
      ],
      "source": [
        "!pip install statsmodels"
      ]
    },
    {
      "cell_type": "code",
      "execution_count": null,
      "id": "f98a0b5b-0c37-4154-a007-18c361610385",
      "metadata": {
        "id": "f98a0b5b-0c37-4154-a007-18c361610385",
        "outputId": "d48ea377-e560-4363-c02c-80f3e505eb9d"
      },
      "outputs": [
        {
          "data": {
            "text/plain": [
              "'0.14.1'"
            ]
          },
          "execution_count": 10,
          "metadata": {},
          "output_type": "execute_result"
        }
      ],
      "source": [
        "import numpy as np\n",
        "import matplotlib.pyplot as plt\n",
        "import statsmodels\n",
        "import statsmodels.formula.api as smf\n",
        "import seaborn as sns\n",
        "statsmodels.__version__"
      ]
    },
    {
      "cell_type": "code",
      "execution_count": null,
      "id": "5737c19d-cdb4-40df-b8e0-fc9e254e9bcb",
      "metadata": {
        "id": "5737c19d-cdb4-40df-b8e0-fc9e254e9bcb",
        "outputId": "1f982911-e61c-447d-9c2f-fa9da8b19938"
      },
      "outputs": [
        {
          "data": {
            "text/html": [
              "<div>\n",
              "<style scoped>\n",
              "    .dataframe tbody tr th:only-of-type {\n",
              "        vertical-align: middle;\n",
              "    }\n",
              "\n",
              "    .dataframe tbody tr th {\n",
              "        vertical-align: top;\n",
              "    }\n",
              "\n",
              "    .dataframe thead th {\n",
              "        text-align: right;\n",
              "    }\n",
              "</style>\n",
              "<table border=\"1\" class=\"dataframe\">\n",
              "  <thead>\n",
              "    <tr style=\"text-align: right;\">\n",
              "      <th></th>\n",
              "      <th>sepal_length</th>\n",
              "      <th>sepal_width</th>\n",
              "      <th>petal_length</th>\n",
              "      <th>petal_width</th>\n",
              "      <th>species</th>\n",
              "    </tr>\n",
              "  </thead>\n",
              "  <tbody>\n",
              "    <tr>\n",
              "      <th>0</th>\n",
              "      <td>5.1</td>\n",
              "      <td>3.5</td>\n",
              "      <td>1.4</td>\n",
              "      <td>0.2</td>\n",
              "      <td>setosa</td>\n",
              "    </tr>\n",
              "    <tr>\n",
              "      <th>1</th>\n",
              "      <td>4.9</td>\n",
              "      <td>3.0</td>\n",
              "      <td>1.4</td>\n",
              "      <td>0.2</td>\n",
              "      <td>setosa</td>\n",
              "    </tr>\n",
              "    <tr>\n",
              "      <th>2</th>\n",
              "      <td>4.7</td>\n",
              "      <td>3.2</td>\n",
              "      <td>1.3</td>\n",
              "      <td>0.2</td>\n",
              "      <td>setosa</td>\n",
              "    </tr>\n",
              "    <tr>\n",
              "      <th>3</th>\n",
              "      <td>4.6</td>\n",
              "      <td>3.1</td>\n",
              "      <td>1.5</td>\n",
              "      <td>0.2</td>\n",
              "      <td>setosa</td>\n",
              "    </tr>\n",
              "    <tr>\n",
              "      <th>4</th>\n",
              "      <td>5.0</td>\n",
              "      <td>3.6</td>\n",
              "      <td>1.4</td>\n",
              "      <td>0.2</td>\n",
              "      <td>setosa</td>\n",
              "    </tr>\n",
              "    <tr>\n",
              "      <th>...</th>\n",
              "      <td>...</td>\n",
              "      <td>...</td>\n",
              "      <td>...</td>\n",
              "      <td>...</td>\n",
              "      <td>...</td>\n",
              "    </tr>\n",
              "    <tr>\n",
              "      <th>145</th>\n",
              "      <td>6.7</td>\n",
              "      <td>3.0</td>\n",
              "      <td>5.2</td>\n",
              "      <td>2.3</td>\n",
              "      <td>virginica</td>\n",
              "    </tr>\n",
              "    <tr>\n",
              "      <th>146</th>\n",
              "      <td>6.3</td>\n",
              "      <td>2.5</td>\n",
              "      <td>5.0</td>\n",
              "      <td>1.9</td>\n",
              "      <td>virginica</td>\n",
              "    </tr>\n",
              "    <tr>\n",
              "      <th>147</th>\n",
              "      <td>6.5</td>\n",
              "      <td>3.0</td>\n",
              "      <td>5.2</td>\n",
              "      <td>2.0</td>\n",
              "      <td>virginica</td>\n",
              "    </tr>\n",
              "    <tr>\n",
              "      <th>148</th>\n",
              "      <td>6.2</td>\n",
              "      <td>3.4</td>\n",
              "      <td>5.4</td>\n",
              "      <td>2.3</td>\n",
              "      <td>virginica</td>\n",
              "    </tr>\n",
              "    <tr>\n",
              "      <th>149</th>\n",
              "      <td>5.9</td>\n",
              "      <td>3.0</td>\n",
              "      <td>5.1</td>\n",
              "      <td>1.8</td>\n",
              "      <td>virginica</td>\n",
              "    </tr>\n",
              "  </tbody>\n",
              "</table>\n",
              "<p>150 rows × 5 columns</p>\n",
              "</div>"
            ],
            "text/plain": [
              "     sepal_length  sepal_width  petal_length  petal_width    species\n",
              "0             5.1          3.5           1.4          0.2     setosa\n",
              "1             4.9          3.0           1.4          0.2     setosa\n",
              "2             4.7          3.2           1.3          0.2     setosa\n",
              "3             4.6          3.1           1.5          0.2     setosa\n",
              "4             5.0          3.6           1.4          0.2     setosa\n",
              "..            ...          ...           ...          ...        ...\n",
              "145           6.7          3.0           5.2          2.3  virginica\n",
              "146           6.3          2.5           5.0          1.9  virginica\n",
              "147           6.5          3.0           5.2          2.0  virginica\n",
              "148           6.2          3.4           5.4          2.3  virginica\n",
              "149           5.9          3.0           5.1          1.8  virginica\n",
              "\n",
              "[150 rows x 5 columns]"
            ]
          },
          "execution_count": 12,
          "metadata": {},
          "output_type": "execute_result"
        }
      ],
      "source": [
        "iris = sns.load_dataset('iris')\n",
        "iris"
      ]
    },
    {
      "cell_type": "code",
      "execution_count": null,
      "id": "60baa721-e5d2-47d6-a9db-4aa0969895b0",
      "metadata": {
        "id": "60baa721-e5d2-47d6-a9db-4aa0969895b0"
      },
      "outputs": [],
      "source": [
        "model = smf.ols(formula = 'sepal_length ~ sepal_width', data = iris).fit() # y , x값\n"
      ]
    },
    {
      "cell_type": "code",
      "execution_count": null,
      "id": "618a74f0-2cc8-4d7d-af54-ff115709f670",
      "metadata": {
        "id": "618a74f0-2cc8-4d7d-af54-ff115709f670",
        "outputId": "1b2a6a0f-d457-4b8e-d5ca-8f5d7e6c0585"
      },
      "outputs": [
        {
          "data": {
            "text/html": [
              "<table class=\"simpletable\">\n",
              "<caption>OLS Regression Results</caption>\n",
              "<tr>\n",
              "  <th>Dep. Variable:</th>      <td>sepal_length</td>   <th>  R-squared:         </th> <td>   0.014</td>\n",
              "</tr>\n",
              "<tr>\n",
              "  <th>Model:</th>                   <td>OLS</td>       <th>  Adj. R-squared:    </th> <td>   0.007</td>\n",
              "</tr>\n",
              "<tr>\n",
              "  <th>Method:</th>             <td>Least Squares</td>  <th>  F-statistic:       </th> <td>   2.074</td>\n",
              "</tr>\n",
              "<tr>\n",
              "  <th>Date:</th>             <td>Fri, 12 Jan 2024</td> <th>  Prob (F-statistic):</th>  <td> 0.152</td> \n",
              "</tr>\n",
              "<tr>\n",
              "  <th>Time:</th>                 <td>13:23:37</td>     <th>  Log-Likelihood:    </th> <td> -183.00</td>\n",
              "</tr>\n",
              "<tr>\n",
              "  <th>No. Observations:</th>      <td>   150</td>      <th>  AIC:               </th> <td>   370.0</td>\n",
              "</tr>\n",
              "<tr>\n",
              "  <th>Df Residuals:</th>          <td>   148</td>      <th>  BIC:               </th> <td>   376.0</td>\n",
              "</tr>\n",
              "<tr>\n",
              "  <th>Df Model:</th>              <td>     1</td>      <th>                     </th>     <td> </td>   \n",
              "</tr>\n",
              "<tr>\n",
              "  <th>Covariance Type:</th>      <td>nonrobust</td>    <th>                     </th>     <td> </td>   \n",
              "</tr>\n",
              "</table>\n",
              "<table class=\"simpletable\">\n",
              "<tr>\n",
              "       <td></td>          <th>coef</th>     <th>std err</th>      <th>t</th>      <th>P>|t|</th>  <th>[0.025</th>    <th>0.975]</th>  \n",
              "</tr>\n",
              "<tr>\n",
              "  <th>Intercept</th>   <td>    6.5262</td> <td>    0.479</td> <td>   13.628</td> <td> 0.000</td> <td>    5.580</td> <td>    7.473</td>\n",
              "</tr>\n",
              "<tr>\n",
              "  <th>sepal_width</th> <td>   -0.2234</td> <td>    0.155</td> <td>   -1.440</td> <td> 0.152</td> <td>   -0.530</td> <td>    0.083</td>\n",
              "</tr>\n",
              "</table>\n",
              "<table class=\"simpletable\">\n",
              "<tr>\n",
              "  <th>Omnibus:</th>       <td> 4.389</td> <th>  Durbin-Watson:     </th> <td>   0.952</td>\n",
              "</tr>\n",
              "<tr>\n",
              "  <th>Prob(Omnibus):</th> <td> 0.111</td> <th>  Jarque-Bera (JB):  </th> <td>   4.237</td>\n",
              "</tr>\n",
              "<tr>\n",
              "  <th>Skew:</th>          <td> 0.360</td> <th>  Prob(JB):          </th> <td>   0.120</td>\n",
              "</tr>\n",
              "<tr>\n",
              "  <th>Kurtosis:</th>      <td> 2.600</td> <th>  Cond. No.          </th> <td>    24.2</td>\n",
              "</tr>\n",
              "</table><br/><br/>Notes:<br/>[1] Standard Errors assume that the covariance matrix of the errors is correctly specified."
            ],
            "text/latex": [
              "\\begin{center}\n",
              "\\begin{tabular}{lclc}\n",
              "\\toprule\n",
              "\\textbf{Dep. Variable:}    &  sepal\\_length   & \\textbf{  R-squared:         } &     0.014   \\\\\n",
              "\\textbf{Model:}            &       OLS        & \\textbf{  Adj. R-squared:    } &     0.007   \\\\\n",
              "\\textbf{Method:}           &  Least Squares   & \\textbf{  F-statistic:       } &     2.074   \\\\\n",
              "\\textbf{Date:}             & Fri, 12 Jan 2024 & \\textbf{  Prob (F-statistic):} &    0.152    \\\\\n",
              "\\textbf{Time:}             &     13:23:37     & \\textbf{  Log-Likelihood:    } &   -183.00   \\\\\n",
              "\\textbf{No. Observations:} &         150      & \\textbf{  AIC:               } &     370.0   \\\\\n",
              "\\textbf{Df Residuals:}     &         148      & \\textbf{  BIC:               } &     376.0   \\\\\n",
              "\\textbf{Df Model:}         &           1      & \\textbf{                     } &             \\\\\n",
              "\\textbf{Covariance Type:}  &    nonrobust     & \\textbf{                     } &             \\\\\n",
              "\\bottomrule\n",
              "\\end{tabular}\n",
              "\\begin{tabular}{lcccccc}\n",
              "                      & \\textbf{coef} & \\textbf{std err} & \\textbf{t} & \\textbf{P$> |$t$|$} & \\textbf{[0.025} & \\textbf{0.975]}  \\\\\n",
              "\\midrule\n",
              "\\textbf{Intercept}    &       6.5262  &        0.479     &    13.628  &         0.000        &        5.580    &        7.473     \\\\\n",
              "\\textbf{sepal\\_width} &      -0.2234  &        0.155     &    -1.440  &         0.152        &       -0.530    &        0.083     \\\\\n",
              "\\bottomrule\n",
              "\\end{tabular}\n",
              "\\begin{tabular}{lclc}\n",
              "\\textbf{Omnibus:}       &  4.389 & \\textbf{  Durbin-Watson:     } &    0.952  \\\\\n",
              "\\textbf{Prob(Omnibus):} &  0.111 & \\textbf{  Jarque-Bera (JB):  } &    4.237  \\\\\n",
              "\\textbf{Skew:}          &  0.360 & \\textbf{  Prob(JB):          } &    0.120  \\\\\n",
              "\\textbf{Kurtosis:}      &  2.600 & \\textbf{  Cond. No.          } &     24.2  \\\\\n",
              "\\bottomrule\n",
              "\\end{tabular}\n",
              "%\\caption{OLS Regression Results}\n",
              "\\end{center}\n",
              "\n",
              "Notes: \\newline\n",
              " [1] Standard Errors assume that the covariance matrix of the errors is correctly specified."
            ],
            "text/plain": [
              "<class 'statsmodels.iolib.summary.Summary'>\n",
              "\"\"\"\n",
              "                            OLS Regression Results                            \n",
              "==============================================================================\n",
              "Dep. Variable:           sepal_length   R-squared:                       0.014\n",
              "Model:                            OLS   Adj. R-squared:                  0.007\n",
              "Method:                 Least Squares   F-statistic:                     2.074\n",
              "Date:                Fri, 12 Jan 2024   Prob (F-statistic):              0.152\n",
              "Time:                        13:23:37   Log-Likelihood:                -183.00\n",
              "No. Observations:                 150   AIC:                             370.0\n",
              "Df Residuals:                     148   BIC:                             376.0\n",
              "Df Model:                           1                                         \n",
              "Covariance Type:            nonrobust                                         \n",
              "===============================================================================\n",
              "                  coef    std err          t      P>|t|      [0.025      0.975]\n",
              "-------------------------------------------------------------------------------\n",
              "Intercept       6.5262      0.479     13.628      0.000       5.580       7.473\n",
              "sepal_width    -0.2234      0.155     -1.440      0.152      -0.530       0.083\n",
              "==============================================================================\n",
              "Omnibus:                        4.389   Durbin-Watson:                   0.952\n",
              "Prob(Omnibus):                  0.111   Jarque-Bera (JB):                4.237\n",
              "Skew:                           0.360   Prob(JB):                        0.120\n",
              "Kurtosis:                       2.600   Cond. No.                         24.2\n",
              "==============================================================================\n",
              "\n",
              "Notes:\n",
              "[1] Standard Errors assume that the covariance matrix of the errors is correctly specified.\n",
              "\"\"\""
            ]
          },
          "execution_count": 30,
          "metadata": {},
          "output_type": "execute_result"
        }
      ],
      "source": [
        "model.summary()"
      ]
    },
    {
      "cell_type": "code",
      "execution_count": null,
      "id": "cc170c14-1a35-42a8-921c-422526444022",
      "metadata": {
        "id": "cc170c14-1a35-42a8-921c-422526444022",
        "outputId": "3a726768-651c-4f57-f40b-5f16180f6095"
      },
      "outputs": [
        {
          "name": "stdout",
          "output_type": "stream",
          "text": [
            "6.526222550894481 -0.2233610611298991\n"
          ]
        }
      ],
      "source": [
        "intercept = model.params.Intercept # 절편\n",
        "slope = model.params.sepal_width # 기울기\n",
        "\n",
        "print(intercept,slope)\n"
      ]
    },
    {
      "cell_type": "code",
      "execution_count": null,
      "id": "8bd65d6c-174b-4072-8297-39c06f820dbf",
      "metadata": {
        "id": "8bd65d6c-174b-4072-8297-39c06f820dbf",
        "outputId": "109e32a4-a1bd-4d20-b3ca-59d0466bcde6"
      },
      "outputs": [
        {
          "data": {
            "image/png": "[encoded data removed]",
            "text/plain": [
              "<Figure size 1000x600 with 2 Axes>"
            ]
          },
          "metadata": {},
          "output_type": "display_data"
        }
      ],
      "source": [
        "# 독립변수가 종속변수에 영향을 주지 못한것(기울기 0에 가깝기 때문에 즉 x 가 y에게 미치는 영향)\n",
        "\n",
        "fig, ax = plt.subplots(1, 2, figsize=(10, 6), sharey=True)\n",
        "x = np.linspace(0,5)\n",
        "\n",
        "sns.scatterplot(data = iris, x = 'sepal_width', y = 'sepal_length', ax = ax[0])\n",
        "fig.axes[0].set_title(\"The best-fitting regression line\")\n",
        "fig.axes[0].set_xlabel(\"sepal_width (cm)\")\n",
        "fig.axes[0].set_ylabel(\"sepal_length (cm)\")\n",
        "fig.axes[0].plot(x,slope*x+intercept)\n",
        "\n",
        "sns.scatterplot(data = iris, x = 'sepal_width', y = 'sepal_length', ax = ax[1])\n",
        "fig.axes[1].set_title(\"Not the best-fitting regression line!\")\n",
        "fig.axes[1].set_xlabel(\"sepal_width (cm)\")\n",
        "fig.axes[1].set_ylabel(\"sepal_length (cm)\")\n",
        "fig.axes[1].plot(x,-2*x+10)\n",
        "\n",
        "sns.despine()\n",
        "plt.show()\n",
        "\n",
        "#회기식은 y변수에 적합한 x변수를 찾는것 #적합한 p-value는 무엇? #"
      ]
    },
    {
      "cell_type": "code",
      "execution_count": null,
      "id": "40f46b43-e2b1-45cc-b608-d717976ff93d",
      "metadata": {
        "id": "40f46b43-e2b1-45cc-b608-d717976ff93d",
        "outputId": "dbb869e2-d369-4fab-e645-9442a8510b93"
      },
      "outputs": [
        {
          "name": "stdout",
          "output_type": "stream",
          "text": [
            "Collecting pingouin\n",
            "  Downloading pingouin-0.5.3-py3-none-any.whl (198 kB)\n",
            "\u001b[2K     \u001b[90m━━━━━━━━━━━━━━━━━━━━━━━━━━━━━━━━━━━━━━━\u001b[0m \u001b[32m198.6/198.6 kB\u001b[0m \u001b[31m3.2 MB/s\u001b[0m eta \u001b[36m0:00:00\u001b[0ma \u001b[36m0:00:01\u001b[0m\n",
            "\u001b[?25hRequirement already satisfied: numpy>=1.19 in /Users/yoonjihoon/anaconda3/envs/myenv/lib/python3.10/site-packages (from pingouin) (1.26.2)\n",
            "Requirement already satisfied: scipy>=1.7 in /Users/yoonjihoon/anaconda3/envs/myenv/lib/python3.10/site-packages (from pingouin) (1.11.4)\n",
            "Requirement already satisfied: pandas>=1.0 in /Users/yoonjihoon/anaconda3/envs/myenv/lib/python3.10/site-packages (from pingouin) (2.1.4)\n",
            "Requirement already satisfied: matplotlib>=3.0.2 in /Users/yoonjihoon/anaconda3/envs/myenv/lib/python3.10/site-packages (from pingouin) (3.8.2)\n",
            "Requirement already satisfied: seaborn>=0.11 in /Users/yoonjihoon/anaconda3/envs/myenv/lib/python3.10/site-packages (from pingouin) (0.12.2)\n",
            "Requirement already satisfied: statsmodels>=0.13 in /Users/yoonjihoon/anaconda3/envs/myenv/lib/python3.10/site-packages (from pingouin) (0.14.1)\n",
            "Collecting scikit-learn (from pingouin)\n",
            "  Downloading scikit_learn-1.3.2-cp310-cp310-macosx_12_0_arm64.whl.metadata (11 kB)\n",
            "Collecting pandas-flavor>=0.2.0 (from pingouin)\n",
            "  Downloading pandas_flavor-0.6.0-py3-none-any.whl.metadata (6.3 kB)\n",
            "Collecting outdated (from pingouin)\n",
            "  Downloading outdated-0.2.2-py2.py3-none-any.whl (7.5 kB)\n",
            "Collecting tabulate (from pingouin)\n",
            "  Downloading tabulate-0.9.0-py3-none-any.whl (35 kB)\n",
            "Requirement already satisfied: contourpy>=1.0.1 in /Users/yoonjihoon/anaconda3/envs/myenv/lib/python3.10/site-packages (from matplotlib>=3.0.2->pingouin) (1.2.0)\n",
            "Requirement already satisfied: cycler>=0.10 in /Users/yoonjihoon/anaconda3/envs/myenv/lib/python3.10/site-packages (from matplotlib>=3.0.2->pingouin) (0.11.0)\n",
            "Requirement already satisfied: fonttools>=4.22.0 in /Users/yoonjihoon/anaconda3/envs/myenv/lib/python3.10/site-packages (from matplotlib>=3.0.2->pingouin) (4.25.0)\n",
            "Requirement already satisfied: kiwisolver>=1.3.1 in /Users/yoonjihoon/anaconda3/envs/myenv/lib/python3.10/site-packages (from matplotlib>=3.0.2->pingouin) (1.4.4)\n",
            "Requirement already satisfied: packaging>=20.0 in /Users/yoonjihoon/anaconda3/envs/myenv/lib/python3.10/site-packages (from matplotlib>=3.0.2->pingouin) (23.1)\n",
            "Requirement already satisfied: pillow>=8 in /Users/yoonjihoon/anaconda3/envs/myenv/lib/python3.10/site-packages (from matplotlib>=3.0.2->pingouin) (10.0.1)\n",
            "Requirement already satisfied: pyparsing>=2.3.1 in /Users/yoonjihoon/anaconda3/envs/myenv/lib/python3.10/site-packages (from matplotlib>=3.0.2->pingouin) (3.0.9)\n",
            "Requirement already satisfied: python-dateutil>=2.7 in /Users/yoonjihoon/anaconda3/envs/myenv/lib/python3.10/site-packages (from matplotlib>=3.0.2->pingouin) (2.8.2)\n",
            "Requirement already satisfied: pytz>=2020.1 in /Users/yoonjihoon/anaconda3/envs/myenv/lib/python3.10/site-packages (from pandas>=1.0->pingouin) (2023.3.post1)\n",
            "Requirement already satisfied: tzdata>=2022.1 in /Users/yoonjihoon/anaconda3/envs/myenv/lib/python3.10/site-packages (from pandas>=1.0->pingouin) (2023.3)\n",
            "Collecting xarray (from pandas-flavor>=0.2.0->pingouin)\n",
            "  Downloading xarray-2023.12.0-py3-none-any.whl.metadata (11 kB)\n",
            "Requirement already satisfied: patsy>=0.5.4 in /Users/yoonjihoon/anaconda3/envs/myenv/lib/python3.10/site-packages (from statsmodels>=0.13->pingouin) (0.5.6)\n",
            "Requirement already satisfied: setuptools>=44 in /Users/yoonjihoon/anaconda3/envs/myenv/lib/python3.10/site-packages (from outdated->pingouin) (68.2.2)\n",
            "Collecting littleutils (from outdated->pingouin)\n",
            "  Downloading littleutils-0.2.2.tar.gz (6.6 kB)\n",
            "  Preparing metadata (setup.py) ... \u001b[?25ldone\n",
            "\u001b[?25hRequirement already satisfied: requests in /Users/yoonjihoon/anaconda3/envs/myenv/lib/python3.10/site-packages (from outdated->pingouin) (2.31.0)\n",
            "Collecting joblib>=1.1.1 (from scikit-learn->pingouin)\n",
            "  Downloading joblib-1.3.2-py3-none-any.whl.metadata (5.4 kB)\n",
            "Collecting threadpoolctl>=2.0.0 (from scikit-learn->pingouin)\n",
            "  Downloading threadpoolctl-3.2.0-py3-none-any.whl.metadata (10.0 kB)\n",
            "Requirement already satisfied: six in /Users/yoonjihoon/anaconda3/envs/myenv/lib/python3.10/site-packages (from patsy>=0.5.4->statsmodels>=0.13->pingouin) (1.16.0)\n",
            "Requirement already satisfied: charset-normalizer<4,>=2 in /Users/yoonjihoon/anaconda3/envs/myenv/lib/python3.10/site-packages (from requests->outdated->pingouin) (2.0.4)\n",
            "Requirement already satisfied: idna<4,>=2.5 in /Users/yoonjihoon/anaconda3/envs/myenv/lib/python3.10/site-packages (from requests->outdated->pingouin) (3.4)\n",
            "Requirement already satisfied: urllib3<3,>=1.21.1 in /Users/yoonjihoon/anaconda3/envs/myenv/lib/python3.10/site-packages (from requests->outdated->pingouin) (1.26.18)\n",
            "Requirement already satisfied: certifi>=2017.4.17 in /Users/yoonjihoon/anaconda3/envs/myenv/lib/python3.10/site-packages (from requests->outdated->pingouin) (2023.11.17)\n",
            "Downloading pandas_flavor-0.6.0-py3-none-any.whl (7.2 kB)\n",
            "Downloading scikit_learn-1.3.2-cp310-cp310-macosx_12_0_arm64.whl (9.5 MB)\n",
            "\u001b[2K   \u001b[90m━━━━━━━━━━━━━━━━━━━━━━━━━━━━━━━━━━━━━━━━\u001b[0m \u001b[32m9.5/9.5 MB\u001b[0m \u001b[31m3.8 MB/s\u001b[0m eta \u001b[36m0:00:00\u001b[0m00:01\u001b[0m00:01\u001b[0m\n",
            "\u001b[?25hDownloading joblib-1.3.2-py3-none-any.whl (302 kB)\n",
            "\u001b[2K   \u001b[90m━━━━━━━━━━━━━━━━━━━━━━━━━━━━━━━━━━━━━━━━\u001b[0m \u001b[32m302.2/302.2 kB\u001b[0m \u001b[31m4.8 MB/s\u001b[0m eta \u001b[36m0:00:00\u001b[0ma \u001b[36m0:00:01\u001b[0m\n",
            "\u001b[?25hDownloading threadpoolctl-3.2.0-py3-none-any.whl (15 kB)\n",
            "Downloading xarray-2023.12.0-py3-none-any.whl (1.1 MB)\n",
            "\u001b[2K   \u001b[90m━━━━━━━━━━━━━━━━━━━━━━━━━━━━━━━━━━━━━━━━\u001b[0m \u001b[32m1.1/1.1 MB\u001b[0m \u001b[31m5.3 MB/s\u001b[0m eta \u001b[36m0:00:00\u001b[0ma \u001b[36m0:00:01\u001b[0m\n",
            "\u001b[?25hBuilding wheels for collected packages: littleutils\n",
            "  Building wheel for littleutils (setup.py) ... \u001b[?25ldone\n",
            "\u001b[?25h  Created wheel for littleutils: filename=littleutils-0.2.2-py3-none-any.whl size=7028 sha256=c88ab1cfa147fabc2ddfa3f9caa232bbb23b20d744624a8061b9c0ebe66bba31\n",
            "  Stored in directory: /Users/yoonjihoon/Library/Caches/pip/wheels/3d/fe/b0/27a9892da57472e538c7452a721a9cf463cc03cf7379889266\n",
            "Successfully built littleutils\n",
            "Installing collected packages: littleutils, threadpoolctl, tabulate, joblib, scikit-learn, outdated, xarray, pandas-flavor, pingouin\n",
            "Successfully installed joblib-1.3.2 littleutils-0.2.2 outdated-0.2.2 pandas-flavor-0.6.0 pingouin-0.5.3 scikit-learn-1.3.2 tabulate-0.9.0 threadpoolctl-3.2.0 xarray-2023.12.0\n"
          ]
        }
      ],
      "source": [
        "!pip install pingouin"
      ]
    },
    {
      "cell_type": "code",
      "execution_count": null,
      "id": "c29388bf-d660-46d5-835b-d746ee91367e",
      "metadata": {
        "id": "c29388bf-d660-46d5-835b-d746ee91367e",
        "outputId": "ecafed6d-98b0-4e9c-b574-7221d19a00b9"
      },
      "outputs": [
        {
          "data": {
            "text/html": [
              "<div>\n",
              "<style scoped>\n",
              "    .dataframe tbody tr th:only-of-type {\n",
              "        vertical-align: middle;\n",
              "    }\n",
              "\n",
              "    .dataframe tbody tr th {\n",
              "        vertical-align: top;\n",
              "    }\n",
              "\n",
              "    .dataframe thead th {\n",
              "        text-align: right;\n",
              "    }\n",
              "</style>\n",
              "<table border=\"1\" class=\"dataframe\">\n",
              "  <thead>\n",
              "    <tr style=\"text-align: right;\">\n",
              "      <th></th>\n",
              "      <th>names</th>\n",
              "      <th>coef</th>\n",
              "      <th>se</th>\n",
              "      <th>T</th>\n",
              "      <th>pval</th>\n",
              "      <th>r2</th>\n",
              "      <th>adj_r2</th>\n",
              "      <th>CI[2.5%]</th>\n",
              "      <th>CI[97.5%]</th>\n",
              "    </tr>\n",
              "  </thead>\n",
              "  <tbody>\n",
              "    <tr>\n",
              "      <th>0</th>\n",
              "      <td>Intercept</td>\n",
              "      <td>6.53</td>\n",
              "      <td>0.48</td>\n",
              "      <td>13.63</td>\n",
              "      <td>0.00</td>\n",
              "      <td>0.01</td>\n",
              "      <td>0.01</td>\n",
              "      <td>5.58</td>\n",
              "      <td>7.47</td>\n",
              "    </tr>\n",
              "    <tr>\n",
              "      <th>1</th>\n",
              "      <td>sepal_width</td>\n",
              "      <td>-0.22</td>\n",
              "      <td>0.16</td>\n",
              "      <td>-1.44</td>\n",
              "      <td>0.15</td>\n",
              "      <td>0.01</td>\n",
              "      <td>0.01</td>\n",
              "      <td>-0.53</td>\n",
              "      <td>0.08</td>\n",
              "    </tr>\n",
              "  </tbody>\n",
              "</table>\n",
              "</div>"
            ],
            "text/plain": [
              "         names  coef    se      T  pval    r2  adj_r2  CI[2.5%]  CI[97.5%]\n",
              "0    Intercept  6.53  0.48  13.63  0.00  0.01    0.01      5.58       7.47\n",
              "1  sepal_width -0.22  0.16  -1.44  0.15  0.01    0.01     -0.53       0.08"
            ]
          },
          "execution_count": 28,
          "metadata": {},
          "output_type": "execute_result"
        }
      ],
      "source": [
        "import pingouin as pg\n",
        "\n",
        "mod1 = pg.linear_regression(iris['sepal_width'], iris['sepal_length'])  # x축 y축\n",
        "mod1.round(2)"
      ]
    },
    {
      "cell_type": "code",
      "execution_count": null,
      "id": "29cd37f2-3eae-4eed-bf86-ca6b0955b435",
      "metadata": {
        "id": "29cd37f2-3eae-4eed-bf86-ca6b0955b435"
      },
      "outputs": [],
      "source": [
        "#결정 계수 판단과 적합한 p-value"
      ]
    },
    {
      "cell_type": "code",
      "execution_count": null,
      "id": "f2f7b7e9-e4bf-4aad-833f-0a9e6385f905",
      "metadata": {
        "id": "f2f7b7e9-e4bf-4aad-833f-0a9e6385f905"
      },
      "outputs": [],
      "source": [
        "#독립변수가 많으면 뭐가 더 중요한지 기울기를 보고 판단 하는게 아니라 상관계수를 보고 판단한다."
      ]
    },
    {
      "cell_type": "code",
      "execution_count": null,
      "id": "65b0db81-f5e7-4425-89b3-b9f4634e30b3",
      "metadata": {
        "id": "65b0db81-f5e7-4425-89b3-b9f4634e30b3",
        "outputId": "246fe550-2515-42a6-9790-75e532527f84"
      },
      "outputs": [
        {
          "data": {
            "text/html": [
              "<div>\n",
              "<style scoped>\n",
              "    .dataframe tbody tr th:only-of-type {\n",
              "        vertical-align: middle;\n",
              "    }\n",
              "\n",
              "    .dataframe tbody tr th {\n",
              "        vertical-align: top;\n",
              "    }\n",
              "\n",
              "    .dataframe thead th {\n",
              "        text-align: right;\n",
              "    }\n",
              "</style>\n",
              "<table border=\"1\" class=\"dataframe\">\n",
              "  <thead>\n",
              "    <tr style=\"text-align: right;\">\n",
              "      <th></th>\n",
              "      <th>names</th>\n",
              "      <th>coef</th>\n",
              "      <th>se</th>\n",
              "      <th>T</th>\n",
              "      <th>pval</th>\n",
              "      <th>r2</th>\n",
              "      <th>adj_r2</th>\n",
              "      <th>CI[2.5%]</th>\n",
              "      <th>CI[97.5%]</th>\n",
              "    </tr>\n",
              "  </thead>\n",
              "  <tbody>\n",
              "    <tr>\n",
              "      <th>0</th>\n",
              "      <td>Intercept</td>\n",
              "      <td>2.25</td>\n",
              "      <td>0.25</td>\n",
              "      <td>9.07</td>\n",
              "      <td>0.0</td>\n",
              "      <td>0.84</td>\n",
              "      <td>0.84</td>\n",
              "      <td>1.76</td>\n",
              "      <td>2.74</td>\n",
              "    </tr>\n",
              "    <tr>\n",
              "      <th>1</th>\n",
              "      <td>sepal_width</td>\n",
              "      <td>0.60</td>\n",
              "      <td>0.07</td>\n",
              "      <td>8.59</td>\n",
              "      <td>0.0</td>\n",
              "      <td>0.84</td>\n",
              "      <td>0.84</td>\n",
              "      <td>0.46</td>\n",
              "      <td>0.73</td>\n",
              "    </tr>\n",
              "    <tr>\n",
              "      <th>2</th>\n",
              "      <td>petal_length</td>\n",
              "      <td>0.47</td>\n",
              "      <td>0.02</td>\n",
              "      <td>27.57</td>\n",
              "      <td>0.0</td>\n",
              "      <td>0.84</td>\n",
              "      <td>0.84</td>\n",
              "      <td>0.44</td>\n",
              "      <td>0.51</td>\n",
              "    </tr>\n",
              "  </tbody>\n",
              "</table>\n",
              "</div>"
            ],
            "text/plain": [
              "          names  coef    se      T  pval    r2  adj_r2  CI[2.5%]  CI[97.5%]\n",
              "0     Intercept  2.25  0.25   9.07   0.0  0.84    0.84      1.76       2.74\n",
              "1   sepal_width  0.60  0.07   8.59   0.0  0.84    0.84      0.46       0.73\n",
              "2  petal_length  0.47  0.02  27.57   0.0  0.84    0.84      0.44       0.51"
            ]
          },
          "execution_count": 35,
          "metadata": {},
          "output_type": "execute_result"
        }
      ],
      "source": [
        "predictors = ['sepal_width', 'petal_length']\n",
        "outcome = 'sepal_length'\n",
        "\n",
        "mod2 = pg.linear_regression(iris[predictors], iris[outcome])\n",
        "mod2.round(2)"
      ]
    },
    {
      "cell_type": "code",
      "execution_count": null,
      "id": "2fa22256-eed2-49e8-bb88-668d2f2fef92",
      "metadata": {
        "id": "2fa22256-eed2-49e8-bb88-668d2f2fef92",
        "outputId": "2eb555ba-9bf8-4258-8db9-26452bf2fa4c"
      },
      "outputs": [
        {
          "name": "stderr",
          "output_type": "stream",
          "text": [
            "/Users/yoonjihoon/anaconda3/envs/myenv/lib/python3.10/site-packages/pingouin/correlation.py:1111: FutureWarning: DataFrame.applymap has been deprecated. Use DataFrame.map instead.\n",
            "  mat_upper = mat_upper.applymap(replace_pval)\n"
          ]
        },
        {
          "data": {
            "text/html": [
              "<div>\n",
              "<style scoped>\n",
              "    .dataframe tbody tr th:only-of-type {\n",
              "        vertical-align: middle;\n",
              "    }\n",
              "\n",
              "    .dataframe tbody tr th {\n",
              "        vertical-align: top;\n",
              "    }\n",
              "\n",
              "    .dataframe thead th {\n",
              "        text-align: right;\n",
              "    }\n",
              "</style>\n",
              "<table border=\"1\" class=\"dataframe\">\n",
              "  <thead>\n",
              "    <tr style=\"text-align: right;\">\n",
              "      <th></th>\n",
              "      <th>sepal_length</th>\n",
              "      <th>sepal_width</th>\n",
              "      <th>petal_length</th>\n",
              "    </tr>\n",
              "  </thead>\n",
              "  <tbody>\n",
              "    <tr>\n",
              "      <th>sepal_length</th>\n",
              "      <td>-</td>\n",
              "      <td></td>\n",
              "      <td>***</td>\n",
              "    </tr>\n",
              "    <tr>\n",
              "      <th>sepal_width</th>\n",
              "      <td>-0.118</td>\n",
              "      <td>-</td>\n",
              "      <td>***</td>\n",
              "    </tr>\n",
              "    <tr>\n",
              "      <th>petal_length</th>\n",
              "      <td>0.872</td>\n",
              "      <td>-0.428</td>\n",
              "      <td>-</td>\n",
              "    </tr>\n",
              "  </tbody>\n",
              "</table>\n",
              "</div>"
            ],
            "text/plain": [
              "             sepal_length sepal_width petal_length\n",
              "sepal_length            -                      ***\n",
              "sepal_width        -0.118           -          ***\n",
              "petal_length        0.872      -0.428            -"
            ]
          },
          "execution_count": 38,
          "metadata": {},
          "output_type": "execute_result"
        }
      ],
      "source": [
        "iris.loc[:, ['sepal_length', 'sepal_width', 'petal_length']].rcorr()"
      ]
    },
    {
      "cell_type": "code",
      "execution_count": null,
      "id": "80526031-2b2c-4557-b3f5-9cc64f080b07",
      "metadata": {
        "id": "80526031-2b2c-4557-b3f5-9cc64f080b07"
      },
      "outputs": [],
      "source": []
    },
    {
      "cell_type": "code",
      "execution_count": null,
      "id": "7173eed5-1bb9-4c0d-904c-f94ba0a25637",
      "metadata": {
        "id": "7173eed5-1bb9-4c0d-904c-f94ba0a25637",
        "outputId": "b1e1bed7-b948-4ba9-ee7a-156c6903d1c0"
      },
      "outputs": [
        {
          "data": {
            "text/html": [
              "<div>\n",
              "<style scoped>\n",
              "    .dataframe tbody tr th:only-of-type {\n",
              "        vertical-align: middle;\n",
              "    }\n",
              "\n",
              "    .dataframe tbody tr th {\n",
              "        vertical-align: top;\n",
              "    }\n",
              "\n",
              "    .dataframe thead th {\n",
              "        text-align: right;\n",
              "    }\n",
              "</style>\n",
              "<table border=\"1\" class=\"dataframe\">\n",
              "  <thead>\n",
              "    <tr style=\"text-align: right;\">\n",
              "      <th></th>\n",
              "      <th>names</th>\n",
              "      <th>coef</th>\n",
              "      <th>se</th>\n",
              "      <th>T</th>\n",
              "      <th>pval</th>\n",
              "      <th>r2</th>\n",
              "      <th>adj_r2</th>\n",
              "      <th>CI[2.5%]</th>\n",
              "      <th>CI[97.5%]</th>\n",
              "    </tr>\n",
              "  </thead>\n",
              "  <tbody>\n",
              "    <tr>\n",
              "      <th>0</th>\n",
              "      <td>Intercept</td>\n",
              "      <td>4.31</td>\n",
              "      <td>0.08</td>\n",
              "      <td>54.94</td>\n",
              "      <td>0.0</td>\n",
              "      <td>0.76</td>\n",
              "      <td>0.76</td>\n",
              "      <td>4.15</td>\n",
              "      <td>4.46</td>\n",
              "    </tr>\n",
              "    <tr>\n",
              "      <th>1</th>\n",
              "      <td>petal_length</td>\n",
              "      <td>0.41</td>\n",
              "      <td>0.02</td>\n",
              "      <td>21.65</td>\n",
              "      <td>0.0</td>\n",
              "      <td>0.76</td>\n",
              "      <td>0.76</td>\n",
              "      <td>0.37</td>\n",
              "      <td>0.45</td>\n",
              "    </tr>\n",
              "  </tbody>\n",
              "</table>\n",
              "</div>"
            ],
            "text/plain": [
              "          names  coef    se      T  pval    r2  adj_r2  CI[2.5%]  CI[97.5%]\n",
              "0     Intercept  4.31  0.08  54.94   0.0  0.76    0.76      4.15       4.46\n",
              "1  petal_length  0.41  0.02  21.65   0.0  0.76    0.76      0.37       0.45"
            ]
          },
          "execution_count": 39,
          "metadata": {},
          "output_type": "execute_result"
        }
      ],
      "source": [
        "mod3 = pg.linear_regression(iris['petal_length'], iris['sepal_length'])\n",
        "mod3.round(2)"
      ]
    },
    {
      "cell_type": "code",
      "execution_count": null,
      "id": "47506315-11ef-4ba3-b784-07257d2ae9af",
      "metadata": {
        "id": "47506315-11ef-4ba3-b784-07257d2ae9af",
        "outputId": "c1d5ab2e-c7a6-4c6a-fe9b-a883b718dd91"
      },
      "outputs": [
        {
          "data": {
            "text/html": [
              "<div>\n",
              "<style scoped>\n",
              "    .dataframe tbody tr th:only-of-type {\n",
              "        vertical-align: middle;\n",
              "    }\n",
              "\n",
              "    .dataframe tbody tr th {\n",
              "        vertical-align: top;\n",
              "    }\n",
              "\n",
              "    .dataframe thead th {\n",
              "        text-align: right;\n",
              "    }\n",
              "</style>\n",
              "<table border=\"1\" class=\"dataframe\">\n",
              "  <thead>\n",
              "    <tr style=\"text-align: right;\">\n",
              "      <th></th>\n",
              "      <th>names</th>\n",
              "      <th>coef</th>\n",
              "      <th>se</th>\n",
              "      <th>T</th>\n",
              "      <th>pval</th>\n",
              "      <th>r2</th>\n",
              "      <th>adj_r2</th>\n",
              "      <th>CI[2.5%]</th>\n",
              "      <th>CI[97.5%]</th>\n",
              "    </tr>\n",
              "  </thead>\n",
              "  <tbody>\n",
              "    <tr>\n",
              "      <th>0</th>\n",
              "      <td>Intercept</td>\n",
              "      <td>-0.0</td>\n",
              "      <td>0.0</td>\n",
              "      <td>-3.238000e+01</td>\n",
              "      <td>0.0</td>\n",
              "      <td>1.0</td>\n",
              "      <td>1.0</td>\n",
              "      <td>-0.0</td>\n",
              "      <td>-0.0</td>\n",
              "    </tr>\n",
              "    <tr>\n",
              "      <th>1</th>\n",
              "      <td>sepal_length</td>\n",
              "      <td>1.0</td>\n",
              "      <td>0.0</td>\n",
              "      <td>1.347734e+17</td>\n",
              "      <td>0.0</td>\n",
              "      <td>1.0</td>\n",
              "      <td>1.0</td>\n",
              "      <td>1.0</td>\n",
              "      <td>1.0</td>\n",
              "    </tr>\n",
              "  </tbody>\n",
              "</table>\n",
              "</div>"
            ],
            "text/plain": [
              "          names  coef   se             T  pval   r2  adj_r2  CI[2.5%]  \\\n",
              "0     Intercept  -0.0  0.0 -3.238000e+01   0.0  1.0     1.0      -0.0   \n",
              "1  sepal_length   1.0  0.0  1.347734e+17   0.0  1.0     1.0       1.0   \n",
              "\n",
              "   CI[97.5%]  \n",
              "0       -0.0  \n",
              "1        1.0  "
            ]
          },
          "execution_count": 40,
          "metadata": {},
          "output_type": "execute_result"
        }
      ],
      "source": [
        "mod4 = pg.linear_regression(iris['sepal_length'], iris['sepal_length'])\n",
        "mod4.round(2)"
      ]
    },
    {
      "cell_type": "markdown",
      "id": "c5041e53-d8ab-4f6b-8500-808604f36636",
      "metadata": {
        "id": "c5041e53-d8ab-4f6b-8500-808604f36636"
      },
      "source": [
        "### tip데이터 활용해서 회귀분석\n",
        "- 종속변수 tip\n",
        "- 독립변수 자유"
      ]
    },
    {
      "cell_type": "code",
      "execution_count": null,
      "id": "3daf919d-9599-488b-86ce-6a72589dfb72",
      "metadata": {
        "id": "3daf919d-9599-488b-86ce-6a72589dfb72",
        "outputId": "44c8eea2-5af9-43ea-eb00-9edea84c47c8"
      },
      "outputs": [
        {
          "data": {
            "text/html": [
              "<div>\n",
              "<style scoped>\n",
              "    .dataframe tbody tr th:only-of-type {\n",
              "        vertical-align: middle;\n",
              "    }\n",
              "\n",
              "    .dataframe tbody tr th {\n",
              "        vertical-align: top;\n",
              "    }\n",
              "\n",
              "    .dataframe thead th {\n",
              "        text-align: right;\n",
              "    }\n",
              "</style>\n",
              "<table border=\"1\" class=\"dataframe\">\n",
              "  <thead>\n",
              "    <tr style=\"text-align: right;\">\n",
              "      <th></th>\n",
              "      <th>total_bill</th>\n",
              "      <th>tip</th>\n",
              "      <th>sex</th>\n",
              "      <th>smoker</th>\n",
              "      <th>day</th>\n",
              "      <th>time</th>\n",
              "      <th>size</th>\n",
              "    </tr>\n",
              "  </thead>\n",
              "  <tbody>\n",
              "    <tr>\n",
              "      <th>0</th>\n",
              "      <td>16.99</td>\n",
              "      <td>1.01</td>\n",
              "      <td>Female</td>\n",
              "      <td>No</td>\n",
              "      <td>Sun</td>\n",
              "      <td>Dinner</td>\n",
              "      <td>2</td>\n",
              "    </tr>\n",
              "    <tr>\n",
              "      <th>1</th>\n",
              "      <td>10.34</td>\n",
              "      <td>1.66</td>\n",
              "      <td>Male</td>\n",
              "      <td>No</td>\n",
              "      <td>Sun</td>\n",
              "      <td>Dinner</td>\n",
              "      <td>3</td>\n",
              "    </tr>\n",
              "    <tr>\n",
              "      <th>2</th>\n",
              "      <td>21.01</td>\n",
              "      <td>3.50</td>\n",
              "      <td>Male</td>\n",
              "      <td>No</td>\n",
              "      <td>Sun</td>\n",
              "      <td>Dinner</td>\n",
              "      <td>3</td>\n",
              "    </tr>\n",
              "    <tr>\n",
              "      <th>3</th>\n",
              "      <td>23.68</td>\n",
              "      <td>3.31</td>\n",
              "      <td>Male</td>\n",
              "      <td>No</td>\n",
              "      <td>Sun</td>\n",
              "      <td>Dinner</td>\n",
              "      <td>2</td>\n",
              "    </tr>\n",
              "    <tr>\n",
              "      <th>4</th>\n",
              "      <td>24.59</td>\n",
              "      <td>3.61</td>\n",
              "      <td>Female</td>\n",
              "      <td>No</td>\n",
              "      <td>Sun</td>\n",
              "      <td>Dinner</td>\n",
              "      <td>4</td>\n",
              "    </tr>\n",
              "  </tbody>\n",
              "</table>\n",
              "</div>"
            ],
            "text/plain": [
              "   total_bill   tip     sex smoker  day    time  size\n",
              "0       16.99  1.01  Female     No  Sun  Dinner     2\n",
              "1       10.34  1.66    Male     No  Sun  Dinner     3\n",
              "2       21.01  3.50    Male     No  Sun  Dinner     3\n",
              "3       23.68  3.31    Male     No  Sun  Dinner     2\n",
              "4       24.59  3.61  Female     No  Sun  Dinner     4"
            ]
          },
          "execution_count": 41,
          "metadata": {},
          "output_type": "execute_result"
        }
      ],
      "source": [
        "import seaborn as sns\n",
        "tips = sns.load_dataset('tips')\n",
        "tips.head()"
      ]
    },
    {
      "cell_type": "code",
      "execution_count": null,
      "id": "0849852d-fd0e-4bb3-ab34-64694392285f",
      "metadata": {
        "id": "0849852d-fd0e-4bb3-ab34-64694392285f",
        "outputId": "22c788c9-d07c-4619-c19c-57ed17319017"
      },
      "outputs": [
        {
          "data": {
            "text/html": [
              "<div>\n",
              "<style scoped>\n",
              "    .dataframe tbody tr th:only-of-type {\n",
              "        vertical-align: middle;\n",
              "    }\n",
              "\n",
              "    .dataframe tbody tr th {\n",
              "        vertical-align: top;\n",
              "    }\n",
              "\n",
              "    .dataframe thead th {\n",
              "        text-align: right;\n",
              "    }\n",
              "</style>\n",
              "<table border=\"1\" class=\"dataframe\">\n",
              "  <thead>\n",
              "    <tr style=\"text-align: right;\">\n",
              "      <th></th>\n",
              "      <th>names</th>\n",
              "      <th>coef</th>\n",
              "      <th>se</th>\n",
              "      <th>T</th>\n",
              "      <th>pval</th>\n",
              "      <th>r2</th>\n",
              "      <th>adj_r2</th>\n",
              "      <th>CI[2.5%]</th>\n",
              "      <th>CI[97.5%]</th>\n",
              "    </tr>\n",
              "  </thead>\n",
              "  <tbody>\n",
              "    <tr>\n",
              "      <th>0</th>\n",
              "      <td>Intercept</td>\n",
              "      <td>0.92</td>\n",
              "      <td>0.16</td>\n",
              "      <td>5.76</td>\n",
              "      <td>0.0</td>\n",
              "      <td>0.46</td>\n",
              "      <td>0.45</td>\n",
              "      <td>0.61</td>\n",
              "      <td>1.23</td>\n",
              "    </tr>\n",
              "    <tr>\n",
              "      <th>1</th>\n",
              "      <td>total_bill</td>\n",
              "      <td>0.11</td>\n",
              "      <td>0.01</td>\n",
              "      <td>14.26</td>\n",
              "      <td>0.0</td>\n",
              "      <td>0.46</td>\n",
              "      <td>0.45</td>\n",
              "      <td>0.09</td>\n",
              "      <td>0.12</td>\n",
              "    </tr>\n",
              "  </tbody>\n",
              "</table>\n",
              "</div>"
            ],
            "text/plain": [
              "        names  coef    se      T  pval    r2  adj_r2  CI[2.5%]  CI[97.5%]\n",
              "0   Intercept  0.92  0.16   5.76   0.0  0.46    0.45      0.61       1.23\n",
              "1  total_bill  0.11  0.01  14.26   0.0  0.46    0.45      0.09       0.12"
            ]
          },
          "execution_count": 48,
          "metadata": {},
          "output_type": "execute_result"
        }
      ],
      "source": [
        "mod = pg.linear_regression(tips['total_bill'], tips['tip'])  # x축 y축\n",
        "mod.round(2)\n",
        "#p벨류 낮음 - 관계있음, 결정계수0.45"
      ]
    },
    {
      "cell_type": "code",
      "execution_count": null,
      "id": "ef86bfed-4469-4f13-aa0a-c4da0f2f8cb5",
      "metadata": {
        "id": "ef86bfed-4469-4f13-aa0a-c4da0f2f8cb5",
        "outputId": "68abd2c5-d0b0-4935-d568-14cc4dffff4c"
      },
      "outputs": [
        {
          "data": {
            "text/html": [
              "<table class=\"simpletable\">\n",
              "<caption>OLS Regression Results</caption>\n",
              "<tr>\n",
              "  <th>Dep. Variable:</th>           <td>tip</td>       <th>  R-squared:         </th> <td>   0.020</td>\n",
              "</tr>\n",
              "<tr>\n",
              "  <th>Model:</th>                   <td>OLS</td>       <th>  Adj. R-squared:    </th> <td>   0.008</td>\n",
              "</tr>\n",
              "<tr>\n",
              "  <th>Method:</th>             <td>Least Squares</td>  <th>  F-statistic:       </th> <td>   1.672</td>\n",
              "</tr>\n",
              "<tr>\n",
              "  <th>Date:</th>             <td>Fri, 12 Jan 2024</td> <th>  Prob (F-statistic):</th>  <td> 0.174</td> \n",
              "</tr>\n",
              "<tr>\n",
              "  <th>Time:</th>                 <td>16:46:15</td>     <th>  Log-Likelihood:    </th> <td> -422.43</td>\n",
              "</tr>\n",
              "<tr>\n",
              "  <th>No. Observations:</th>      <td>   244</td>      <th>  AIC:               </th> <td>   852.9</td>\n",
              "</tr>\n",
              "<tr>\n",
              "  <th>Df Residuals:</th>          <td>   240</td>      <th>  BIC:               </th> <td>   866.8</td>\n",
              "</tr>\n",
              "<tr>\n",
              "  <th>Df Model:</th>              <td>     3</td>      <th>                     </th>     <td> </td>   \n",
              "</tr>\n",
              "<tr>\n",
              "  <th>Covariance Type:</th>      <td>nonrobust</td>    <th>                     </th>     <td> </td>   \n",
              "</tr>\n",
              "</table>\n",
              "<table class=\"simpletable\">\n",
              "<tr>\n",
              "       <td></td>         <th>coef</th>     <th>std err</th>      <th>t</th>      <th>P>|t|</th>  <th>[0.025</th>    <th>0.975]</th>  \n",
              "</tr>\n",
              "<tr>\n",
              "  <th>Intercept</th>  <td>    2.7715</td> <td>    0.175</td> <td>   15.837</td> <td> 0.000</td> <td>    2.427</td> <td>    3.116</td>\n",
              "</tr>\n",
              "<tr>\n",
              "  <th>day[T.Fri]</th> <td>   -0.0367</td> <td>    0.361</td> <td>   -0.102</td> <td> 0.919</td> <td>   -0.748</td> <td>    0.675</td>\n",
              "</tr>\n",
              "<tr>\n",
              "  <th>day[T.Sat]</th> <td>    0.2217</td> <td>    0.229</td> <td>    0.968</td> <td> 0.334</td> <td>   -0.229</td> <td>    0.673</td>\n",
              "</tr>\n",
              "<tr>\n",
              "  <th>day[T.Sun]</th> <td>    0.4837</td> <td>    0.236</td> <td>    2.051</td> <td> 0.041</td> <td>    0.019</td> <td>    0.948</td>\n",
              "</tr>\n",
              "</table>\n",
              "<table class=\"simpletable\">\n",
              "<tr>\n",
              "  <th>Omnibus:</th>       <td>82.801</td> <th>  Durbin-Watson:     </th> <td>   1.962</td>\n",
              "</tr>\n",
              "<tr>\n",
              "  <th>Prob(Omnibus):</th> <td> 0.000</td> <th>  Jarque-Bera (JB):  </th> <td> 238.276</td>\n",
              "</tr>\n",
              "<tr>\n",
              "  <th>Skew:</th>          <td> 1.492</td> <th>  Prob(JB):          </th> <td>1.82e-52</td>\n",
              "</tr>\n",
              "<tr>\n",
              "  <th>Kurtosis:</th>      <td> 6.811</td> <th>  Cond. No.          </th> <td>    5.28</td>\n",
              "</tr>\n",
              "</table><br/><br/>Notes:<br/>[1] Standard Errors assume that the covariance matrix of the errors is correctly specified."
            ],
            "text/latex": [
              "\\begin{center}\n",
              "\\begin{tabular}{lclc}\n",
              "\\toprule\n",
              "\\textbf{Dep. Variable:}    &       tip        & \\textbf{  R-squared:         } &     0.020   \\\\\n",
              "\\textbf{Model:}            &       OLS        & \\textbf{  Adj. R-squared:    } &     0.008   \\\\\n",
              "\\textbf{Method:}           &  Least Squares   & \\textbf{  F-statistic:       } &     1.672   \\\\\n",
              "\\textbf{Date:}             & Fri, 12 Jan 2024 & \\textbf{  Prob (F-statistic):} &    0.174    \\\\\n",
              "\\textbf{Time:}             &     16:46:15     & \\textbf{  Log-Likelihood:    } &   -422.43   \\\\\n",
              "\\textbf{No. Observations:} &         244      & \\textbf{  AIC:               } &     852.9   \\\\\n",
              "\\textbf{Df Residuals:}     &         240      & \\textbf{  BIC:               } &     866.8   \\\\\n",
              "\\textbf{Df Model:}         &           3      & \\textbf{                     } &             \\\\\n",
              "\\textbf{Covariance Type:}  &    nonrobust     & \\textbf{                     } &             \\\\\n",
              "\\bottomrule\n",
              "\\end{tabular}\n",
              "\\begin{tabular}{lcccccc}\n",
              "                    & \\textbf{coef} & \\textbf{std err} & \\textbf{t} & \\textbf{P$> |$t$|$} & \\textbf{[0.025} & \\textbf{0.975]}  \\\\\n",
              "\\midrule\n",
              "\\textbf{Intercept}  &       2.7715  &        0.175     &    15.837  &         0.000        &        2.427    &        3.116     \\\\\n",
              "\\textbf{day[T.Fri]} &      -0.0367  &        0.361     &    -0.102  &         0.919        &       -0.748    &        0.675     \\\\\n",
              "\\textbf{day[T.Sat]} &       0.2217  &        0.229     &     0.968  &         0.334        &       -0.229    &        0.673     \\\\\n",
              "\\textbf{day[T.Sun]} &       0.4837  &        0.236     &     2.051  &         0.041        &        0.019    &        0.948     \\\\\n",
              "\\bottomrule\n",
              "\\end{tabular}\n",
              "\\begin{tabular}{lclc}\n",
              "\\textbf{Omnibus:}       & 82.801 & \\textbf{  Durbin-Watson:     } &    1.962  \\\\\n",
              "\\textbf{Prob(Omnibus):} &  0.000 & \\textbf{  Jarque-Bera (JB):  } &  238.276  \\\\\n",
              "\\textbf{Skew:}          &  1.492 & \\textbf{  Prob(JB):          } & 1.82e-52  \\\\\n",
              "\\textbf{Kurtosis:}      &  6.811 & \\textbf{  Cond. No.          } &     5.28  \\\\\n",
              "\\bottomrule\n",
              "\\end{tabular}\n",
              "%\\caption{OLS Regression Results}\n",
              "\\end{center}\n",
              "\n",
              "Notes: \\newline\n",
              " [1] Standard Errors assume that the covariance matrix of the errors is correctly specified."
            ],
            "text/plain": [
              "<class 'statsmodels.iolib.summary.Summary'>\n",
              "\"\"\"\n",
              "                            OLS Regression Results                            \n",
              "==============================================================================\n",
              "Dep. Variable:                    tip   R-squared:                       0.020\n",
              "Model:                            OLS   Adj. R-squared:                  0.008\n",
              "Method:                 Least Squares   F-statistic:                     1.672\n",
              "Date:                Fri, 12 Jan 2024   Prob (F-statistic):              0.174\n",
              "Time:                        16:46:15   Log-Likelihood:                -422.43\n",
              "No. Observations:                 244   AIC:                             852.9\n",
              "Df Residuals:                     240   BIC:                             866.8\n",
              "Df Model:                           3                                         \n",
              "Covariance Type:            nonrobust                                         \n",
              "==============================================================================\n",
              "                 coef    std err          t      P>|t|      [0.025      0.975]\n",
              "------------------------------------------------------------------------------\n",
              "Intercept      2.7715      0.175     15.837      0.000       2.427       3.116\n",
              "day[T.Fri]    -0.0367      0.361     -0.102      0.919      -0.748       0.675\n",
              "day[T.Sat]     0.2217      0.229      0.968      0.334      -0.229       0.673\n",
              "day[T.Sun]     0.4837      0.236      2.051      0.041       0.019       0.948\n",
              "==============================================================================\n",
              "Omnibus:                       82.801   Durbin-Watson:                   1.962\n",
              "Prob(Omnibus):                  0.000   Jarque-Bera (JB):              238.276\n",
              "Skew:                           1.492   Prob(JB):                     1.82e-52\n",
              "Kurtosis:                       6.811   Cond. No.                         5.28\n",
              "==============================================================================\n",
              "\n",
              "Notes:\n",
              "[1] Standard Errors assume that the covariance matrix of the errors is correctly specified.\n",
              "\"\"\""
            ]
          },
          "execution_count": 50,
          "metadata": {},
          "output_type": "execute_result"
        }
      ],
      "source": [
        "from statsmodels.formula.api import ols\n",
        "import statsmodels.formula.api as smf\n",
        "model = smf.ols(formula = 'tip ~ day', data = tips).fit()\n",
        "model.summary()\n",
        "# 코드"
      ]
    },
    {
      "cell_type": "code",
      "execution_count": null,
      "id": "feecd830-d00a-422b-b5ae-fd9221311cdb",
      "metadata": {
        "id": "feecd830-d00a-422b-b5ae-fd9221311cdb"
      },
      "outputs": [],
      "source": []
    }
  ],
  "metadata": {
    "kernelspec": {
      "display_name": "Python 3 (ipykernel)",
      "language": "python",
      "name": "python3"
    },
    "language_info": {
      "codemirror_mode": {
        "name": "ipython",
        "version": 3
      },
      "file_extension": ".py",
      "mimetype": "text/x-python",
      "name": "python",
      "nbconvert_exporter": "python",
      "pygments_lexer": "ipython3",
      "version": "3.10.13"
    },
    "colab": {
      "provenance": [],
      "include_colab_link": true
    }
  },
  "nbformat": 4,
  "nbformat_minor": 5
}